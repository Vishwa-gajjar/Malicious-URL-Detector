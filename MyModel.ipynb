{
 "cells": [
  {
   "cell_type": "code",
   "execution_count": 2,
   "id": "58b22f0a",
   "metadata": {},
   "outputs": [],
   "source": [
    "# Libraries\n",
    "import numpy as np\n",
    "import pandas as pd\n",
    "import matplotlib.pyplot as plt\n",
    "import seaborn as sns\n",
    "from wordcloud import WordCloud, STOPWORDS\n",
    "\n",
    "import tensorflow as tf\n",
    "from tensorflow import keras"
   ]
  },
  {
   "cell_type": "code",
   "execution_count": 3,
   "id": "20a3ab50",
   "metadata": {},
   "outputs": [
    {
     "data": {
      "text/html": [
       "<div>\n",
       "<style scoped>\n",
       "    .dataframe tbody tr th:only-of-type {\n",
       "        vertical-align: middle;\n",
       "    }\n",
       "\n",
       "    .dataframe tbody tr th {\n",
       "        vertical-align: top;\n",
       "    }\n",
       "\n",
       "    .dataframe thead th {\n",
       "        text-align: right;\n",
       "    }\n",
       "</style>\n",
       "<table border=\"1\" class=\"dataframe\">\n",
       "  <thead>\n",
       "    <tr style=\"text-align: right;\">\n",
       "      <th></th>\n",
       "      <th>url</th>\n",
       "      <th>type</th>\n",
       "    </tr>\n",
       "  </thead>\n",
       "  <tbody>\n",
       "    <tr>\n",
       "      <th>0</th>\n",
       "      <td>br-icloud.com.br</td>\n",
       "      <td>phishing</td>\n",
       "    </tr>\n",
       "    <tr>\n",
       "      <th>1</th>\n",
       "      <td>mp3raid.com/music/krizz_kaliko.html</td>\n",
       "      <td>benign</td>\n",
       "    </tr>\n",
       "    <tr>\n",
       "      <th>2</th>\n",
       "      <td>bopsecrets.org/rexroth/cr/1.htm</td>\n",
       "      <td>benign</td>\n",
       "    </tr>\n",
       "    <tr>\n",
       "      <th>3</th>\n",
       "      <td>http://www.garage-pirenne.be/index.php?option=...</td>\n",
       "      <td>defacement</td>\n",
       "    </tr>\n",
       "    <tr>\n",
       "      <th>4</th>\n",
       "      <td>http://adventure-nicaragua.net/index.php?optio...</td>\n",
       "      <td>defacement</td>\n",
       "    </tr>\n",
       "  </tbody>\n",
       "</table>\n",
       "</div>"
      ],
      "text/plain": [
       "                                                 url        type\n",
       "0                                   br-icloud.com.br    phishing\n",
       "1                mp3raid.com/music/krizz_kaliko.html      benign\n",
       "2                    bopsecrets.org/rexroth/cr/1.htm      benign\n",
       "3  http://www.garage-pirenne.be/index.php?option=...  defacement\n",
       "4  http://adventure-nicaragua.net/index.php?optio...  defacement"
      ]
     },
     "execution_count": 3,
     "metadata": {},
     "output_type": "execute_result"
    }
   ],
   "source": [
    "# Load the Dataset\n",
    "df = pd.read_csv('Dataset/malicious_phish.csv')\n",
    "df.head()"
   ]
  },
  {
   "cell_type": "code",
   "execution_count": 4,
   "id": "78f0b019",
   "metadata": {},
   "outputs": [
    {
     "name": "stdout",
     "output_type": "stream",
     "text": [
      "Index(['url', 'type'], dtype='object')\n"
     ]
    }
   ],
   "source": [
    "features = df.columns\n",
    "print(features)"
   ]
  },
  {
   "cell_type": "code",
   "execution_count": 5,
   "id": "ef2d5caf",
   "metadata": {},
   "outputs": [
    {
     "data": {
      "text/html": [
       "<div>\n",
       "<style scoped>\n",
       "    .dataframe tbody tr th:only-of-type {\n",
       "        vertical-align: middle;\n",
       "    }\n",
       "\n",
       "    .dataframe tbody tr th {\n",
       "        vertical-align: top;\n",
       "    }\n",
       "\n",
       "    .dataframe thead th {\n",
       "        text-align: right;\n",
       "    }\n",
       "</style>\n",
       "<table border=\"1\" class=\"dataframe\">\n",
       "  <thead>\n",
       "    <tr style=\"text-align: right;\">\n",
       "      <th></th>\n",
       "      <th>url</th>\n",
       "      <th>type</th>\n",
       "    </tr>\n",
       "  </thead>\n",
       "  <tbody>\n",
       "    <tr>\n",
       "      <th>count</th>\n",
       "      <td>651191</td>\n",
       "      <td>651191</td>\n",
       "    </tr>\n",
       "    <tr>\n",
       "      <th>unique</th>\n",
       "      <td>641119</td>\n",
       "      <td>4</td>\n",
       "    </tr>\n",
       "    <tr>\n",
       "      <th>top</th>\n",
       "      <td>http://style.org.hc360.com/css/detail/mysite/s...</td>\n",
       "      <td>benign</td>\n",
       "    </tr>\n",
       "    <tr>\n",
       "      <th>freq</th>\n",
       "      <td>180</td>\n",
       "      <td>428103</td>\n",
       "    </tr>\n",
       "  </tbody>\n",
       "</table>\n",
       "</div>"
      ],
      "text/plain": [
       "                                                      url    type\n",
       "count                                              651191  651191\n",
       "unique                                             641119       4\n",
       "top     http://style.org.hc360.com/css/detail/mysite/s...  benign\n",
       "freq                                                  180  428103"
      ]
     },
     "execution_count": 5,
     "metadata": {},
     "output_type": "execute_result"
    }
   ],
   "source": [
    "df.describe()"
   ]
  },
  {
   "cell_type": "code",
   "execution_count": 6,
   "id": "107e9584",
   "metadata": {},
   "outputs": [
    {
     "data": {
      "text/plain": [
       "benign        428103\n",
       "defacement     96457\n",
       "phishing       94111\n",
       "malware        32520\n",
       "Name: type, dtype: int64"
      ]
     },
     "execution_count": 6,
     "metadata": {},
     "output_type": "execute_result"
    }
   ],
   "source": [
    "df['type'].value_counts()"
   ]
  },
  {
   "cell_type": "code",
   "execution_count": 7,
   "id": "0e3b8be0",
   "metadata": {},
   "outputs": [],
   "source": [
    "# pip install wordcloud"
   ]
  },
  {
   "cell_type": "code",
   "execution_count": 8,
   "id": "0953ffb5",
   "metadata": {},
   "outputs": [
    {
     "data": {
      "image/png": "[encoded data removed]",
      "text/plain": [
       "<Figure size 720x360 with 1 Axes>"
      ]
     },
     "metadata": {
      "needs_background": "light"
     },
     "output_type": "display_data"
    }
   ],
   "source": [
    "plt.figure(figsize= (10 , 5))\n",
    "plt.title('Distribution of Types of Attacks')\n",
    "sns.countplot(x = 'type', data = df)\n",
    "# ax.bar_label(ax.containers[0])\n",
    "plt.xlabel('\\Attacks')\n",
    "plt.savefig('./Images/Distribution of Types of Attacks.png', bbox_inches='tight')"
   ]
  },
  {
   "cell_type": "markdown",
   "id": "0a16bab7",
   "metadata": {},
   "source": [
    "# Feature Engineering\n",
    "\n",
    "#### In this step, we will extract the following lexical features from raw URLs, as these features will be used as the input features for training the machine learning model. The following features are created as follows:"
   ]
  },
  {
   "cell_type": "markdown",
   "id": "4b3fe7a9",
   "metadata": {},
   "source": [
    "### having_ip_address: \n",
    "Generally cyber attackers use an IP address in place of the domain name to hide the identity of the website. this feature will check whether the URL has IP address or not."
   ]
  },
  {
   "cell_type": "code",
   "execution_count": 14,
   "id": "616302da",
   "metadata": {},
   "outputs": [],
   "source": [
    "import re\n",
    "\n",
    "#Use of IP or not in domain\n",
    "def having_ip_address(url):\n",
    "    match = re.search(\n",
    "        '(([01]?\\\\d\\\\d?|2[0-4]\\\\d|25[0-5])\\\\.([01]?\\\\d\\\\d?|2[0-4]\\\\d|25[0-5])\\\\.([01]?\\\\d\\\\d?|2[0-4]\\\\d|25[0-5])\\\\.'\n",
    "        '([01]?\\\\d\\\\d?|2[0-4]\\\\d|25[0-5])\\\\/)|'  # IPv4\n",
    "        '((0x[0-9a-fA-F]{1,2})\\\\.(0x[0-9a-fA-F]{1,2})\\\\.(0x[0-9a-fA-F]{1,2})\\\\.(0x[0-9a-fA-F]{1,2})\\\\/)' # IPv4 in hexadecimal\n",
    "        '(?:[a-fA-F0-9]{1,4}:){7}[a-fA-F0-9]{1,4}', url)  # Ipv6\n",
    "    \n",
    "    \n",
    "    if match:\n",
    "\n",
    "        return 1\n",
    "    else:\n",
    "\n",
    "        return 0\n",
    "\n",
    "df['use_of_ip'] = df['url'].apply(lambda i: having_ip_address(i))"
   ]
  },
  {
   "cell_type": "code",
   "execution_count": 15,
   "id": "01e634c7",
   "metadata": {},
   "outputs": [
    {
     "data": {
      "text/plain": [
       "0    643898\n",
       "1      7293\n",
       "Name: use_of_ip, dtype: int64"
      ]
     },
     "execution_count": 15,
     "metadata": {},
     "output_type": "execute_result"
    }
   ],
   "source": [
    "df['use_of_ip'].value_counts()"
   ]
  },
  {
   "cell_type": "code",
   "execution_count": 16,
   "id": "3a6adee6",
   "metadata": {},
   "outputs": [
    {
     "data": {
      "text/html": [
       "<div>\n",
       "<style scoped>\n",
       "    .dataframe tbody tr th:only-of-type {\n",
       "        vertical-align: middle;\n",
       "    }\n",
       "\n",
       "    .dataframe tbody tr th {\n",
       "        vertical-align: top;\n",
       "    }\n",
       "\n",
       "    .dataframe thead th {\n",
       "        text-align: right;\n",
       "    }\n",
       "</style>\n",
       "<table border=\"1\" class=\"dataframe\">\n",
       "  <thead>\n",
       "    <tr style=\"text-align: right;\">\n",
       "      <th></th>\n",
       "      <th>url</th>\n",
       "      <th>type</th>\n",
       "      <th>use_of_ip</th>\n",
       "    </tr>\n",
       "  </thead>\n",
       "  <tbody>\n",
       "    <tr>\n",
       "      <th>10408</th>\n",
       "      <td>http://219.232.244.89/intl/update/error_login.htm</td>\n",
       "      <td>phishing</td>\n",
       "      <td>1</td>\n",
       "    </tr>\n",
       "    <tr>\n",
       "      <th>12441</th>\n",
       "      <td>boards.ancestry.com/topics.ethnic.natam.nation...</td>\n",
       "      <td>benign</td>\n",
       "      <td>1</td>\n",
       "    </tr>\n",
       "    <tr>\n",
       "      <th>12853</th>\n",
       "      <td>http://www.controlyourbreath.com/new/css_/img/...</td>\n",
       "      <td>phishing</td>\n",
       "      <td>1</td>\n",
       "    </tr>\n",
       "    <tr>\n",
       "      <th>13161</th>\n",
       "      <td>http://www.reqntpvw.com/Public/softs/everythin...</td>\n",
       "      <td>malware</td>\n",
       "      <td>1</td>\n",
       "    </tr>\n",
       "    <tr>\n",
       "      <th>14915</th>\n",
       "      <td>http://66.208.115.70/images/index.asp</td>\n",
       "      <td>phishing</td>\n",
       "      <td>1</td>\n",
       "    </tr>\n",
       "    <tr>\n",
       "      <th>...</th>\n",
       "      <td>...</td>\n",
       "      <td>...</td>\n",
       "      <td>...</td>\n",
       "    </tr>\n",
       "    <tr>\n",
       "      <th>598624</th>\n",
       "      <td>helapharm.ro/css_/img/webscr/cmd_/e2tUc17DNO4H...</td>\n",
       "      <td>benign</td>\n",
       "      <td>1</td>\n",
       "    </tr>\n",
       "    <tr>\n",
       "      <th>598638</th>\n",
       "      <td>helapharm.ro/css_/img/webscr/cmd_/e2tUc17DNO4H...</td>\n",
       "      <td>benign</td>\n",
       "      <td>1</td>\n",
       "    </tr>\n",
       "    <tr>\n",
       "      <th>601657</th>\n",
       "      <td>www.mairie-saint-avold.fr/admin/125.14.226.143...</td>\n",
       "      <td>benign</td>\n",
       "      <td>1</td>\n",
       "    </tr>\n",
       "    <tr>\n",
       "      <th>601697</th>\n",
       "      <td>www.mairie-saint-avold.fr/admin/190.244.107.16...</td>\n",
       "      <td>benign</td>\n",
       "      <td>1</td>\n",
       "    </tr>\n",
       "    <tr>\n",
       "      <th>601700</th>\n",
       "      <td>www.mairie-saint-avold.fr/admin/190.244.107.16...</td>\n",
       "      <td>benign</td>\n",
       "      <td>1</td>\n",
       "    </tr>\n",
       "  </tbody>\n",
       "</table>\n",
       "<p>7293 rows × 3 columns</p>\n",
       "</div>"
      ],
      "text/plain": [
       "                                                      url      type  use_of_ip\n",
       "10408   http://219.232.244.89/intl/update/error_login.htm  phishing          1\n",
       "12441   boards.ancestry.com/topics.ethnic.natam.nation...    benign          1\n",
       "12853   http://www.controlyourbreath.com/new/css_/img/...  phishing          1\n",
       "13161   http://www.reqntpvw.com/Public/softs/everythin...   malware          1\n",
       "14915               http://66.208.115.70/images/index.asp  phishing          1\n",
       "...                                                   ...       ...        ...\n",
       "598624  helapharm.ro/css_/img/webscr/cmd_/e2tUc17DNO4H...    benign          1\n",
       "598638  helapharm.ro/css_/img/webscr/cmd_/e2tUc17DNO4H...    benign          1\n",
       "601657  www.mairie-saint-avold.fr/admin/125.14.226.143...    benign          1\n",
       "601697  www.mairie-saint-avold.fr/admin/190.244.107.16...    benign          1\n",
       "601700  www.mairie-saint-avold.fr/admin/190.244.107.16...    benign          1\n",
       "\n",
       "[7293 rows x 3 columns]"
      ]
     },
     "execution_count": 16,
     "metadata": {},
     "output_type": "execute_result"
    }
   ],
   "source": [
    "df[df['use_of_ip'] == 1]"
   ]
  },
  {
   "cell_type": "code",
   "execution_count": 17,
   "id": "0b635748",
   "metadata": {},
   "outputs": [
    {
     "data": {
      "text/plain": [
       "Text(0.5, 1.0, 'Usage of Ip Address in domain name in Diffrent types of attacks')"
      ]
     },
     "execution_count": 17,
     "metadata": {},
     "output_type": "execute_result"
    },
    {
     "data": {
      "image/png": "[encoded data removed]",
      "text/plain": [
       "<Figure size 576x432 with 1 Axes>"
      ]
     },
     "metadata": {
      "needs_background": "light"
     },
     "output_type": "display_data"
    }
   ],
   "source": [
    "\n",
    "plt.figure(figsize = (8 , 6))\n",
    "sns.set(style=\"darkgrid\")\n",
    "ax = sns.countplot(x=\"type\", data=df, hue=\"use_of_ip\")\n",
    "plt.xlabel('Types of Attacks')\n",
    "plt.title(\"Usage of Ip Address in domain name in Diffrent types of attacks\")"
   ]
  },
  {
   "cell_type": "code",
   "execution_count": 18,
   "id": "70d2ce0b",
   "metadata": {},
   "outputs": [
    {
     "data": {
      "text/plain": [
       "(89,)"
      ]
     },
     "execution_count": 18,
     "metadata": {},
     "output_type": "execute_result"
    }
   ],
   "source": [
    "arr = np.where(df[df['type'] == 'benign']['use_of_ip'] == 1)\n",
    "arr[0].shape"
   ]
  },
  {
   "cell_type": "code",
   "execution_count": 19,
   "id": "6eabf7a4",
   "metadata": {},
   "outputs": [
    {
     "data": {
      "text/plain": [
       "(6870,)"
      ]
     },
     "execution_count": 19,
     "metadata": {},
     "output_type": "execute_result"
    }
   ],
   "source": [
    "arr = np.where(df[df['type'] == 'malware']['use_of_ip'] == 1)\n",
    "arr[0].shape"
   ]
  },
  {
   "cell_type": "code",
   "execution_count": 20,
   "id": "62625424",
   "metadata": {},
   "outputs": [
    {
     "data": {
      "text/plain": [
       "(334,)"
      ]
     },
     "execution_count": 20,
     "metadata": {},
     "output_type": "execute_result"
    }
   ],
   "source": [
    "arr = np.where(df[df['type'] == 'phishing']['use_of_ip'] == 1)\n",
    "arr[0].shape"
   ]
  },
  {
   "cell_type": "code",
   "execution_count": 21,
   "id": "7f2139fb",
   "metadata": {},
   "outputs": [
    {
     "data": {
      "text/plain": [
       "(0,)"
      ]
     },
     "execution_count": 21,
     "metadata": {},
     "output_type": "execute_result"
    }
   ],
   "source": [
    "arr = np.where(df[df['type'] == 'defacement']['use_of_ip'] == 1)\n",
    "arr[0].shape"
   ]
  },
  {
   "cell_type": "markdown",
   "id": "6bdf394a",
   "metadata": {},
   "source": [
    "### Abnormal URL\n",
    "\n",
    "This feature can be extracted from the WHOIS database. For a legitimate website, identity is typically part of its URL."
   ]
  },
  {
   "cell_type": "code",
   "execution_count": 22,
   "id": "9d5dee82",
   "metadata": {},
   "outputs": [],
   "source": [
    "from urllib.parse import urlparse\n",
    "\n",
    "def abnormal_url(url):\n",
    "    hostname = urlparse(url).hostname\n",
    "    hostname = str(hostname)\n",
    "    match = re.search(hostname, url)\n",
    "    if match:      \n",
    "        return 1\n",
    "    else:\n",
    "       \n",
    "        return 0\n",
    "\n",
    "\n",
    "df['abnormal_url'] = df['url'].apply(lambda i: abnormal_url(i))"
   ]
  },
  {
   "cell_type": "code",
   "execution_count": 23,
   "id": "c4b61caa",
   "metadata": {},
   "outputs": [
    {
     "data": {
      "text/plain": [
       "0    463185\n",
       "1    188006\n",
       "Name: abnormal_url, dtype: int64"
      ]
     },
     "execution_count": 23,
     "metadata": {},
     "output_type": "execute_result"
    }
   ],
   "source": [
    "df['abnormal_url'].value_counts()"
   ]
  },
  {
   "cell_type": "code",
   "execution_count": 24,
   "id": "35fd7024",
   "metadata": {},
   "outputs": [
    {
     "data": {
      "text/plain": [
       "Text(0.5, 1.0, 'Usage of Ip Address in domain name in Diffrent types of attacks')"
      ]
     },
     "execution_count": 24,
     "metadata": {},
     "output_type": "execute_result"
    },
    {
     "data": {
      "image/png": "[encoded data removed]",
      "text/plain": [
       "<Figure size 576x432 with 1 Axes>"
      ]
     },
     "metadata": {},
     "output_type": "display_data"
    }
   ],
   "source": [
    "plt.figure(figsize = (8 , 6))\n",
    "sns.set(style=\"darkgrid\")\n",
    "ax = sns.countplot(x=\"type\", data=df, hue=\"abnormal_url\")\n",
    "plt.xlabel('Types of Attacks')\n",
    "plt.title(\"Usage of Ip Address in domain name in Diffrent types of attacks\")"
   ]
  },
  {
   "cell_type": "code",
   "execution_count": 25,
   "id": "d6cf0937",
   "metadata": {},
   "outputs": [
    {
     "data": {
      "text/plain": [
       "0    392709\n",
       "1     35394\n",
       "Name: abnormal_url, dtype: int64"
      ]
     },
     "execution_count": 25,
     "metadata": {},
     "output_type": "execute_result"
    }
   ],
   "source": [
    "arr = df[df['type'] == 'benign']['abnormal_url'].value_counts()\n",
    "# arr[0].shape\n",
    "arr"
   ]
  },
  {
   "cell_type": "code",
   "execution_count": 26,
   "id": "0c57adb6",
   "metadata": {},
   "outputs": [
    {
     "data": {
      "text/plain": [
       "0    69266\n",
       "1    24845\n",
       "Name: abnormal_url, dtype: int64"
      ]
     },
     "execution_count": 26,
     "metadata": {},
     "output_type": "execute_result"
    }
   ],
   "source": [
    "arr = df[df['type'] == 'phishing']['abnormal_url'].value_counts()\n",
    "# arr[0].shape\n",
    "arr"
   ]
  },
  {
   "cell_type": "code",
   "execution_count": 27,
   "id": "f9e62cd6",
   "metadata": {},
   "outputs": [
    {
     "data": {
      "text/plain": [
       "1    96457\n",
       "Name: abnormal_url, dtype: int64"
      ]
     },
     "execution_count": 27,
     "metadata": {},
     "output_type": "execute_result"
    }
   ],
   "source": [
    "arr = df[df['type'] == 'defacement']['abnormal_url'].value_counts()\n",
    "# arr[0].shape\n",
    "arr"
   ]
  },
  {
   "cell_type": "code",
   "execution_count": 28,
   "id": "c5112088",
   "metadata": {},
   "outputs": [
    {
     "data": {
      "text/plain": [
       "1    31310\n",
       "0     1210\n",
       "Name: abnormal_url, dtype: int64"
      ]
     },
     "execution_count": 28,
     "metadata": {},
     "output_type": "execute_result"
    }
   ],
   "source": [
    "arr = df[df['type'] == 'malware']['abnormal_url'].value_counts()\n",
    "# arr[0].shape\n",
    "arr"
   ]
  },
  {
   "cell_type": "code",
   "execution_count": 29,
   "id": "c2b5a4fb",
   "metadata": {},
   "outputs": [],
   "source": [
    "# pip install googlesearch-python"
   ]
  },
  {
   "cell_type": "code",
   "execution_count": 30,
   "id": "6a404a3d",
   "metadata": {},
   "outputs": [],
   "source": [
    "from googlesearch import search"
   ]
  },
  {
   "cell_type": "markdown",
   "id": "7789274d",
   "metadata": {},
   "source": [
    "### google_index:\n",
    "In this feature, we check whether the URL is indexed in google search console or not."
   ]
  },
  {
   "cell_type": "code",
   "execution_count": 31,
   "id": "0334d11d",
   "metadata": {},
   "outputs": [],
   "source": [
    "def google_index(url):\n",
    "    \n",
    "    site = search(url, 5)\n",
    "    return 1 if site else 0\n",
    "\n",
    "df['google_index'] = df['url'].apply(lambda i: google_index(i))"
   ]
  },
  {
   "cell_type": "code",
   "execution_count": 32,
   "id": "0971d2ea",
   "metadata": {},
   "outputs": [
    {
     "name": "stdout",
     "output_type": "stream",
     "text": [
      "br-icloud.com.br\n",
      "https://www.apple.com/br/icloud/\n",
      "https://www.icloud.com/\n",
      "https://www.icloud.com/?s=Iseo\n",
      "https://www.icloud.com/?q=/\n",
      "https://www.icloud.com/?p=6\n",
      "https://www.icloud.com/?w\n",
      "https://www.icloud.com/?lang=th\n",
      "https://www.icloud.com/find\n",
      "https://www.icloud.com/iclouddrive\n",
      "https://www.icloud.com.br/\n",
      "https://canaltech.com.br/ios/como-acessar-a-nuvem-do-iphone/\n"
     ]
    }
   ],
   "source": [
    "print(df['url'][0])\n",
    "for j in search(df['url'][0], num_results=10):\n",
    "    print(j)"
   ]
  },
  {
   "cell_type": "code",
   "execution_count": 33,
   "id": "3cdc8312",
   "metadata": {},
   "outputs": [
    {
     "data": {
      "text/plain": [
       "1    651191\n",
       "Name: google_index, dtype: int64"
      ]
     },
     "execution_count": 33,
     "metadata": {},
     "output_type": "execute_result"
    }
   ],
   "source": [
    "df['google_index'].value_counts()"
   ]
  },
  {
   "cell_type": "markdown",
   "id": "8ec9c226",
   "metadata": {},
   "source": [
    "### Count dot (.) : \n",
    "The phishing or malware websites generally use more than two sub-domains in the URL. Each domain is separated by dot (.). If any URL contains more than three dots(.), then it increases the probability of a malicious site."
   ]
  },
  {
   "cell_type": "code",
   "execution_count": 34,
   "id": "b4971dfa",
   "metadata": {},
   "outputs": [],
   "source": [
    "def count_dot(url):\n",
    "    count_dot = url.count('.')\n",
    "    return count_dot\n",
    "\n",
    "df['count.'] = df['url'].apply(lambda i: count_dot(i))"
   ]
  },
  {
   "cell_type": "code",
   "execution_count": 35,
   "id": "6aba3945",
   "metadata": {},
   "outputs": [
    {
     "data": {
      "text/plain": [
       "2     236038\n",
       "1     219105\n",
       "3     129667\n",
       "4      40227\n",
       "5       9436\n",
       "6       5729\n",
       "7       3570\n",
       "8       1566\n",
       "9       1150\n",
       "10      1114\n",
       "11       973\n",
       "12       757\n",
       "13       505\n",
       "14       379\n",
       "15       259\n",
       "16       144\n",
       "20       129\n",
       "17       118\n",
       "19        88\n",
       "18        70\n",
       "0         61\n",
       "22        24\n",
       "24        22\n",
       "21        18\n",
       "23        10\n",
       "25         9\n",
       "36         5\n",
       "27         4\n",
       "26         4\n",
       "42         3\n",
       "35         3\n",
       "31         1\n",
       "37         1\n",
       "34         1\n",
       "28         1\n",
       "Name: count., dtype: int64"
      ]
     },
     "execution_count": 35,
     "metadata": {},
     "output_type": "execute_result"
    }
   ],
   "source": [
    "df['count.'].value_counts()"
   ]
  },
  {
   "cell_type": "code",
   "execution_count": 36,
   "id": "8e8a45ef",
   "metadata": {},
   "outputs": [
    {
     "data": {
      "text/plain": [
       "Text(0.5, 1.0, 'No. Of Dots Available in URLS ')"
      ]
     },
     "execution_count": 36,
     "metadata": {},
     "output_type": "execute_result"
    },
    {
     "data": {
      "image/png": "[encoded data removed]",
      "text/plain": [
       "<Figure size 1584x7200 with 1 Axes>"
      ]
     },
     "metadata": {},
     "output_type": "display_data"
    }
   ],
   "source": [
    "plt.figure(figsize = (22 , 100))\n",
    "sns.set(style=\"darkgrid\")\n",
    "ax = sns.countplot(y=\"count.\", data=df)\n",
    "plt.ylabel('No. of Dots in URL')\n",
    "plt.title(\"No. Of Dots Available in URLS \")"
   ]
  },
  {
   "cell_type": "code",
   "execution_count": null,
   "id": "c348173b",
   "metadata": {},
   "outputs": [],
   "source": []
  },
  {
   "cell_type": "markdown",
   "id": "cd2479ff",
   "metadata": {},
   "source": [
    "### Count-www: \n",
    "Generally most of the safe websites have one www in its URL. This feature helps in detecting malicious websites if the URL has no or more than one www in its URL."
   ]
  },
  {
   "cell_type": "code",
   "execution_count": 37,
   "id": "5d07c5b3",
   "metadata": {},
   "outputs": [],
   "source": [
    "def count_www(url):\n",
    "    url.count('www')\n",
    "    return url.count('www')\n",
    "\n",
    "df['count-www'] = df['url'].apply(lambda i: count_www(i))"
   ]
  },
  {
   "cell_type": "code",
   "execution_count": 38,
   "id": "462f7783",
   "metadata": {},
   "outputs": [
    {
     "data": {
      "text/plain": [
       "0    525525\n",
       "1    124178\n",
       "2      1422\n",
       "3        58\n",
       "4         7\n",
       "5         1\n",
       "Name: count-www, dtype: int64"
      ]
     },
     "execution_count": 38,
     "metadata": {},
     "output_type": "execute_result"
    }
   ],
   "source": [
    "df['count-www'].value_counts()"
   ]
  },
  {
   "cell_type": "code",
   "execution_count": 39,
   "id": "57b5f646",
   "metadata": {},
   "outputs": [
    {
     "data": {
      "text/plain": [
       "Text(0.5, 1.0, 'No. Of WWW Available in URLS ')"
      ]
     },
     "execution_count": 39,
     "metadata": {},
     "output_type": "execute_result"
    },
    {
     "data": {
      "image/png": "[encoded data removed]",
      "text/plain": [
       "<Figure size 576x288 with 1 Axes>"
      ]
     },
     "metadata": {},
     "output_type": "display_data"
    }
   ],
   "source": [
    "plt.figure(figsize = (8 , 4))\n",
    "sns.set(style=\"darkgrid\")\n",
    "ax = sns.countplot(x=\"count-www\", data=df)\n",
    "plt.ylabel('Count of WWW in URL')\n",
    "plt.title(\"No. Of WWW Available in URLS \")"
   ]
  },
  {
   "cell_type": "markdown",
   "id": "6efb55c2",
   "metadata": {},
   "source": [
    "### count@: \n",
    "The presence of the “@” symbol in the URL ignores everything previous to it. "
   ]
  },
  {
   "cell_type": "code",
   "execution_count": 40,
   "id": "51f28fee",
   "metadata": {},
   "outputs": [],
   "source": [
    "def count_atrate(url):\n",
    "     \n",
    "    return url.count('@')\n",
    "\n",
    "df['count@'] = df['url'].apply(lambda i: count_atrate(i))"
   ]
  },
  {
   "cell_type": "code",
   "execution_count": 41,
   "id": "dcb49c7c",
   "metadata": {},
   "outputs": [
    {
     "data": {
      "text/plain": [
       "0     649845\n",
       "1       1290\n",
       "2         40\n",
       "3          9\n",
       "4          3\n",
       "10         3\n",
       "6          1\n",
       "Name: count@, dtype: int64"
      ]
     },
     "execution_count": 41,
     "metadata": {},
     "output_type": "execute_result"
    }
   ],
   "source": [
    "df['count@'].value_counts()"
   ]
  },
  {
   "cell_type": "code",
   "execution_count": 42,
   "id": "ff5e44e2",
   "metadata": {},
   "outputs": [
    {
     "data": {
      "text/plain": [
       "Text(0.5, 1.0, 'No. Of @ Available in URLS ')"
      ]
     },
     "execution_count": 42,
     "metadata": {},
     "output_type": "execute_result"
    },
    {
     "data": {
      "image/png": "[encoded data removed]",
      "text/plain": [
       "<Figure size 576x288 with 1 Axes>"
      ]
     },
     "metadata": {},
     "output_type": "display_data"
    }
   ],
   "source": [
    "plt.figure(figsize = (8 , 4))\n",
    "sns.set(style=\"darkgrid\")\n",
    "ax = sns.countplot(x=\"count@\", data=df)\n",
    "plt.xlabel('Count of @ in URL')\n",
    "plt.title(\"No. Of @ Available in URLS \")"
   ]
  },
  {
   "cell_type": "markdown",
   "id": "c95c110c",
   "metadata": {},
   "source": [
    "### Count_dir: \n",
    "The presence of multiple directories in the URL generally indicates suspicious websites."
   ]
  },
  {
   "cell_type": "code",
   "execution_count": 43,
   "id": "ccff1bdb",
   "metadata": {},
   "outputs": [],
   "source": [
    "def no_of_dir(url):\n",
    "    urldir = urlparse(url).path\n",
    "#     print(urldir)\n",
    "    return urldir.count('/')\n",
    "\n",
    "df['count_dir'] = df['url'].apply(lambda i: no_of_dir(i))"
   ]
  },
  {
   "cell_type": "code",
   "execution_count": 44,
   "id": "c0fca4d3",
   "metadata": {},
   "outputs": [
    {
     "name": "stdout",
     "output_type": "stream",
     "text": [
      "http://buzzfil.net/m/show-art/ils-etaient-loin-de-s-imaginer-que-le-hibou-allait-faire-ceci-quand-ils-filmaient-2.html\n"
     ]
    },
    {
     "data": {
      "text/plain": [
       "3"
      ]
     },
     "execution_count": 44,
     "metadata": {},
     "output_type": "execute_result"
    }
   ],
   "source": [
    "print(df['url'][5])\n",
    "no_of_dir(df['url'][5])"
   ]
  },
  {
   "cell_type": "code",
   "execution_count": 45,
   "id": "21e55d4f",
   "metadata": {},
   "outputs": [
    {
     "data": {
      "text/plain": [
       "1     208263\n",
       "2     185322\n",
       "3     120164\n",
       "4      53510\n",
       "5      35379\n",
       "0      23046\n",
       "6      14204\n",
       "7       5671\n",
       "8       2326\n",
       "10      1362\n",
       "9        966\n",
       "11       343\n",
       "13       176\n",
       "12       165\n",
       "14       161\n",
       "16        50\n",
       "15        32\n",
       "22        12\n",
       "18        10\n",
       "17         9\n",
       "21         5\n",
       "19         3\n",
       "24         2\n",
       "27         2\n",
       "23         2\n",
       "39         1\n",
       "28         1\n",
       "25         1\n",
       "20         1\n",
       "32         1\n",
       "34         1\n",
       "Name: count_dir, dtype: int64"
      ]
     },
     "execution_count": 45,
     "metadata": {},
     "output_type": "execute_result"
    }
   ],
   "source": [
    "df['count_dir'].value_counts()"
   ]
  },
  {
   "cell_type": "markdown",
   "id": "31954e1c",
   "metadata": {},
   "source": [
    "### Count_embed_domain: \n",
    "The number of the embedded domains can be helpful in detecting malicious URLs. It can be done by checking the occurrence of “//” in the URL.\n"
   ]
  },
  {
   "cell_type": "code",
   "execution_count": 46,
   "id": "d1b2b850",
   "metadata": {},
   "outputs": [],
   "source": [
    "def no_of_embed(url):\n",
    "    urldir = urlparse(url).path\n",
    "    return urldir.count('//')\n",
    "\n",
    "df['count_embed_domain'] = df['url'].apply(lambda i: no_of_embed(i))"
   ]
  },
  {
   "cell_type": "code",
   "execution_count": 47,
   "id": "86d64f2a",
   "metadata": {},
   "outputs": [
    {
     "name": "stdout",
     "output_type": "stream",
     "text": [
      "yourbittorrent.com/?q=anthony-hamilton-soulife\n",
      "yourbittorrent.com/\n"
     ]
    },
    {
     "data": {
      "text/plain": [
       "0"
      ]
     },
     "execution_count": 47,
     "metadata": {},
     "output_type": "execute_result"
    }
   ],
   "source": [
    "def no_of_embed(url):\n",
    "    urldir = urlparse(url).path\n",
    "    \n",
    "    print(urldir)\n",
    "    return urldir.count('//')\n",
    "\n",
    "print(df['url'][7])\n",
    "no_of_embed(df['url'][7])\n"
   ]
  },
  {
   "cell_type": "code",
   "execution_count": 48,
   "id": "1914fd3e",
   "metadata": {},
   "outputs": [
    {
     "data": {
      "text/plain": [
       "0    650205\n",
       "1       974\n",
       "2        12\n",
       "Name: count_embed_domain, dtype: int64"
      ]
     },
     "execution_count": 48,
     "metadata": {},
     "output_type": "execute_result"
    }
   ],
   "source": [
    "df['count_embed_domain'].value_counts()"
   ]
  },
  {
   "cell_type": "code",
   "execution_count": 49,
   "id": "4614e61a",
   "metadata": {},
   "outputs": [
    {
     "data": {
      "text/plain": [
       "Text(0.5, 1.0, 'No. Of embedded domain Available in URLS ')"
      ]
     },
     "execution_count": 49,
     "metadata": {},
     "output_type": "execute_result"
    },
    {
     "data": {
      "image/png": "[encoded data removed]",
      "text/plain": [
       "<Figure size 576x288 with 1 Axes>"
      ]
     },
     "metadata": {},
     "output_type": "display_data"
    }
   ],
   "source": [
    "plt.figure(figsize = (8 , 4))\n",
    "sns.set(style=\"darkgrid\")\n",
    "ax = sns.countplot(x=\"count_embed_domain\", data=df)\n",
    "plt.xlabel('Count of embedded domain in URL')\n",
    "plt.title(\"No. Of embedded domain Available in URLS \")"
   ]
  },
  {
   "cell_type": "markdown",
   "id": "5f8d54c9",
   "metadata": {},
   "source": [
    "### Suspicious words in URL: \n",
    "Malicious URLs generally contain suspicious words in the URL such as PayPal, login, sign in, bank, account, update, bonus, service, ebayisapi, token, etc. We have found the presence of such frequently occurring suspicious words in the URL as a binary variable i.e., whether such words present in the URL or not."
   ]
  },
  {
   "cell_type": "code",
   "execution_count": 50,
   "id": "b99cd66d",
   "metadata": {},
   "outputs": [],
   "source": [
    "def suspicious_words(url):\n",
    "    match = re.search('PayPal|login|signin|bank|account|update|free|lucky|service|bonus|ebayisapi|webscr',\n",
    "                      url)\n",
    "    if match:\n",
    "        return 1\n",
    "    else:\n",
    "        return 0\n",
    "    \n",
    "df['sus_url'] = df['url'].apply(lambda i: suspicious_words(i))"
   ]
  },
  {
   "cell_type": "code",
   "execution_count": 51,
   "id": "5b1775f8",
   "metadata": {},
   "outputs": [
    {
     "data": {
      "text/plain": [
       "0    607818\n",
       "1     43373\n",
       "Name: sus_url, dtype: int64"
      ]
     },
     "execution_count": 51,
     "metadata": {},
     "output_type": "execute_result"
    }
   ],
   "source": [
    "df['sus_url'].value_counts()"
   ]
  },
  {
   "cell_type": "code",
   "execution_count": 52,
   "id": "eaecf434",
   "metadata": {},
   "outputs": [
    {
     "data": {
      "text/plain": [
       "Text(0.5, 1.0, 'No. Of Suspicious Words  Available in URLS ')"
      ]
     },
     "execution_count": 52,
     "metadata": {},
     "output_type": "execute_result"
    },
    {
     "data": {
      "image/png": "[encoded data removed]",
      "text/plain": [
       "<Figure size 576x288 with 1 Axes>"
      ]
     },
     "metadata": {},
     "output_type": "display_data"
    }
   ],
   "source": [
    "plt.figure(figsize = (8 , 4))\n",
    "sns.set(style=\"darkgrid\")\n",
    "ax = sns.countplot(x=\"sus_url\", data=df)\n",
    "plt.xlabel('Count of Suspicious Words in URL')\n",
    "plt.title(\"No. Of Suspicious Words  Available in URLS \")"
   ]
  },
  {
   "cell_type": "code",
   "execution_count": 53,
   "id": "c107b465",
   "metadata": {},
   "outputs": [
    {
     "data": {
      "image/png": "[encoded data removed]",
      "text/plain": [
       "<Figure size 432x288 with 1 Axes>"
      ]
     },
     "metadata": {},
     "output_type": "display_data"
    }
   ],
   "source": [
    "sns.set(style=\"darkgrid\")\n",
    "ax = sns.countplot(y=\"type\", data=df,hue=\"sus_url\")"
   ]
  },
  {
   "cell_type": "markdown",
   "id": "6f8d3c2c",
   "metadata": {},
   "source": [
    "### Short_url: \n",
    "This feature is created to identify whether the URL uses URL shortening services like bit. \\ly, goo.gl, go2l.ink, etc."
   ]
  },
  {
   "cell_type": "code",
   "execution_count": 54,
   "id": "9d85e0f4",
   "metadata": {},
   "outputs": [],
   "source": [
    "def shortening_service(url):\n",
    "    match = re.search('bit\\.ly|goo\\.gl|shorte\\.st|go2l\\.ink|x\\.co|ow\\.ly|t\\.co|tinyurl|tr\\.im|is\\.gd|cli\\.gs|'\n",
    "                      'yfrog\\.com|migre\\.me|ff\\.im|tiny\\.cc|url4\\.eu|twit\\.ac|su\\.pr|twurl\\.nl|snipurl\\.com|'\n",
    "                      'short\\.to|BudURL\\.com|ping\\.fm|post\\.ly|Just\\.as|bkite\\.com|snipr\\.com|fic\\.kr|loopt\\.us|'\n",
    "                      'doiop\\.com|short\\.ie|kl\\.am|wp\\.me|rubyurl\\.com|om\\.ly|to\\.ly|bit\\.do|t\\.co|lnkd\\.in|'\n",
    "                      'db\\.tt|qr\\.ae|adf\\.ly|goo\\.gl|bitly\\.com|cur\\.lv|tinyurl\\.com|ow\\.ly|bit\\.ly|ity\\.im|'\n",
    "                      'q\\.gs|is\\.gd|po\\.st|bc\\.vc|twitthis\\.com|u\\.to|j\\.mp|buzurl\\.com|cutt\\.us|u\\.bb|yourls\\.org|'\n",
    "                      'x\\.co|prettylinkpro\\.com|scrnch\\.me|filoops\\.info|vzturl\\.com|qr\\.net|1url\\.com|tweez\\.me|v\\.gd|'\n",
    "                      'tr\\.im|link\\.zip\\.net',\n",
    "                      url)\n",
    "    if match:\n",
    "        return 1\n",
    "    else:\n",
    "        return 0\n",
    "    \n",
    "    \n",
    "df['short_url'] = df['url'].apply(lambda i: shortening_service(i))"
   ]
  },
  {
   "cell_type": "code",
   "execution_count": 55,
   "id": "682c1139",
   "metadata": {},
   "outputs": [
    {
     "data": {
      "text/plain": [
       "0    611436\n",
       "1     39755\n",
       "Name: short_url, dtype: int64"
      ]
     },
     "execution_count": 55,
     "metadata": {},
     "output_type": "execute_result"
    }
   ],
   "source": [
    "df['short_url'].value_counts()"
   ]
  },
  {
   "cell_type": "code",
   "execution_count": 56,
   "id": "979f3ea3",
   "metadata": {},
   "outputs": [
    {
     "data": {
      "text/plain": [
       "Text(0.5, 1.0, 'Identify whether the URL uses URL shortening services')"
      ]
     },
     "execution_count": 56,
     "metadata": {},
     "output_type": "execute_result"
    },
    {
     "data": {
      "image/png": "[encoded data removed]",
      "text/plain": [
       "<Figure size 576x288 with 1 Axes>"
      ]
     },
     "metadata": {},
     "output_type": "display_data"
    }
   ],
   "source": [
    "plt.figure(figsize = (8 , 4))\n",
    "sns.set(style=\"darkgrid\")\n",
    "ax = sns.countplot(x=\"short_url\", data=df)\n",
    "plt.xlabel('Short URL')\n",
    "plt.title(\"Identify whether the URL uses URL shortening services\")"
   ]
  },
  {
   "cell_type": "code",
   "execution_count": 57,
   "id": "26cfaec0",
   "metadata": {},
   "outputs": [
    {
     "data": {
      "image/png": "[encoded data removed]",
      "text/plain": [
       "<Figure size 432x288 with 1 Axes>"
      ]
     },
     "metadata": {},
     "output_type": "display_data"
    }
   ],
   "source": [
    "sns.set(style=\"darkgrid\")\n",
    "ax = sns.countplot(y=\"type\", data=df,hue=\"short_url\")"
   ]
  },
  {
   "cell_type": "code",
   "execution_count": 58,
   "id": "31cb056a",
   "metadata": {},
   "outputs": [
    {
     "data": {
      "text/plain": [
       "0    398492\n",
       "1     29611\n",
       "Name: short_url, dtype: int64"
      ]
     },
     "execution_count": 58,
     "metadata": {},
     "output_type": "execute_result"
    }
   ],
   "source": [
    "df[df['type'] == 'benign']['short_url'].value_counts()"
   ]
  },
  {
   "cell_type": "code",
   "execution_count": 59,
   "id": "daa642dd",
   "metadata": {},
   "outputs": [
    {
     "data": {
      "text/plain": [
       "0    87275\n",
       "1     6836\n",
       "Name: short_url, dtype: int64"
      ]
     },
     "execution_count": 59,
     "metadata": {},
     "output_type": "execute_result"
    }
   ],
   "source": [
    "df[df['type'] == 'phishing']['short_url'].value_counts()"
   ]
  },
  {
   "cell_type": "code",
   "execution_count": 60,
   "id": "5c4eb892",
   "metadata": {},
   "outputs": [
    {
     "data": {
      "text/plain": [
       "0    31813\n",
       "1      707\n",
       "Name: short_url, dtype: int64"
      ]
     },
     "execution_count": 60,
     "metadata": {},
     "output_type": "execute_result"
    }
   ],
   "source": [
    "df[df['type'] == 'malware']['short_url'].value_counts()"
   ]
  },
  {
   "cell_type": "code",
   "execution_count": 61,
   "id": "ef701d97",
   "metadata": {},
   "outputs": [
    {
     "data": {
      "text/plain": [
       "0    93856\n",
       "1     2601\n",
       "Name: short_url, dtype: int64"
      ]
     },
     "execution_count": 61,
     "metadata": {},
     "output_type": "execute_result"
    }
   ],
   "source": [
    "df[df['type'] == 'defacement']['short_url'].value_counts()"
   ]
  },
  {
   "cell_type": "code",
   "execution_count": null,
   "id": "b28d91aa",
   "metadata": {},
   "outputs": [],
   "source": []
  },
  {
   "cell_type": "markdown",
   "id": "71efcf18",
   "metadata": {},
   "source": [
    "### Count_https: \n",
    "Generally malicious URLs do not use HTTPS protocols as it generally requires user credentials and ensures that the website is safe for transactions. So, the presence or absence of HTTPS protocol in the URL is an important feature."
   ]
  },
  {
   "cell_type": "code",
   "execution_count": 62,
   "id": "266e1840",
   "metadata": {},
   "outputs": [],
   "source": [
    "def count_https(url):\n",
    "    return url.count('https')\n",
    "\n",
    "df['count_https'] = df['url'].apply(lambda i : count_https(i))\n"
   ]
  },
  {
   "cell_type": "code",
   "execution_count": 63,
   "id": "2016cde8",
   "metadata": {},
   "outputs": [
    {
     "data": {
      "text/plain": [
       "0    634768\n",
       "1     16197\n",
       "2       183\n",
       "3        34\n",
       "5         6\n",
       "4         3\n",
       "Name: count_https, dtype: int64"
      ]
     },
     "execution_count": 63,
     "metadata": {},
     "output_type": "execute_result"
    }
   ],
   "source": [
    "df['count_https'].value_counts()"
   ]
  },
  {
   "cell_type": "code",
   "execution_count": 64,
   "id": "d7e25acc",
   "metadata": {},
   "outputs": [
    {
     "data": {
      "text/plain": [
       "Text(0.5, 1.0, 'Identify the no. of Https in URLs')"
      ]
     },
     "execution_count": 64,
     "metadata": {},
     "output_type": "execute_result"
    },
    {
     "data": {
      "image/png": "[encoded data removed]",
      "text/plain": [
       "<Figure size 576x288 with 1 Axes>"
      ]
     },
     "metadata": {},
     "output_type": "display_data"
    }
   ],
   "source": [
    "plt.figure(figsize = (8 , 4))\n",
    "sns.set(style=\"darkgrid\")\n",
    "ax = sns.countplot(x=\"count_https\", data=df)\n",
    "plt.xlabel('Count of Https in URL')\n",
    "plt.title(\"Identify the no. of Https in URLs\")"
   ]
  },
  {
   "cell_type": "code",
   "execution_count": 65,
   "id": "18791524",
   "metadata": {},
   "outputs": [
    {
     "data": {
      "image/png": "[encoded data removed]",
      "text/plain": [
       "<Figure size 360x360 with 1 Axes>"
      ]
     },
     "metadata": {},
     "output_type": "display_data"
    }
   ],
   "source": [
    "sns.set(style=\"darkgrid\")\n",
    "ax = sns.catplot(x=\"type\", y=\"count_https\", kind=\"box\", data=df)\n"
   ]
  },
  {
   "cell_type": "code",
   "execution_count": 66,
   "id": "bd5e2c52",
   "metadata": {},
   "outputs": [
    {
     "data": {
      "text/plain": [
       "<AxesSubplot:xlabel='count', ylabel='type'>"
      ]
     },
     "execution_count": 66,
     "metadata": {},
     "output_type": "execute_result"
    },
    {
     "data": {
      "image/png": "[encoded data removed]",
      "text/plain": [
       "<Figure size 432x288 with 1 Axes>"
      ]
     },
     "metadata": {},
     "output_type": "display_data"
    }
   ],
   "source": [
    "sns.countplot(y = 'type', data = df, hue = 'count_https')"
   ]
  },
  {
   "cell_type": "code",
   "execution_count": 67,
   "id": "aff4a8bd",
   "metadata": {},
   "outputs": [
    {
     "data": {
      "text/plain": [
       "0    425707\n",
       "1      2325\n",
       "2        47\n",
       "3        23\n",
       "4         1\n",
       "Name: count_https, dtype: int64"
      ]
     },
     "execution_count": 67,
     "metadata": {},
     "output_type": "execute_result"
    }
   ],
   "source": [
    "df[df['type'] == 'benign']['count_https'].value_counts()"
   ]
  },
  {
   "cell_type": "code",
   "execution_count": 68,
   "id": "588d1f52",
   "metadata": {},
   "outputs": [
    {
     "data": {
      "text/plain": [
       "0    86848\n",
       "1     7108\n",
       "2      136\n",
       "3       11\n",
       "5        6\n",
       "4        2\n",
       "Name: count_https, dtype: int64"
      ]
     },
     "execution_count": 68,
     "metadata": {},
     "output_type": "execute_result"
    }
   ],
   "source": [
    "df[df['type'] == 'phishing']['count_https'].value_counts()"
   ]
  },
  {
   "cell_type": "code",
   "execution_count": 69,
   "id": "21202db5",
   "metadata": {},
   "outputs": [
    {
     "data": {
      "text/plain": [
       "0    25756\n",
       "1     6764\n",
       "Name: count_https, dtype: int64"
      ]
     },
     "execution_count": 69,
     "metadata": {},
     "output_type": "execute_result"
    }
   ],
   "source": [
    "df[df['type'] == 'malware']['count_https'].value_counts()"
   ]
  },
  {
   "cell_type": "code",
   "execution_count": 70,
   "id": "e7957a9a",
   "metadata": {},
   "outputs": [
    {
     "data": {
      "text/plain": [
       "0    96457\n",
       "Name: count_https, dtype: int64"
      ]
     },
     "execution_count": 70,
     "metadata": {},
     "output_type": "execute_result"
    }
   ],
   "source": [
    "df[df['type'] == 'defacement']['count_https'].value_counts()"
   ]
  },
  {
   "cell_type": "markdown",
   "id": "669bb1ac",
   "metadata": {},
   "source": [
    "### Count_http: \n",
    "Most of the time, phishing or malicious websites have more than one HTTP in their URL whereas safe sites have only one HTTP."
   ]
  },
  {
   "cell_type": "code",
   "execution_count": 71,
   "id": "1f06d135",
   "metadata": {},
   "outputs": [],
   "source": [
    "def count_http(url):\n",
    "    return url.count('http')\n",
    "\n",
    "df['count_http'] = df['url'].apply(lambda i : count_http(i))"
   ]
  },
  {
   "cell_type": "code",
   "execution_count": 72,
   "id": "5d0e7304",
   "metadata": {},
   "outputs": [
    {
     "data": {
      "text/plain": [
       "0    461527\n",
       "1    186625\n",
       "2      2564\n",
       "3       455\n",
       "4        11\n",
       "9         6\n",
       "6         2\n",
       "5         1\n",
       "Name: count_http, dtype: int64"
      ]
     },
     "execution_count": 72,
     "metadata": {},
     "output_type": "execute_result"
    }
   ],
   "source": [
    "df['count_http'].value_counts()"
   ]
  },
  {
   "cell_type": "code",
   "execution_count": 73,
   "id": "a1814c1b",
   "metadata": {},
   "outputs": [
    {
     "data": {
      "text/plain": [
       "Text(0.5, 1.0, 'Identify the no. of Http in URLs')"
      ]
     },
     "execution_count": 73,
     "metadata": {},
     "output_type": "execute_result"
    },
    {
     "data": {
      "image/png": "[encoded data removed]",
      "text/plain": [
       "<Figure size 576x288 with 1 Axes>"
      ]
     },
     "metadata": {},
     "output_type": "display_data"
    }
   ],
   "source": [
    "plt.figure(figsize = (8 , 4))\n",
    "sns.set(style=\"darkgrid\")\n",
    "ax = sns.countplot(x=\"count_http\", data=df)\n",
    "plt.xlabel('Count of Http in URL')\n",
    "plt.title(\"Identify the no. of Http in URLs\")"
   ]
  },
  {
   "cell_type": "code",
   "execution_count": 74,
   "id": "ae29f840",
   "metadata": {},
   "outputs": [
    {
     "data": {
      "image/png": "[encoded data removed]",
      "text/plain": [
       "<Figure size 360x360 with 1 Axes>"
      ]
     },
     "metadata": {},
     "output_type": "display_data"
    }
   ],
   "source": [
    "sns.set(style=\"darkgrid\")\n",
    "ax = sns.catplot(x=\"type\", y=\"count_http\", kind=\"box\", data=df)\n"
   ]
  },
  {
   "cell_type": "code",
   "execution_count": 75,
   "id": "7669c8c3",
   "metadata": {},
   "outputs": [
    {
     "data": {
      "text/plain": [
       "<AxesSubplot:xlabel='count', ylabel='type'>"
      ]
     },
     "execution_count": 75,
     "metadata": {},
     "output_type": "execute_result"
    },
    {
     "data": {
      "image/png": "[encoded data removed]",
      "text/plain": [
       "<Figure size 432x288 with 1 Axes>"
      ]
     },
     "metadata": {},
     "output_type": "display_data"
    }
   ],
   "source": [
    "sns.countplot(y = 'type', data = df, hue = 'count_http')"
   ]
  },
  {
   "cell_type": "code",
   "execution_count": 76,
   "id": "0128fa1c",
   "metadata": {},
   "outputs": [
    {
     "data": {
      "text/plain": [
       "0    391104\n",
       "1     35437\n",
       "2      1491\n",
       "3        68\n",
       "4         3\n",
       "Name: count_http, dtype: int64"
      ]
     },
     "execution_count": 76,
     "metadata": {},
     "output_type": "execute_result"
    }
   ],
   "source": [
    "df[df['type'] == 'benign']['count_http'].value_counts()"
   ]
  },
  {
   "cell_type": "code",
   "execution_count": 77,
   "id": "1b779d0c",
   "metadata": {},
   "outputs": [
    {
     "data": {
      "text/plain": [
       "0    69215\n",
       "1    23644\n",
       "2      858\n",
       "3      377\n",
       "4        8\n",
       "9        6\n",
       "6        2\n",
       "5        1\n",
       "Name: count_http, dtype: int64"
      ]
     },
     "execution_count": 77,
     "metadata": {},
     "output_type": "execute_result"
    }
   ],
   "source": [
    "df[df['type'] == 'phishing']['count_http'].value_counts()"
   ]
  },
  {
   "cell_type": "code",
   "execution_count": 78,
   "id": "054c4dd6",
   "metadata": {},
   "outputs": [
    {
     "data": {
      "text/plain": [
       "1    96382\n",
       "2       75\n",
       "Name: count_http, dtype: int64"
      ]
     },
     "execution_count": 78,
     "metadata": {},
     "output_type": "execute_result"
    }
   ],
   "source": [
    "df[df['type'] == 'defacement']['count_http'].value_counts()"
   ]
  },
  {
   "cell_type": "code",
   "execution_count": 79,
   "id": "2b8967a1",
   "metadata": {},
   "outputs": [
    {
     "data": {
      "text/plain": [
       "1    31162\n",
       "0     1208\n",
       "2      140\n",
       "3       10\n",
       "Name: count_http, dtype: int64"
      ]
     },
     "execution_count": 79,
     "metadata": {},
     "output_type": "execute_result"
    }
   ],
   "source": [
    "df[df['type'] == 'malware']['count_http'].value_counts()"
   ]
  },
  {
   "cell_type": "markdown",
   "id": "d590f8df",
   "metadata": {},
   "source": [
    "### Count%: \n",
    "As we know URLs cannot contain spaces. URL encoding normally replaces spaces with symbol (%). Safe sites generally contain less number of spaces whereas malicious websites generally contain more spaces in their URL hence more number of %."
   ]
  },
  {
   "cell_type": "code",
   "execution_count": 80,
   "id": "b3df451b",
   "metadata": {},
   "outputs": [],
   "source": [
    "def count_per(url):\n",
    "    return url.count('%')\n",
    "\n",
    "df['count%'] = df['url'].apply(lambda i : count_per(i))"
   ]
  },
  {
   "cell_type": "code",
   "execution_count": 81,
   "id": "1507aee8",
   "metadata": {},
   "outputs": [
    {
     "data": {
      "text/plain": [
       "0      623991\n",
       "1        5824\n",
       "2        4981\n",
       "3        2415\n",
       "6        1710\n",
       "        ...  \n",
       "133         1\n",
       "130         1\n",
       "93          1\n",
       "201         1\n",
       "149         1\n",
       "Name: count%, Length: 124, dtype: int64"
      ]
     },
     "execution_count": 81,
     "metadata": {},
     "output_type": "execute_result"
    }
   ],
   "source": [
    "df['count%'].value_counts()"
   ]
  },
  {
   "cell_type": "code",
   "execution_count": 82,
   "id": "1689596f",
   "metadata": {},
   "outputs": [
    {
     "data": {
      "image/png": "[encoded data removed]",
      "text/plain": [
       "<Figure size 360x360 with 1 Axes>"
      ]
     },
     "metadata": {},
     "output_type": "display_data"
    }
   ],
   "source": [
    "sns.set(style=\"darkgrid\")\n",
    "ax = sns.catplot(x=\"type\", y=\"count%\", kind=\"box\", data=df)"
   ]
  },
  {
   "cell_type": "markdown",
   "id": "64ce8405",
   "metadata": {},
   "source": [
    "### Count?: \n",
    "The presence of symbol (?) in URL denotes a query string that contains the data to be passed to the server. More number of ? in URL definitely indicates suspicious URL.\n"
   ]
  },
  {
   "cell_type": "code",
   "execution_count": 83,
   "id": "75385e43",
   "metadata": {},
   "outputs": [],
   "source": [
    "def count_ques(url):\n",
    "    return url.count('?')\n",
    "\n",
    "df['count?'] = df['url'].apply(lambda i: count_ques(i))"
   ]
  },
  {
   "cell_type": "code",
   "execution_count": 84,
   "id": "0e29708e",
   "metadata": {},
   "outputs": [
    {
     "data": {
      "text/plain": [
       "0     511013\n",
       "1     134983\n",
       "2       5065\n",
       "3         69\n",
       "4         25\n",
       "5         11\n",
       "7          7\n",
       "8          3\n",
       "6          3\n",
       "11         3\n",
       "12         2\n",
       "13         2\n",
       "10         1\n",
       "20         1\n",
       "15         1\n",
       "14         1\n",
       "17         1\n",
       "Name: count?, dtype: int64"
      ]
     },
     "execution_count": 84,
     "metadata": {},
     "output_type": "execute_result"
    }
   ],
   "source": [
    "df['count?'].value_counts()"
   ]
  },
  {
   "cell_type": "code",
   "execution_count": 85,
   "id": "6acfb05a",
   "metadata": {},
   "outputs": [
    {
     "data": {
      "text/plain": [
       "Text(0.5, 1.0, 'Identify the no. of (?) in URLs')"
      ]
     },
     "execution_count": 85,
     "metadata": {},
     "output_type": "execute_result"
    },
    {
     "data": {
      "image/png": "[encoded data removed]",
      "text/plain": [
       "<Figure size 576x288 with 1 Axes>"
      ]
     },
     "metadata": {},
     "output_type": "display_data"
    }
   ],
   "source": [
    "plt.figure(figsize = (8 , 4))\n",
    "sns.set(style=\"darkgrid\")\n",
    "ax = sns.countplot(x=\"count?\", data=df)\n",
    "plt.xlabel('Count of (?) in URL')\n",
    "plt.title(\"Identify the no. of (?) in URLs\")"
   ]
  },
  {
   "cell_type": "code",
   "execution_count": 86,
   "id": "d413cd71",
   "metadata": {},
   "outputs": [
    {
     "data": {
      "image/png": "[encoded data removed]",
      "text/plain": [
       "<Figure size 360x360 with 1 Axes>"
      ]
     },
     "metadata": {},
     "output_type": "display_data"
    }
   ],
   "source": [
    "sns.set(style=\"darkgrid\")\n",
    "ax = sns.catplot(x=\"type\", y=\"count?\", kind=\"box\", data=df)"
   ]
  },
  {
   "cell_type": "markdown",
   "id": "1db9fd46",
   "metadata": {},
   "source": [
    "### Count-: \n",
    "Phishers or cybercriminals generally add dashes(-) in prefix or suffix of the brand name so that it looks genuine URL. For example. www.flipkart-india.com. "
   ]
  },
  {
   "cell_type": "code",
   "execution_count": 87,
   "id": "4aa646d6",
   "metadata": {},
   "outputs": [],
   "source": [
    "def count_hyphen(url):\n",
    "    return url.count('-')\n",
    "\n",
    "df['count-'] = df['url'].apply(lambda i: count_hyphen(i))"
   ]
  },
  {
   "cell_type": "code",
   "execution_count": 88,
   "id": "ee6e3d4f",
   "metadata": {},
   "outputs": [
    {
     "data": {
      "text/plain": [
       "0     377210\n",
       "1     104187\n",
       "2      44061\n",
       "3      27016\n",
       "4      22128\n",
       "5      16145\n",
       "6      12277\n",
       "7       9347\n",
       "8       8400\n",
       "9       6775\n",
       "10      6050\n",
       "11      4710\n",
       "12      3567\n",
       "13      2769\n",
       "14      1990\n",
       "15      1414\n",
       "16       924\n",
       "17       694\n",
       "18       411\n",
       "19       269\n",
       "20       186\n",
       "21       151\n",
       "22       100\n",
       "23        88\n",
       "24        61\n",
       "25        42\n",
       "26        35\n",
       "27        34\n",
       "28        32\n",
       "29        26\n",
       "31        16\n",
       "30        12\n",
       "32         9\n",
       "34         9\n",
       "33         5\n",
       "35         5\n",
       "38         5\n",
       "36         4\n",
       "47         4\n",
       "41         4\n",
       "40         3\n",
       "42         3\n",
       "37         3\n",
       "39         3\n",
       "64         3\n",
       "48         1\n",
       "50         1\n",
       "87         1\n",
       "54         1\n",
       "Name: count-, dtype: int64"
      ]
     },
     "execution_count": 88,
     "metadata": {},
     "output_type": "execute_result"
    }
   ],
   "source": [
    "df['count-'].value_counts()"
   ]
  },
  {
   "cell_type": "code",
   "execution_count": 89,
   "id": "b76e5b50",
   "metadata": {},
   "outputs": [
    {
     "data": {
      "image/png": "[encoded data removed]",
      "text/plain": [
       "<Figure size 360x360 with 1 Axes>"
      ]
     },
     "metadata": {},
     "output_type": "display_data"
    }
   ],
   "source": [
    "sns.set(style=\"darkgrid\")\n",
    "ax = sns.catplot(x=\"type\", y=\"count-\", kind=\"box\", data=df)"
   ]
  },
  {
   "cell_type": "markdown",
   "id": "a5993d6b",
   "metadata": {},
   "source": [
    "### Count=: \n",
    "Presence of equal to (=) in URL indicates passing of variable values from one form page to another. It is considered as riskier in URL as anyone can change the values to modify the page."
   ]
  },
  {
   "cell_type": "code",
   "execution_count": 90,
   "id": "1613738f",
   "metadata": {},
   "outputs": [],
   "source": [
    "def count_equal(url):\n",
    "    return url.count('=')\n",
    "\n",
    "df['count='] = df['url'].apply(lambda i: count_equal(i))"
   ]
  },
  {
   "cell_type": "code",
   "execution_count": 91,
   "id": "a3ca2334",
   "metadata": {},
   "outputs": [
    {
     "data": {
      "text/plain": [
       "0     510898\n",
       "1      54747\n",
       "2      23212\n",
       "4      21442\n",
       "3      14951\n",
       "5      13443\n",
       "6       5685\n",
       "9       2391\n",
       "7       1981\n",
       "8       1340\n",
       "10       344\n",
       "11       212\n",
       "12       163\n",
       "19       127\n",
       "13       118\n",
       "14        68\n",
       "15        19\n",
       "16        10\n",
       "17         9\n",
       "18         7\n",
       "22         7\n",
       "34         4\n",
       "24         4\n",
       "28         3\n",
       "20         1\n",
       "21         1\n",
       "39         1\n",
       "29         1\n",
       "51         1\n",
       "26         1\n",
       "Name: count=, dtype: int64"
      ]
     },
     "execution_count": 91,
     "metadata": {},
     "output_type": "execute_result"
    }
   ],
   "source": [
    "df['count='].value_counts()"
   ]
  },
  {
   "cell_type": "code",
   "execution_count": 92,
   "id": "0e84e344",
   "metadata": {},
   "outputs": [
    {
     "data": {
      "image/png": "[encoded data removed]",
      "text/plain": [
       "<Figure size 360x360 with 1 Axes>"
      ]
     },
     "metadata": {},
     "output_type": "display_data"
    }
   ],
   "source": [
    "sns.set(style=\"darkgrid\")\n",
    "ax = sns.catplot(x=\"type\", y=\"count=\", kind=\"box\", data=df)"
   ]
  },
  {
   "cell_type": "markdown",
   "id": "794f8bc1",
   "metadata": {},
   "source": [
    "### url_length: \n",
    "Attackers generally use long URLs to hide the domain name. We found the average length of a safe URL is 74."
   ]
  },
  {
   "cell_type": "code",
   "execution_count": 93,
   "id": "a4f6fd56",
   "metadata": {},
   "outputs": [],
   "source": [
    "def url_length(url):\n",
    "    return len(str(url))\n",
    "\n",
    "df['url_length'] = df['url'].apply(lambda i: url_length(i))"
   ]
  },
  {
   "cell_type": "code",
   "execution_count": 94,
   "id": "2c020df8",
   "metadata": {},
   "outputs": [
    {
     "data": {
      "text/plain": [
       "31      19023\n",
       "33      14209\n",
       "34      12243\n",
       "27      11967\n",
       "35      11700\n",
       "        ...  \n",
       "710         1\n",
       "1016        1\n",
       "452         1\n",
       "1779        1\n",
       "467         1\n",
       "Name: url_length, Length: 549, dtype: int64"
      ]
     },
     "execution_count": 94,
     "metadata": {},
     "output_type": "execute_result"
    }
   ],
   "source": [
    "df['url_length'].value_counts()"
   ]
  },
  {
   "cell_type": "code",
   "execution_count": 95,
   "id": "a5025de0",
   "metadata": {},
   "outputs": [
    {
     "data": {
      "image/png": "[encoded data removed]",
      "text/plain": [
       "<Figure size 360x360 with 1 Axes>"
      ]
     },
     "metadata": {},
     "output_type": "display_data"
    }
   ],
   "source": [
    "sns.set(style=\"darkgrid\")\n",
    "ax = sns.catplot(x=\"type\", y=\"url_length\", kind=\"box\", data=df)"
   ]
  },
  {
   "cell_type": "markdown",
   "id": "b1b09e86",
   "metadata": {},
   "source": [
    "### hostname_length:\n",
    "The length of the hostname is also an important feature for detecting malicious URLs."
   ]
  },
  {
   "cell_type": "code",
   "execution_count": 96,
   "id": "ea241c31",
   "metadata": {},
   "outputs": [],
   "source": [
    "def hostname_length(url):\n",
    "    return len(urlparse(url).netloc)\n",
    "\n",
    "df['hostname_length'] = df['url'].apply(lambda i: hostname_length(i))"
   ]
  },
  {
   "cell_type": "code",
   "execution_count": 97,
   "id": "e241b2bb",
   "metadata": {},
   "outputs": [
    {
     "data": {
      "text/plain": [
       "0      463192\n",
       "15      15950\n",
       "13      14592\n",
       "14      14061\n",
       "20      12039\n",
       "        ...  \n",
       "210         1\n",
       "125         1\n",
       "184         1\n",
       "129         1\n",
       "179         1\n",
       "Name: hostname_length, Length: 134, dtype: int64"
      ]
     },
     "execution_count": 97,
     "metadata": {},
     "output_type": "execute_result"
    }
   ],
   "source": [
    "df['hostname_length'].value_counts()"
   ]
  },
  {
   "cell_type": "code",
   "execution_count": 98,
   "id": "b03a6382",
   "metadata": {},
   "outputs": [
    {
     "data": {
      "image/png": "[encoded data removed]",
      "text/plain": [
       "<Figure size 360x360 with 1 Axes>"
      ]
     },
     "metadata": {},
     "output_type": "display_data"
    }
   ],
   "source": [
    "sns.set(style=\"darkgrid\")\n",
    "ax = sns.catplot(x=\"type\", y=\"hostname_length\", kind=\"box\", data=df)"
   ]
  },
  {
   "cell_type": "markdown",
   "id": "c24c2fd9",
   "metadata": {},
   "source": [
    "### First directory length: \n",
    "This feature helps in determining the length of the first directory in the URL. So looking for the first ‘/’ and counting the length of the URL up to this point helps in finding the first directory length of the URL. For accessing directory level information we need to install python library TLD. You can check this link for installing TLD."
   ]
  },
  {
   "cell_type": "code",
   "execution_count": 99,
   "id": "eea0c42b",
   "metadata": {},
   "outputs": [
    {
     "name": "stdout",
     "output_type": "stream",
     "text": [
      "Defaulting to user installation because normal site-packages is not writeable\n",
      "Requirement already satisfied: tld in c:\\users\\priyanshu\\appdata\\roaming\\python\\python310\\site-packages (0.12.6)\n",
      "Note: you may need to restart the kernel to use updated packages.\n"
     ]
    },
    {
     "name": "stderr",
     "output_type": "stream",
     "text": [
      "\n",
      "[notice] A new release of pip available: 22.2.2 -> 22.3\n",
      "[notice] To update, run: C:\\Program Files\\Python310\\python.exe -m pip install --upgrade pip\n"
     ]
    }
   ],
   "source": [
    "pip install tld"
   ]
  },
  {
   "cell_type": "code",
   "execution_count": 100,
   "id": "2c599204",
   "metadata": {},
   "outputs": [],
   "source": [
    "from tld import get_tld\n",
    "import os.path\n",
    "\n",
    "#First Directory Length\n",
    "def fd_length(url):\n",
    "    urlpath= urlparse(url).path\n",
    "    try:\n",
    "        return len(urlpath.split('/')[1])\n",
    "    except:\n",
    "        return 0\n",
    "\n",
    "df['fd_length'] = df['url'].apply(lambda i: fd_length(i))"
   ]
  },
  {
   "cell_type": "code",
   "execution_count": 101,
   "id": "84b1e539",
   "metadata": {},
   "outputs": [
    {
     "data": {
      "text/plain": [
       "9      83387\n",
       "4      80768\n",
       "0      77782\n",
       "6      51283\n",
       "5      50371\n",
       "       ...  \n",
       "239        1\n",
       "256        1\n",
       "248        1\n",
       "146        1\n",
       "230        1\n",
       "Name: fd_length, Length: 218, dtype: int64"
      ]
     },
     "execution_count": 101,
     "metadata": {},
     "output_type": "execute_result"
    }
   ],
   "source": [
    "df['fd_length'].value_counts()"
   ]
  },
  {
   "cell_type": "code",
   "execution_count": 102,
   "id": "62e5d1fe",
   "metadata": {},
   "outputs": [
    {
     "data": {
      "image/png": "[encoded data removed]",
      "text/plain": [
       "<Figure size 360x360 with 1 Axes>"
      ]
     },
     "metadata": {},
     "output_type": "display_data"
    }
   ],
   "source": [
    "sns.set(style=\"darkgrid\")\n",
    "ax = sns.catplot(x=\"type\", y=\"fd_length\", kind=\"box\", data=df)"
   ]
  },
  {
   "cell_type": "markdown",
   "id": "890870e0",
   "metadata": {},
   "source": [
    "### Length of top-level domains: \n",
    "A top-level domain (TLD) is one of the domains at the highest level in the hierarchical Domain Name System of the Internet. For example, in the domain name www.example.com, the top-level domain is com. So, the length of TLD is also important in identifying malicious URLs. As most of the URLs have .com extension. TLDs in the range from 2 to 3 generally indicate safe URLs."
   ]
  },
  {
   "cell_type": "code",
   "execution_count": 103,
   "id": "0a12ccb5",
   "metadata": {},
   "outputs": [],
   "source": [
    "#Length of Top Level Domain\n",
    "df['tld'] = df['url'].apply(lambda i: get_tld(i,fail_silently=True))\n",
    "\n",
    "\n",
    "def tld_length(tld):\n",
    "    try:\n",
    "        return len(tld)\n",
    "    except:\n",
    "        return -1\n",
    "\n",
    "df['tld_length'] = df['tld'].apply(lambda i: tld_length(i))"
   ]
  },
  {
   "cell_type": "code",
   "execution_count": 104,
   "id": "578c1f7c",
   "metadata": {},
   "outputs": [
    {
     "data": {
      "text/plain": [
       "0         None\n",
       "1         None\n",
       "2         None\n",
       "3           be\n",
       "4          net\n",
       "          ... \n",
       "651186    None\n",
       "651187    None\n",
       "651188    None\n",
       "651189    None\n",
       "651190    None\n",
       "Name: tld, Length: 651191, dtype: object"
      ]
     },
     "execution_count": 104,
     "metadata": {},
     "output_type": "execute_result"
    }
   ],
   "source": [
    "df['tld']"
   ]
  },
  {
   "cell_type": "code",
   "execution_count": 105,
   "id": "b66c5129",
   "metadata": {},
   "outputs": [
    {
     "data": {
      "text/plain": [
       "com       71690\n",
       "de        11331\n",
       "net        9903\n",
       "nl         6157\n",
       "com.br     5925\n",
       "          ...  \n",
       "gov.sa        1\n",
       "tn            1\n",
       "click         1\n",
       "gt            1\n",
       "ht            1\n",
       "Name: tld, Length: 538, dtype: int64"
      ]
     },
     "execution_count": 105,
     "metadata": {},
     "output_type": "execute_result"
    }
   ],
   "source": [
    "df['tld'].value_counts()"
   ]
  },
  {
   "cell_type": "code",
   "execution_count": 106,
   "id": "eb2467a3",
   "metadata": {},
   "outputs": [
    {
     "data": {
      "text/plain": [
       "-1     475281\n",
       " 3      87519\n",
       " 2      58686\n",
       " 6      16601\n",
       " 5       6203\n",
       " 4       5405\n",
       " 12       455\n",
       " 14       307\n",
       " 7        249\n",
       " 9        130\n",
       " 11       121\n",
       " 16        71\n",
       " 15        52\n",
       " 8         50\n",
       " 10        12\n",
       " 13        12\n",
       " 17         9\n",
       " 26         8\n",
       " 20         3\n",
       " 30         3\n",
       " 31         2\n",
       " 21         2\n",
       " 39         2\n",
       " 22         2\n",
       " 25         2\n",
       " 18         2\n",
       " 34         1\n",
       " 27         1\n",
       "Name: tld_length, dtype: int64"
      ]
     },
     "execution_count": 106,
     "metadata": {},
     "output_type": "execute_result"
    }
   ],
   "source": [
    "df['tld_length'].value_counts()"
   ]
  },
  {
   "cell_type": "code",
   "execution_count": 107,
   "id": "ea43975f",
   "metadata": {},
   "outputs": [
    {
     "data": {
      "image/png": "[encoded data removed]",
      "text/plain": [
       "<Figure size 360x360 with 1 Axes>"
      ]
     },
     "metadata": {},
     "output_type": "display_data"
    }
   ],
   "source": [
    "sns.set(style=\"darkgrid\")\n",
    "ax = sns.catplot(x=\"type\", y=\"tld_length\", kind=\"box\", data=df)"
   ]
  },
  {
   "cell_type": "code",
   "execution_count": 108,
   "id": "905e2782",
   "metadata": {},
   "outputs": [],
   "source": [
    "df.drop([\"tld\"], axis = 1, inplace = True)"
   ]
  },
  {
   "cell_type": "markdown",
   "id": "3b154b9c",
   "metadata": {},
   "source": [
    "### Count_digits: \n",
    "The presence of digits in URL generally indicate suspicious URLs. Safe URLs generally do not have digits so counting the number of digits in URL is an important feature for detecting malicious URLs."
   ]
  },
  {
   "cell_type": "code",
   "execution_count": 109,
   "id": "2154e3f5",
   "metadata": {},
   "outputs": [],
   "source": [
    "def digit_count(url):\n",
    "    digits = 0\n",
    "    for i in url:\n",
    "        if i.isnumeric():\n",
    "            digits += 1\n",
    "    return digits\n",
    "\n",
    "\n",
    "df['count_digits']= df['url'].apply(lambda i: digit_count(i))"
   ]
  },
  {
   "cell_type": "code",
   "execution_count": 110,
   "id": "f7180207",
   "metadata": {},
   "outputs": [
    {
     "data": {
      "text/plain": [
       "0      277500\n",
       "4       41826\n",
       "2       36989\n",
       "1       35880\n",
       "6       34093\n",
       "        ...  \n",
       "250         1\n",
       "267         1\n",
       "240         1\n",
       "272         1\n",
       "151         1\n",
       "Name: count_digits, Length: 222, dtype: int64"
      ]
     },
     "execution_count": 110,
     "metadata": {},
     "output_type": "execute_result"
    }
   ],
   "source": [
    "df['count_digits'].value_counts()"
   ]
  },
  {
   "cell_type": "code",
   "execution_count": 111,
   "id": "2d5988f2",
   "metadata": {},
   "outputs": [
    {
     "data": {
      "text/plain": [
       "count    651191.000000\n",
       "mean          5.527409\n",
       "std          11.700814\n",
       "min           0.000000\n",
       "25%           0.000000\n",
       "50%           2.000000\n",
       "75%           7.000000\n",
       "max        1204.000000\n",
       "Name: count_digits, dtype: float64"
      ]
     },
     "execution_count": 111,
     "metadata": {},
     "output_type": "execute_result"
    }
   ],
   "source": [
    "df['count_digits'].describe()"
   ]
  },
  {
   "cell_type": "markdown",
   "id": "051ba669",
   "metadata": {},
   "source": [
    "### Count_letters: \n",
    "The number of letters in the URL also plays a significant role in identifying malicious URLs. As attackers try to increase the length of the URL to hide the domain name and this is generally done by increasing the number of letters and digits in the URL. "
   ]
  },
  {
   "cell_type": "code",
   "execution_count": 112,
   "id": "8a754dcf",
   "metadata": {},
   "outputs": [],
   "source": [
    "def letter_count(url):\n",
    "    letters = 0\n",
    "    for i in url:\n",
    "        if i.isalpha():\n",
    "            letters += 1\n",
    "    return letters\n",
    "\n",
    "\n",
    "df['count_letters']= df['url'].apply(lambda i: letter_count(i))\n"
   ]
  },
  {
   "cell_type": "code",
   "execution_count": 113,
   "id": "345e6531",
   "metadata": {},
   "outputs": [
    {
     "data": {
      "text/plain": [
       "26     16704\n",
       "25     16617\n",
       "27     15503\n",
       "24     15142\n",
       "28     15054\n",
       "       ...  \n",
       "801        1\n",
       "748        1\n",
       "754        1\n",
       "371        1\n",
       "343        1\n",
       "Name: count_letters, Length: 425, dtype: int64"
      ]
     },
     "execution_count": 113,
     "metadata": {},
     "output_type": "execute_result"
    }
   ],
   "source": [
    "df['count_letters'].value_counts()"
   ]
  },
  {
   "cell_type": "code",
   "execution_count": 114,
   "id": "0e8204f5",
   "metadata": {},
   "outputs": [
    {
     "data": {
      "text/plain": [
       "count    651191.000000\n",
       "mean         45.247104\n",
       "std          31.624502\n",
       "min           0.000000\n",
       "25%          25.000000\n",
       "50%          37.000000\n",
       "75%          58.000000\n",
       "max        2141.000000\n",
       "Name: count_letters, dtype: float64"
      ]
     },
     "execution_count": 114,
     "metadata": {},
     "output_type": "execute_result"
    }
   ],
   "source": [
    "df['count_letters'].describe()"
   ]
  },
  {
   "cell_type": "code",
   "execution_count": 115,
   "id": "a6519293",
   "metadata": {},
   "outputs": [
    {
     "data": {
      "text/html": [
       "<div>\n",
       "<style scoped>\n",
       "    .dataframe tbody tr th:only-of-type {\n",
       "        vertical-align: middle;\n",
       "    }\n",
       "\n",
       "    .dataframe tbody tr th {\n",
       "        vertical-align: top;\n",
       "    }\n",
       "\n",
       "    .dataframe thead th {\n",
       "        text-align: right;\n",
       "    }\n",
       "</style>\n",
       "<table border=\"1\" class=\"dataframe\">\n",
       "  <thead>\n",
       "    <tr style=\"text-align: right;\">\n",
       "      <th></th>\n",
       "      <th>url</th>\n",
       "      <th>type</th>\n",
       "      <th>use_of_ip</th>\n",
       "      <th>abnormal_url</th>\n",
       "      <th>google_index</th>\n",
       "      <th>count.</th>\n",
       "      <th>count-www</th>\n",
       "      <th>count@</th>\n",
       "      <th>count_dir</th>\n",
       "      <th>count_embed_domain</th>\n",
       "      <th>...</th>\n",
       "      <th>count%</th>\n",
       "      <th>count?</th>\n",
       "      <th>count-</th>\n",
       "      <th>count=</th>\n",
       "      <th>url_length</th>\n",
       "      <th>hostname_length</th>\n",
       "      <th>fd_length</th>\n",
       "      <th>tld_length</th>\n",
       "      <th>count_digits</th>\n",
       "      <th>count_letters</th>\n",
       "    </tr>\n",
       "  </thead>\n",
       "  <tbody>\n",
       "    <tr>\n",
       "      <th>0</th>\n",
       "      <td>br-icloud.com.br</td>\n",
       "      <td>phishing</td>\n",
       "      <td>0</td>\n",
       "      <td>0</td>\n",
       "      <td>1</td>\n",
       "      <td>2</td>\n",
       "      <td>0</td>\n",
       "      <td>0</td>\n",
       "      <td>0</td>\n",
       "      <td>0</td>\n",
       "      <td>...</td>\n",
       "      <td>0</td>\n",
       "      <td>0</td>\n",
       "      <td>1</td>\n",
       "      <td>0</td>\n",
       "      <td>16</td>\n",
       "      <td>0</td>\n",
       "      <td>0</td>\n",
       "      <td>-1</td>\n",
       "      <td>0</td>\n",
       "      <td>13</td>\n",
       "    </tr>\n",
       "    <tr>\n",
       "      <th>1</th>\n",
       "      <td>mp3raid.com/music/krizz_kaliko.html</td>\n",
       "      <td>benign</td>\n",
       "      <td>0</td>\n",
       "      <td>0</td>\n",
       "      <td>1</td>\n",
       "      <td>2</td>\n",
       "      <td>0</td>\n",
       "      <td>0</td>\n",
       "      <td>2</td>\n",
       "      <td>0</td>\n",
       "      <td>...</td>\n",
       "      <td>0</td>\n",
       "      <td>0</td>\n",
       "      <td>0</td>\n",
       "      <td>0</td>\n",
       "      <td>35</td>\n",
       "      <td>0</td>\n",
       "      <td>5</td>\n",
       "      <td>-1</td>\n",
       "      <td>1</td>\n",
       "      <td>29</td>\n",
       "    </tr>\n",
       "    <tr>\n",
       "      <th>2</th>\n",
       "      <td>bopsecrets.org/rexroth/cr/1.htm</td>\n",
       "      <td>benign</td>\n",
       "      <td>0</td>\n",
       "      <td>0</td>\n",
       "      <td>1</td>\n",
       "      <td>2</td>\n",
       "      <td>0</td>\n",
       "      <td>0</td>\n",
       "      <td>3</td>\n",
       "      <td>0</td>\n",
       "      <td>...</td>\n",
       "      <td>0</td>\n",
       "      <td>0</td>\n",
       "      <td>0</td>\n",
       "      <td>0</td>\n",
       "      <td>31</td>\n",
       "      <td>0</td>\n",
       "      <td>7</td>\n",
       "      <td>-1</td>\n",
       "      <td>1</td>\n",
       "      <td>25</td>\n",
       "    </tr>\n",
       "    <tr>\n",
       "      <th>3</th>\n",
       "      <td>http://www.garage-pirenne.be/index.php?option=...</td>\n",
       "      <td>defacement</td>\n",
       "      <td>0</td>\n",
       "      <td>1</td>\n",
       "      <td>1</td>\n",
       "      <td>3</td>\n",
       "      <td>1</td>\n",
       "      <td>0</td>\n",
       "      <td>1</td>\n",
       "      <td>0</td>\n",
       "      <td>...</td>\n",
       "      <td>0</td>\n",
       "      <td>1</td>\n",
       "      <td>1</td>\n",
       "      <td>4</td>\n",
       "      <td>88</td>\n",
       "      <td>21</td>\n",
       "      <td>9</td>\n",
       "      <td>2</td>\n",
       "      <td>7</td>\n",
       "      <td>63</td>\n",
       "    </tr>\n",
       "    <tr>\n",
       "      <th>4</th>\n",
       "      <td>http://adventure-nicaragua.net/index.php?optio...</td>\n",
       "      <td>defacement</td>\n",
       "      <td>0</td>\n",
       "      <td>1</td>\n",
       "      <td>1</td>\n",
       "      <td>2</td>\n",
       "      <td>0</td>\n",
       "      <td>0</td>\n",
       "      <td>1</td>\n",
       "      <td>0</td>\n",
       "      <td>...</td>\n",
       "      <td>0</td>\n",
       "      <td>1</td>\n",
       "      <td>1</td>\n",
       "      <td>3</td>\n",
       "      <td>235</td>\n",
       "      <td>23</td>\n",
       "      <td>9</td>\n",
       "      <td>3</td>\n",
       "      <td>22</td>\n",
       "      <td>199</td>\n",
       "    </tr>\n",
       "  </tbody>\n",
       "</table>\n",
       "<p>5 rows × 24 columns</p>\n",
       "</div>"
      ],
      "text/plain": [
       "                                                 url        type  use_of_ip  \\\n",
       "0                                   br-icloud.com.br    phishing          0   \n",
       "1                mp3raid.com/music/krizz_kaliko.html      benign          0   \n",
       "2                    bopsecrets.org/rexroth/cr/1.htm      benign          0   \n",
       "3  http://www.garage-pirenne.be/index.php?option=...  defacement          0   \n",
       "4  http://adventure-nicaragua.net/index.php?optio...  defacement          0   \n",
       "\n",
       "   abnormal_url  google_index  count.  count-www  count@  count_dir  \\\n",
       "0             0             1       2          0       0          0   \n",
       "1             0             1       2          0       0          2   \n",
       "2             0             1       2          0       0          3   \n",
       "3             1             1       3          1       0          1   \n",
       "4             1             1       2          0       0          1   \n",
       "\n",
       "   count_embed_domain  ...  count%  count?  count-  count=  url_length  \\\n",
       "0                   0  ...       0       0       1       0          16   \n",
       "1                   0  ...       0       0       0       0          35   \n",
       "2                   0  ...       0       0       0       0          31   \n",
       "3                   0  ...       0       1       1       4          88   \n",
       "4                   0  ...       0       1       1       3         235   \n",
       "\n",
       "   hostname_length  fd_length  tld_length  count_digits  count_letters  \n",
       "0                0          0          -1             0             13  \n",
       "1                0          5          -1             1             29  \n",
       "2                0          7          -1             1             25  \n",
       "3               21          9           2             7             63  \n",
       "4               23          9           3            22            199  \n",
       "\n",
       "[5 rows x 24 columns]"
      ]
     },
     "execution_count": 115,
     "metadata": {},
     "output_type": "execute_result"
    }
   ],
   "source": [
    "df.head()"
   ]
  },
  {
   "cell_type": "markdown",
   "id": "c940dc83",
   "metadata": {},
   "source": [
    "# Label Encoding"
   ]
  },
  {
   "cell_type": "code",
   "execution_count": 116,
   "id": "154d7661",
   "metadata": {},
   "outputs": [
    {
     "data": {
      "text/plain": [
       "0    428103\n",
       "1     96457\n",
       "3     94111\n",
       "2     32520\n",
       "Name: type_code, dtype: int64"
      ]
     },
     "execution_count": 116,
     "metadata": {},
     "output_type": "execute_result"
    }
   ],
   "source": [
    "from sklearn.preprocessing import LabelEncoder\n",
    "\n",
    "label_encoder = LabelEncoder()\n",
    "\n",
    "df['type_code'] = label_encoder.fit_transform(df['type'])\n",
    "df['type_code'].value_counts()"
   ]
  },
  {
   "cell_type": "code",
   "execution_count": 117,
   "id": "60f5dbd1",
   "metadata": {},
   "outputs": [
    {
     "data": {
      "text/plain": [
       "Index(['url', 'type', 'use_of_ip', 'abnormal_url', 'google_index', 'count.',\n",
       "       'count-www', 'count@', 'count_dir', 'count_embed_domain', 'sus_url',\n",
       "       'short_url', 'count_https', 'count_http', 'count%', 'count?', 'count-',\n",
       "       'count=', 'url_length', 'hostname_length', 'fd_length', 'tld_length',\n",
       "       'count_digits', 'count_letters', 'type_code'],\n",
       "      dtype='object')"
      ]
     },
     "execution_count": 117,
     "metadata": {},
     "output_type": "execute_result"
    }
   ],
   "source": [
    "df.columns"
   ]
  },
  {
   "cell_type": "markdown",
   "id": "48507c08",
   "metadata": {},
   "source": [
    "# Creation of Feature & Target"
   ]
  },
  {
   "cell_type": "code",
   "execution_count": 118,
   "id": "f221b1ef",
   "metadata": {},
   "outputs": [],
   "source": [
    "X = df[['use_of_ip','abnormal_url', 'count.', 'count-www', 'count@',\n",
    "       'count_dir', 'count_embed_domain', 'short_url', 'count_https',\n",
    "       'count_http', 'count%', 'count?', 'count-', 'count=', 'url_length',\n",
    "       'hostname_length', 'sus_url', 'fd_length', 'tld_length', 'count_digits',\n",
    "       'count_letters']]"
   ]
  },
  {
   "cell_type": "code",
   "execution_count": 119,
   "id": "855872d7",
   "metadata": {},
   "outputs": [],
   "source": [
    "Y = df['type_code']"
   ]
  },
  {
   "cell_type": "code",
   "execution_count": 120,
   "id": "e552a830",
   "metadata": {},
   "outputs": [
    {
     "data": {
      "text/plain": [
       "(651191, 21)"
      ]
     },
     "execution_count": 120,
     "metadata": {},
     "output_type": "execute_result"
    }
   ],
   "source": [
    "X.shape"
   ]
  },
  {
   "cell_type": "code",
   "execution_count": 121,
   "id": "5ef579cc",
   "metadata": {},
   "outputs": [
    {
     "data": {
      "text/plain": [
       "(651191,)"
      ]
     },
     "execution_count": 121,
     "metadata": {},
     "output_type": "execute_result"
    }
   ],
   "source": [
    "Y.shape"
   ]
  },
  {
   "cell_type": "markdown",
   "id": "e98b0269",
   "metadata": {},
   "source": [
    "# Split the Dataset"
   ]
  },
  {
   "cell_type": "code",
   "execution_count": 122,
   "id": "eabb9d3f",
   "metadata": {},
   "outputs": [],
   "source": [
    "from sklearn.model_selection import train_test_split"
   ]
  },
  {
   "cell_type": "code",
   "execution_count": 123,
   "id": "cc999411",
   "metadata": {},
   "outputs": [],
   "source": [
    "X_train, X_test, Y_train, Y_test = train_test_split(X, Y, test_size= 0.2 , shuffle = True, random_state = 42)"
   ]
  },
  {
   "cell_type": "code",
   "execution_count": 124,
   "id": "8f9e5c10",
   "metadata": {},
   "outputs": [
    {
     "data": {
      "text/plain": [
       "((520952, 21), (520952,))"
      ]
     },
     "execution_count": 124,
     "metadata": {},
     "output_type": "execute_result"
    }
   ],
   "source": [
    "X_train.shape , Y_train.shape"
   ]
  },
  {
   "cell_type": "code",
   "execution_count": 125,
   "id": "6fa549e5",
   "metadata": {},
   "outputs": [
    {
     "data": {
      "text/plain": [
       "((130239, 21), (130239,))"
      ]
     },
     "execution_count": 125,
     "metadata": {},
     "output_type": "execute_result"
    }
   ],
   "source": [
    "X_test.shape , Y_test.shape"
   ]
  },
  {
   "cell_type": "code",
   "execution_count": 126,
   "id": "87016405",
   "metadata": {},
   "outputs": [
    {
     "data": {
      "text/plain": [
       "use_of_ip             int64\n",
       "abnormal_url          int64\n",
       "count.                int64\n",
       "count-www             int64\n",
       "count@                int64\n",
       "count_dir             int64\n",
       "count_embed_domain    int64\n",
       "short_url             int64\n",
       "count_https           int64\n",
       "count_http            int64\n",
       "count%                int64\n",
       "count?                int64\n",
       "count-                int64\n",
       "count=                int64\n",
       "url_length            int64\n",
       "hostname_length       int64\n",
       "sus_url               int64\n",
       "fd_length             int64\n",
       "tld_length            int64\n",
       "count_digits          int64\n",
       "count_letters         int64\n",
       "dtype: object"
      ]
     },
     "execution_count": 126,
     "metadata": {},
     "output_type": "execute_result"
    }
   ],
   "source": [
    "X_train.dtypes"
   ]
  },
  {
   "cell_type": "code",
   "execution_count": 127,
   "id": "550d2a69",
   "metadata": {},
   "outputs": [
    {
     "data": {
      "text/plain": [
       "array([[ 0,  0,  2, ..., -1,  0, 34],\n",
       "       [ 0,  0,  2, ..., -1,  3, 19],\n",
       "       [ 0,  0,  2, ..., -1,  0, 26],\n",
       "       ...,\n",
       "       [ 0,  1,  3, ...,  2, 11, 67],\n",
       "       [ 0,  0,  2, ..., -1,  7, 39],\n",
       "       [ 0,  0,  2, ..., -1,  0, 35]], dtype=int64)"
      ]
     },
     "execution_count": 127,
     "metadata": {},
     "output_type": "execute_result"
    }
   ],
   "source": [
    "X_train.values"
   ]
  },
  {
   "cell_type": "markdown",
   "id": "b7098be1",
   "metadata": {},
   "source": [
    "# Model Building"
   ]
  },
  {
   "cell_type": "markdown",
   "id": "c492cec0",
   "metadata": {},
   "source": [
    "## Classification report Fuction"
   ]
  },
  {
   "cell_type": "code",
   "execution_count": 128,
   "id": "c64a7799",
   "metadata": {},
   "outputs": [],
   "source": [
    "from sklearn.metrics import accuracy_score , precision_recall_fscore_support, classification_report\n",
    "\n",
    "def result(y_pred , y_test):\n",
    "    accuracy = accuracy_score(y_test, y_pred) * 100\n",
    "#     print(accuracy)\n",
    "    \n",
    "    precision , recall, f1_score, support = precision_recall_fscore_support(y_test, y_pred, average=\"weighted\")\n",
    "    \n",
    "    res = {\n",
    "        \"Accuracy\": accuracy,\n",
    "        \"Precision\" : precision,\n",
    "        \"Recall\" : recall,\n",
    "        \"F1-Score\" : f1_score,\n",
    "        \"Support\" : support\n",
    "    }\n",
    "    \n",
    "    print(classification_report(y_test, y_pred ,target_names=['benign', 'defacement','phishing','malware']))\n",
    "    \n",
    "    \n",
    "    \n",
    "    return res\n",
    "    "
   ]
  },
  {
   "cell_type": "code",
   "execution_count": 129,
   "id": "f501fb95",
   "metadata": {},
   "outputs": [],
   "source": [
    "from sklearn.metrics import confusion_matrix\n",
    "\n",
    "def create_confusion_metric(y_pred , y_test):\n",
    "    cm = confusion_matrix(y_test, y_pred)\n",
    "    cm_df = pd.DataFrame(cm,\n",
    "                     index = ['benign', 'defacement','phishing','malware'], \n",
    "                     columns = ['benign', 'defacement','phishing','malware'])\n",
    "    \n",
    "    plt.figure(figsize=(8,6))\n",
    "    sns.heatmap(cm_df, annot=True,fmt=\".1f\")\n",
    "    plt.title('Confusion Matrix')\n",
    "    plt.ylabel('Actal Values')\n",
    "    plt.xlabel('Predicted Values')\n",
    "    plt.show()"
   ]
  },
  {
   "cell_type": "code",
   "execution_count": 130,
   "id": "192ab141",
   "metadata": {},
   "outputs": [
    {
     "name": "stdout",
     "output_type": "stream",
     "text": [
      "Object `aa?===` not found.\n"
     ]
    }
   ],
   "source": [
    "?aa?==="
   ]
  },
  {
   "cell_type": "markdown",
   "id": "75eb9050",
   "metadata": {},
   "source": [
    "## 1. Naive Bayes"
   ]
  },
  {
   "cell_type": "markdown",
   "id": "39a3a1a4",
   "metadata": {},
   "source": [
    "#### Gausian Naive Bayes"
   ]
  },
  {
   "cell_type": "code",
   "execution_count": 131,
   "id": "f1d978cd",
   "metadata": {},
   "outputs": [
    {
     "data": {
      "text/html": [
       "<style>#sk-container-id-1 {color: black;background-color: white;}#sk-container-id-1 pre{padding: 0;}#sk-container-id-1 div.sk-toggleable {background-color: white;}#sk-container-id-1 label.sk-toggleable__label {cursor: pointer;display: block;width: 100%;margin-bottom: 0;padding: 0.3em;box-sizing: border-box;text-align: center;}#sk-container-id-1 label.sk-toggleable__label-arrow:before {content: \"▸\";float: left;margin-right: 0.25em;color: #696969;}#sk-container-id-1 label.sk-toggleable__label-arrow:hover:before {color: black;}#sk-container-id-1 div.sk-estimator:hover label.sk-toggleable__label-arrow:before {color: black;}#sk-container-id-1 div.sk-toggleable__content {max-height: 0;max-width: 0;overflow: hidden;text-align: left;background-color: #f0f8ff;}#sk-container-id-1 div.sk-toggleable__content pre {margin: 0.2em;color: black;border-radius: 0.25em;background-color: #f0f8ff;}#sk-container-id-1 input.sk-toggleable__control:checked~div.sk-toggleable__content {max-height: 200px;max-width: 100%;overflow: auto;}#sk-container-id-1 input.sk-toggleable__control:checked~label.sk-toggleable__label-arrow:before {content: \"▾\";}#sk-container-id-1 div.sk-estimator input.sk-toggleable__control:checked~label.sk-toggleable__label {background-color: #d4ebff;}#sk-container-id-1 div.sk-label input.sk-toggleable__control:checked~label.sk-toggleable__label {background-color: #d4ebff;}#sk-container-id-1 input.sk-hidden--visually {border: 0;clip: rect(1px 1px 1px 1px);clip: rect(1px, 1px, 1px, 1px);height: 1px;margin: -1px;overflow: hidden;padding: 0;position: absolute;width: 1px;}#sk-container-id-1 div.sk-estimator {font-family: monospace;background-color: #f0f8ff;border: 1px dotted black;border-radius: 0.25em;box-sizing: border-box;margin-bottom: 0.5em;}#sk-container-id-1 div.sk-estimator:hover {background-color: #d4ebff;}#sk-container-id-1 div.sk-parallel-item::after {content: \"\";width: 100%;border-bottom: 1px solid gray;flex-grow: 1;}#sk-container-id-1 div.sk-label:hover label.sk-toggleable__label {background-color: #d4ebff;}#sk-container-id-1 div.sk-serial::before {content: \"\";position: absolute;border-left: 1px solid gray;box-sizing: border-box;top: 0;bottom: 0;left: 50%;z-index: 0;}#sk-container-id-1 div.sk-serial {display: flex;flex-direction: column;align-items: center;background-color: white;padding-right: 0.2em;padding-left: 0.2em;position: relative;}#sk-container-id-1 div.sk-item {position: relative;z-index: 1;}#sk-container-id-1 div.sk-parallel {display: flex;align-items: stretch;justify-content: center;background-color: white;position: relative;}#sk-container-id-1 div.sk-item::before, #sk-container-id-1 div.sk-parallel-item::before {content: \"\";position: absolute;border-left: 1px solid gray;box-sizing: border-box;top: 0;bottom: 0;left: 50%;z-index: -1;}#sk-container-id-1 div.sk-parallel-item {display: flex;flex-direction: column;z-index: 1;position: relative;background-color: white;}#sk-container-id-1 div.sk-parallel-item:first-child::after {align-self: flex-end;width: 50%;}#sk-container-id-1 div.sk-parallel-item:last-child::after {align-self: flex-start;width: 50%;}#sk-container-id-1 div.sk-parallel-item:only-child::after {width: 0;}#sk-container-id-1 div.sk-dashed-wrapped {border: 1px dashed gray;margin: 0 0.4em 0.5em 0.4em;box-sizing: border-box;padding-bottom: 0.4em;background-color: white;}#sk-container-id-1 div.sk-label label {font-family: monospace;font-weight: bold;display: inline-block;line-height: 1.2em;}#sk-container-id-1 div.sk-label-container {text-align: center;}#sk-container-id-1 div.sk-container {/* jupyter's `normalize.less` sets `[hidden] { display: none; }` but bootstrap.min.css set `[hidden] { display: none !important; }` so we also need the `!important` here to be able to override the default hidden behavior on the sphinx rendered scikit-learn.org. See: https://github.com/scikit-learn/scikit-learn/issues/21755 */display: inline-block !important;position: relative;}#sk-container-id-1 div.sk-text-repr-fallback {display: none;}</style><div id=\"sk-container-id-1\" class=\"sk-top-container\"><div class=\"sk-text-repr-fallback\"><pre>GaussianNB()</pre><b>In a Jupyter environment, please rerun this cell to show the HTML representation or trust the notebook. <br />On GitHub, the HTML representation is unable to render, please try loading this page with nbviewer.org.</b></div><div class=\"sk-container\" hidden><div class=\"sk-item\"><div class=\"sk-estimator sk-toggleable\"><input class=\"sk-toggleable__control sk-hidden--visually\" id=\"sk-estimator-id-1\" type=\"checkbox\" checked><label for=\"sk-estimator-id-1\" class=\"sk-toggleable__label sk-toggleable__label-arrow\">GaussianNB</label><div class=\"sk-toggleable__content\"><pre>GaussianNB()</pre></div></div></div></div></div>"
      ],
      "text/plain": [
       "GaussianNB()"
      ]
     },
     "execution_count": 131,
     "metadata": {},
     "output_type": "execute_result"
    }
   ],
   "source": [
    "from sklearn.naive_bayes import GaussianNB\n",
    "gnb = GaussianNB()\n",
    "gnb.fit(X_train, Y_train)"
   ]
  },
  {
   "cell_type": "code",
   "execution_count": 132,
   "id": "32626c7e",
   "metadata": {},
   "outputs": [
    {
     "data": {
      "text/plain": [
       "array([2, 0, 3, ..., 0, 0, 0])"
      ]
     },
     "execution_count": 132,
     "metadata": {},
     "output_type": "execute_result"
    }
   ],
   "source": [
    "y_pred_gnb = gnb.predict(X_test)\n",
    "y_pred_gnb"
   ]
  },
  {
   "cell_type": "code",
   "execution_count": 133,
   "id": "e84dd418",
   "metadata": {},
   "outputs": [
    {
     "name": "stdout",
     "output_type": "stream",
     "text": [
      "              precision    recall  f1-score   support\n",
      "\n",
      "      benign       0.89      0.91      0.90     84148\n",
      "  defacement       1.00      0.64      0.78     29928\n",
      "    phishing       0.54      0.59      0.57      6008\n",
      "     malware       0.39      0.72      0.50     10155\n",
      "\n",
      "    accuracy                           0.81    130239\n",
      "   macro avg       0.70      0.71      0.69    130239\n",
      "weighted avg       0.86      0.81      0.82    130239\n",
      "\n"
     ]
    },
    {
     "data": {
      "text/plain": [
       "{'Accuracy': 81.4802017828761,\n",
       " 'Precision': 0.8584704976998739,\n",
       " 'Recall': 0.8148020178287609,\n",
       " 'F1-Score': 0.82353055668684,\n",
       " 'Support': None}"
      ]
     },
     "execution_count": 133,
     "metadata": {},
     "output_type": "execute_result"
    }
   ],
   "source": [
    "result(Y_test, y_pred_gnb)"
   ]
  },
  {
   "cell_type": "code",
   "execution_count": 134,
   "id": "bd1e054a",
   "metadata": {},
   "outputs": [
    {
     "data": {
      "image/png": "[encoded data removed]",
      "text/plain": [
       "<Figure size 576x432 with 2 Axes>"
      ]
     },
     "metadata": {},
     "output_type": "display_data"
    }
   ],
   "source": [
    "create_confusion_metric(Y_test , y_pred_gnb)"
   ]
  },
  {
   "cell_type": "markdown",
   "id": "082b8cd1",
   "metadata": {},
   "source": [
    "#### Multinomial Naive Bayes"
   ]
  },
  {
   "cell_type": "code",
   "execution_count": 135,
   "id": "c1f07310",
   "metadata": {},
   "outputs": [],
   "source": [
    "X_df = X_train.drop(['tld_length'], axis = 1)\n",
    "X_test_df = X_test.drop(['tld_length'], axis = 1)"
   ]
  },
  {
   "cell_type": "code",
   "execution_count": 136,
   "id": "7f669b4f",
   "metadata": {},
   "outputs": [
    {
     "data": {
      "text/html": [
       "<style>#sk-container-id-2 {color: black;background-color: white;}#sk-container-id-2 pre{padding: 0;}#sk-container-id-2 div.sk-toggleable {background-color: white;}#sk-container-id-2 label.sk-toggleable__label {cursor: pointer;display: block;width: 100%;margin-bottom: 0;padding: 0.3em;box-sizing: border-box;text-align: center;}#sk-container-id-2 label.sk-toggleable__label-arrow:before {content: \"▸\";float: left;margin-right: 0.25em;color: #696969;}#sk-container-id-2 label.sk-toggleable__label-arrow:hover:before {color: black;}#sk-container-id-2 div.sk-estimator:hover label.sk-toggleable__label-arrow:before {color: black;}#sk-container-id-2 div.sk-toggleable__content {max-height: 0;max-width: 0;overflow: hidden;text-align: left;background-color: #f0f8ff;}#sk-container-id-2 div.sk-toggleable__content pre {margin: 0.2em;color: black;border-radius: 0.25em;background-color: #f0f8ff;}#sk-container-id-2 input.sk-toggleable__control:checked~div.sk-toggleable__content {max-height: 200px;max-width: 100%;overflow: auto;}#sk-container-id-2 input.sk-toggleable__control:checked~label.sk-toggleable__label-arrow:before {content: \"▾\";}#sk-container-id-2 div.sk-estimator input.sk-toggleable__control:checked~label.sk-toggleable__label {background-color: #d4ebff;}#sk-container-id-2 div.sk-label input.sk-toggleable__control:checked~label.sk-toggleable__label {background-color: #d4ebff;}#sk-container-id-2 input.sk-hidden--visually {border: 0;clip: rect(1px 1px 1px 1px);clip: rect(1px, 1px, 1px, 1px);height: 1px;margin: -1px;overflow: hidden;padding: 0;position: absolute;width: 1px;}#sk-container-id-2 div.sk-estimator {font-family: monospace;background-color: #f0f8ff;border: 1px dotted black;border-radius: 0.25em;box-sizing: border-box;margin-bottom: 0.5em;}#sk-container-id-2 div.sk-estimator:hover {background-color: #d4ebff;}#sk-container-id-2 div.sk-parallel-item::after {content: \"\";width: 100%;border-bottom: 1px solid gray;flex-grow: 1;}#sk-container-id-2 div.sk-label:hover label.sk-toggleable__label {background-color: #d4ebff;}#sk-container-id-2 div.sk-serial::before {content: \"\";position: absolute;border-left: 1px solid gray;box-sizing: border-box;top: 0;bottom: 0;left: 50%;z-index: 0;}#sk-container-id-2 div.sk-serial {display: flex;flex-direction: column;align-items: center;background-color: white;padding-right: 0.2em;padding-left: 0.2em;position: relative;}#sk-container-id-2 div.sk-item {position: relative;z-index: 1;}#sk-container-id-2 div.sk-parallel {display: flex;align-items: stretch;justify-content: center;background-color: white;position: relative;}#sk-container-id-2 div.sk-item::before, #sk-container-id-2 div.sk-parallel-item::before {content: \"\";position: absolute;border-left: 1px solid gray;box-sizing: border-box;top: 0;bottom: 0;left: 50%;z-index: -1;}#sk-container-id-2 div.sk-parallel-item {display: flex;flex-direction: column;z-index: 1;position: relative;background-color: white;}#sk-container-id-2 div.sk-parallel-item:first-child::after {align-self: flex-end;width: 50%;}#sk-container-id-2 div.sk-parallel-item:last-child::after {align-self: flex-start;width: 50%;}#sk-container-id-2 div.sk-parallel-item:only-child::after {width: 0;}#sk-container-id-2 div.sk-dashed-wrapped {border: 1px dashed gray;margin: 0 0.4em 0.5em 0.4em;box-sizing: border-box;padding-bottom: 0.4em;background-color: white;}#sk-container-id-2 div.sk-label label {font-family: monospace;font-weight: bold;display: inline-block;line-height: 1.2em;}#sk-container-id-2 div.sk-label-container {text-align: center;}#sk-container-id-2 div.sk-container {/* jupyter's `normalize.less` sets `[hidden] { display: none; }` but bootstrap.min.css set `[hidden] { display: none !important; }` so we also need the `!important` here to be able to override the default hidden behavior on the sphinx rendered scikit-learn.org. See: https://github.com/scikit-learn/scikit-learn/issues/21755 */display: inline-block !important;position: relative;}#sk-container-id-2 div.sk-text-repr-fallback {display: none;}</style><div id=\"sk-container-id-2\" class=\"sk-top-container\"><div class=\"sk-text-repr-fallback\"><pre>MultinomialNB()</pre><b>In a Jupyter environment, please rerun this cell to show the HTML representation or trust the notebook. <br />On GitHub, the HTML representation is unable to render, please try loading this page with nbviewer.org.</b></div><div class=\"sk-container\" hidden><div class=\"sk-item\"><div class=\"sk-estimator sk-toggleable\"><input class=\"sk-toggleable__control sk-hidden--visually\" id=\"sk-estimator-id-2\" type=\"checkbox\" checked><label for=\"sk-estimator-id-2\" class=\"sk-toggleable__label sk-toggleable__label-arrow\">MultinomialNB</label><div class=\"sk-toggleable__content\"><pre>MultinomialNB()</pre></div></div></div></div></div>"
      ],
      "text/plain": [
       "MultinomialNB()"
      ]
     },
     "execution_count": 136,
     "metadata": {},
     "output_type": "execute_result"
    }
   ],
   "source": [
    "from sklearn.naive_bayes import MultinomialNB\n",
    "mnb = MultinomialNB()\n",
    "mnb.fit(X_df, Y_train)"
   ]
  },
  {
   "cell_type": "code",
   "execution_count": 137,
   "id": "b877e2d9",
   "metadata": {},
   "outputs": [
    {
     "data": {
      "text/plain": [
       "array([2, 0, 0, ..., 0, 0, 0])"
      ]
     },
     "execution_count": 137,
     "metadata": {},
     "output_type": "execute_result"
    }
   ],
   "source": [
    "y_pred_mnb = mnb.predict(X_test_df)\n",
    "y_pred_mnb"
   ]
  },
  {
   "cell_type": "code",
   "execution_count": 138,
   "id": "94702e0e",
   "metadata": {},
   "outputs": [
    {
     "name": "stdout",
     "output_type": "stream",
     "text": [
      "              precision    recall  f1-score   support\n",
      "\n",
      "      benign       0.92      0.85      0.89     93334\n",
      "  defacement       0.91      0.73      0.81     23825\n",
      "    phishing       0.63      0.56      0.59      7301\n",
      "     malware       0.09      0.29      0.13      5779\n",
      "\n",
      "    accuracy                           0.79    130239\n",
      "   macro avg       0.64      0.61      0.61    130239\n",
      "weighted avg       0.87      0.79      0.82    130239\n",
      "\n"
     ]
    },
    {
     "data": {
      "text/plain": [
       "{'Accuracy': 78.71374933775597,\n",
       " 'Precision': 0.8689043911496918,\n",
       " 'Recall': 0.7871374933775597,\n",
       " 'F1-Score': 0.8226276869320237,\n",
       " 'Support': None}"
      ]
     },
     "execution_count": 138,
     "metadata": {},
     "output_type": "execute_result"
    }
   ],
   "source": [
    "result(Y_test, y_pred_mnb)"
   ]
  },
  {
   "cell_type": "code",
   "execution_count": 139,
   "id": "5ba26ee2",
   "metadata": {},
   "outputs": [
    {
     "data": {
      "image/png": "[encoded data removed]",
      "text/plain": [
       "<Figure size 576x432 with 2 Axes>"
      ]
     },
     "metadata": {},
     "output_type": "display_data"
    }
   ],
   "source": [
    "create_confusion_metric(Y_test , y_pred_mnb)"
   ]
  },
  {
   "cell_type": "markdown",
   "id": "092e95ee",
   "metadata": {},
   "source": [
    "#### Bernoulli Naive Bayes"
   ]
  },
  {
   "cell_type": "code",
   "execution_count": 140,
   "id": "954e4d3d",
   "metadata": {},
   "outputs": [
    {
     "data": {
      "text/html": [
       "<style>#sk-container-id-3 {color: black;background-color: white;}#sk-container-id-3 pre{padding: 0;}#sk-container-id-3 div.sk-toggleable {background-color: white;}#sk-container-id-3 label.sk-toggleable__label {cursor: pointer;display: block;width: 100%;margin-bottom: 0;padding: 0.3em;box-sizing: border-box;text-align: center;}#sk-container-id-3 label.sk-toggleable__label-arrow:before {content: \"▸\";float: left;margin-right: 0.25em;color: #696969;}#sk-container-id-3 label.sk-toggleable__label-arrow:hover:before {color: black;}#sk-container-id-3 div.sk-estimator:hover label.sk-toggleable__label-arrow:before {color: black;}#sk-container-id-3 div.sk-toggleable__content {max-height: 0;max-width: 0;overflow: hidden;text-align: left;background-color: #f0f8ff;}#sk-container-id-3 div.sk-toggleable__content pre {margin: 0.2em;color: black;border-radius: 0.25em;background-color: #f0f8ff;}#sk-container-id-3 input.sk-toggleable__control:checked~div.sk-toggleable__content {max-height: 200px;max-width: 100%;overflow: auto;}#sk-container-id-3 input.sk-toggleable__control:checked~label.sk-toggleable__label-arrow:before {content: \"▾\";}#sk-container-id-3 div.sk-estimator input.sk-toggleable__control:checked~label.sk-toggleable__label {background-color: #d4ebff;}#sk-container-id-3 div.sk-label input.sk-toggleable__control:checked~label.sk-toggleable__label {background-color: #d4ebff;}#sk-container-id-3 input.sk-hidden--visually {border: 0;clip: rect(1px 1px 1px 1px);clip: rect(1px, 1px, 1px, 1px);height: 1px;margin: -1px;overflow: hidden;padding: 0;position: absolute;width: 1px;}#sk-container-id-3 div.sk-estimator {font-family: monospace;background-color: #f0f8ff;border: 1px dotted black;border-radius: 0.25em;box-sizing: border-box;margin-bottom: 0.5em;}#sk-container-id-3 div.sk-estimator:hover {background-color: #d4ebff;}#sk-container-id-3 div.sk-parallel-item::after {content: \"\";width: 100%;border-bottom: 1px solid gray;flex-grow: 1;}#sk-container-id-3 div.sk-label:hover label.sk-toggleable__label {background-color: #d4ebff;}#sk-container-id-3 div.sk-serial::before {content: \"\";position: absolute;border-left: 1px solid gray;box-sizing: border-box;top: 0;bottom: 0;left: 50%;z-index: 0;}#sk-container-id-3 div.sk-serial {display: flex;flex-direction: column;align-items: center;background-color: white;padding-right: 0.2em;padding-left: 0.2em;position: relative;}#sk-container-id-3 div.sk-item {position: relative;z-index: 1;}#sk-container-id-3 div.sk-parallel {display: flex;align-items: stretch;justify-content: center;background-color: white;position: relative;}#sk-container-id-3 div.sk-item::before, #sk-container-id-3 div.sk-parallel-item::before {content: \"\";position: absolute;border-left: 1px solid gray;box-sizing: border-box;top: 0;bottom: 0;left: 50%;z-index: -1;}#sk-container-id-3 div.sk-parallel-item {display: flex;flex-direction: column;z-index: 1;position: relative;background-color: white;}#sk-container-id-3 div.sk-parallel-item:first-child::after {align-self: flex-end;width: 50%;}#sk-container-id-3 div.sk-parallel-item:last-child::after {align-self: flex-start;width: 50%;}#sk-container-id-3 div.sk-parallel-item:only-child::after {width: 0;}#sk-container-id-3 div.sk-dashed-wrapped {border: 1px dashed gray;margin: 0 0.4em 0.5em 0.4em;box-sizing: border-box;padding-bottom: 0.4em;background-color: white;}#sk-container-id-3 div.sk-label label {font-family: monospace;font-weight: bold;display: inline-block;line-height: 1.2em;}#sk-container-id-3 div.sk-label-container {text-align: center;}#sk-container-id-3 div.sk-container {/* jupyter's `normalize.less` sets `[hidden] { display: none; }` but bootstrap.min.css set `[hidden] { display: none !important; }` so we also need the `!important` here to be able to override the default hidden behavior on the sphinx rendered scikit-learn.org. See: https://github.com/scikit-learn/scikit-learn/issues/21755 */display: inline-block !important;position: relative;}#sk-container-id-3 div.sk-text-repr-fallback {display: none;}</style><div id=\"sk-container-id-3\" class=\"sk-top-container\"><div class=\"sk-text-repr-fallback\"><pre>BernoulliNB()</pre><b>In a Jupyter environment, please rerun this cell to show the HTML representation or trust the notebook. <br />On GitHub, the HTML representation is unable to render, please try loading this page with nbviewer.org.</b></div><div class=\"sk-container\" hidden><div class=\"sk-item\"><div class=\"sk-estimator sk-toggleable\"><input class=\"sk-toggleable__control sk-hidden--visually\" id=\"sk-estimator-id-3\" type=\"checkbox\" checked><label for=\"sk-estimator-id-3\" class=\"sk-toggleable__label sk-toggleable__label-arrow\">BernoulliNB</label><div class=\"sk-toggleable__content\"><pre>BernoulliNB()</pre></div></div></div></div></div>"
      ],
      "text/plain": [
       "BernoulliNB()"
      ]
     },
     "execution_count": 140,
     "metadata": {},
     "output_type": "execute_result"
    }
   ],
   "source": [
    "from sklearn.naive_bayes import BernoulliNB\n",
    "bnb = BernoulliNB(binarize=0.0)\n",
    "bnb.fit(X_train , Y_train)\n"
   ]
  },
  {
   "cell_type": "code",
   "execution_count": 141,
   "id": "c294fe25",
   "metadata": {},
   "outputs": [
    {
     "data": {
      "text/plain": [
       "array([2, 0, 3, ..., 0, 0, 0])"
      ]
     },
     "execution_count": 141,
     "metadata": {},
     "output_type": "execute_result"
    }
   ],
   "source": [
    "y_pred_bnb = bnb.predict(X_test)\n",
    "y_pred_bnb"
   ]
  },
  {
   "cell_type": "code",
   "execution_count": 142,
   "id": "cdcdad45",
   "metadata": {},
   "outputs": [
    {
     "name": "stdout",
     "output_type": "stream",
     "text": [
      "              precision    recall  f1-score   support\n",
      "\n",
      "      benign       0.90      0.93      0.92     83501\n",
      "  defacement       0.98      0.66      0.79     28625\n",
      "    phishing       0.74      0.56      0.64      8719\n",
      "     malware       0.44      0.88      0.58      9394\n",
      "\n",
      "    accuracy                           0.84    130239\n",
      "   macro avg       0.77      0.75      0.73    130239\n",
      "weighted avg       0.88      0.84      0.85    130239\n",
      "\n"
     ]
    },
    {
     "data": {
      "text/plain": [
       "{'Accuracy': 84.06621672463702,\n",
       " 'Precision': 0.8777021137097988,\n",
       " 'Recall': 0.8406621672463701,\n",
       " 'F1-Score': 0.8457018719312173,\n",
       " 'Support': None}"
      ]
     },
     "execution_count": 142,
     "metadata": {},
     "output_type": "execute_result"
    }
   ],
   "source": [
    "result(Y_test, y_pred_bnb)"
   ]
  },
  {
   "cell_type": "code",
   "execution_count": 143,
   "id": "54b30063",
   "metadata": {},
   "outputs": [
    {
     "data": {
      "image/png": "[encoded data removed]",
      "text/plain": [
       "<Figure size 576x432 with 2 Axes>"
      ]
     },
     "metadata": {},
     "output_type": "display_data"
    }
   ],
   "source": [
    "create_confusion_metric(Y_test , y_pred_bnb)"
   ]
  },
  {
   "cell_type": "code",
   "execution_count": null,
   "id": "ddb84168",
   "metadata": {},
   "outputs": [],
   "source": []
  },
  {
   "cell_type": "markdown",
   "id": "15af664f",
   "metadata": {},
   "source": [
    "## 2. Random Forest Classification"
   ]
  },
  {
   "cell_type": "code",
   "execution_count": 144,
   "id": "51092c44",
   "metadata": {},
   "outputs": [
    {
     "data": {
      "text/html": [
       "<style>#sk-container-id-4 {color: black;background-color: white;}#sk-container-id-4 pre{padding: 0;}#sk-container-id-4 div.sk-toggleable {background-color: white;}#sk-container-id-4 label.sk-toggleable__label {cursor: pointer;display: block;width: 100%;margin-bottom: 0;padding: 0.3em;box-sizing: border-box;text-align: center;}#sk-container-id-4 label.sk-toggleable__label-arrow:before {content: \"▸\";float: left;margin-right: 0.25em;color: #696969;}#sk-container-id-4 label.sk-toggleable__label-arrow:hover:before {color: black;}#sk-container-id-4 div.sk-estimator:hover label.sk-toggleable__label-arrow:before {color: black;}#sk-container-id-4 div.sk-toggleable__content {max-height: 0;max-width: 0;overflow: hidden;text-align: left;background-color: #f0f8ff;}#sk-container-id-4 div.sk-toggleable__content pre {margin: 0.2em;color: black;border-radius: 0.25em;background-color: #f0f8ff;}#sk-container-id-4 input.sk-toggleable__control:checked~div.sk-toggleable__content {max-height: 200px;max-width: 100%;overflow: auto;}#sk-container-id-4 input.sk-toggleable__control:checked~label.sk-toggleable__label-arrow:before {content: \"▾\";}#sk-container-id-4 div.sk-estimator input.sk-toggleable__control:checked~label.sk-toggleable__label {background-color: #d4ebff;}#sk-container-id-4 div.sk-label input.sk-toggleable__control:checked~label.sk-toggleable__label {background-color: #d4ebff;}#sk-container-id-4 input.sk-hidden--visually {border: 0;clip: rect(1px 1px 1px 1px);clip: rect(1px, 1px, 1px, 1px);height: 1px;margin: -1px;overflow: hidden;padding: 0;position: absolute;width: 1px;}#sk-container-id-4 div.sk-estimator {font-family: monospace;background-color: #f0f8ff;border: 1px dotted black;border-radius: 0.25em;box-sizing: border-box;margin-bottom: 0.5em;}#sk-container-id-4 div.sk-estimator:hover {background-color: #d4ebff;}#sk-container-id-4 div.sk-parallel-item::after {content: \"\";width: 100%;border-bottom: 1px solid gray;flex-grow: 1;}#sk-container-id-4 div.sk-label:hover label.sk-toggleable__label {background-color: #d4ebff;}#sk-container-id-4 div.sk-serial::before {content: \"\";position: absolute;border-left: 1px solid gray;box-sizing: border-box;top: 0;bottom: 0;left: 50%;z-index: 0;}#sk-container-id-4 div.sk-serial {display: flex;flex-direction: column;align-items: center;background-color: white;padding-right: 0.2em;padding-left: 0.2em;position: relative;}#sk-container-id-4 div.sk-item {position: relative;z-index: 1;}#sk-container-id-4 div.sk-parallel {display: flex;align-items: stretch;justify-content: center;background-color: white;position: relative;}#sk-container-id-4 div.sk-item::before, #sk-container-id-4 div.sk-parallel-item::before {content: \"\";position: absolute;border-left: 1px solid gray;box-sizing: border-box;top: 0;bottom: 0;left: 50%;z-index: -1;}#sk-container-id-4 div.sk-parallel-item {display: flex;flex-direction: column;z-index: 1;position: relative;background-color: white;}#sk-container-id-4 div.sk-parallel-item:first-child::after {align-self: flex-end;width: 50%;}#sk-container-id-4 div.sk-parallel-item:last-child::after {align-self: flex-start;width: 50%;}#sk-container-id-4 div.sk-parallel-item:only-child::after {width: 0;}#sk-container-id-4 div.sk-dashed-wrapped {border: 1px dashed gray;margin: 0 0.4em 0.5em 0.4em;box-sizing: border-box;padding-bottom: 0.4em;background-color: white;}#sk-container-id-4 div.sk-label label {font-family: monospace;font-weight: bold;display: inline-block;line-height: 1.2em;}#sk-container-id-4 div.sk-label-container {text-align: center;}#sk-container-id-4 div.sk-container {/* jupyter's `normalize.less` sets `[hidden] { display: none; }` but bootstrap.min.css set `[hidden] { display: none !important; }` so we also need the `!important` here to be able to override the default hidden behavior on the sphinx rendered scikit-learn.org. See: https://github.com/scikit-learn/scikit-learn/issues/21755 */display: inline-block !important;position: relative;}#sk-container-id-4 div.sk-text-repr-fallback {display: none;}</style><div id=\"sk-container-id-4\" class=\"sk-top-container\"><div class=\"sk-text-repr-fallback\"><pre>RandomForestClassifier()</pre><b>In a Jupyter environment, please rerun this cell to show the HTML representation or trust the notebook. <br />On GitHub, the HTML representation is unable to render, please try loading this page with nbviewer.org.</b></div><div class=\"sk-container\" hidden><div class=\"sk-item\"><div class=\"sk-estimator sk-toggleable\"><input class=\"sk-toggleable__control sk-hidden--visually\" id=\"sk-estimator-id-4\" type=\"checkbox\" checked><label for=\"sk-estimator-id-4\" class=\"sk-toggleable__label sk-toggleable__label-arrow\">RandomForestClassifier</label><div class=\"sk-toggleable__content\"><pre>RandomForestClassifier()</pre></div></div></div></div></div>"
      ],
      "text/plain": [
       "RandomForestClassifier()"
      ]
     },
     "execution_count": 144,
     "metadata": {},
     "output_type": "execute_result"
    }
   ],
   "source": [
    "from sklearn.ensemble import RandomForestClassifier\n",
    "rf = RandomForestClassifier(n_estimators=100, max_features='sqrt')\n",
    "rf.fit(X_train,Y_train)"
   ]
  },
  {
   "cell_type": "code",
   "execution_count": 145,
   "id": "055c236d",
   "metadata": {},
   "outputs": [
    {
     "name": "stdout",
     "output_type": "stream",
     "text": [
      "              precision    recall  f1-score   support\n",
      "\n",
      "      benign       0.97      0.98      0.98     85778\n",
      "  defacement       0.98      0.99      0.99     19104\n",
      "    phishing       0.99      0.94      0.96      6521\n",
      "     malware       0.91      0.87      0.89     18836\n",
      "\n",
      "    accuracy                           0.97    130239\n",
      "   macro avg       0.96      0.95      0.95    130239\n",
      "weighted avg       0.97      0.97      0.97    130239\n",
      "\n"
     ]
    }
   ],
   "source": [
    "y_pred_rf = rf.predict(X_test)\n",
    "print(classification_report(Y_test,y_pred_rf,target_names=['benign', 'defacement','phishing','malware']))"
   ]
  },
  {
   "cell_type": "code",
   "execution_count": 146,
   "id": "b235c6f3",
   "metadata": {},
   "outputs": [
    {
     "name": "stdout",
     "output_type": "stream",
     "text": [
      "              precision    recall  f1-score   support\n",
      "\n",
      "      benign       0.98      0.97      0.98     86655\n",
      "  defacement       0.99      0.98      0.99     19357\n",
      "    phishing       0.94      0.99      0.96      6197\n",
      "     malware       0.87      0.91      0.89     18030\n",
      "\n",
      "    accuracy                           0.97    130239\n",
      "   macro avg       0.95      0.96      0.95    130239\n",
      "weighted avg       0.97      0.97      0.97    130239\n",
      "\n"
     ]
    },
    {
     "data": {
      "text/plain": [
       "{'Accuracy': 96.65998663994657,\n",
       " 'Precision': 0.9674554695049024,\n",
       " 'Recall': 0.9665998663994656,\n",
       " 'F1-Score': 0.9669160225709188,\n",
       " 'Support': None}"
      ]
     },
     "execution_count": 146,
     "metadata": {},
     "output_type": "execute_result"
    }
   ],
   "source": [
    "result(Y_test , y_pred_rf)"
   ]
  },
  {
   "cell_type": "code",
   "execution_count": 147,
   "id": "bab2a613",
   "metadata": {},
   "outputs": [
    {
     "data": {
      "image/png": "[encoded data removed]",
      "text/plain": [
       "<Figure size 576x432 with 2 Axes>"
      ]
     },
     "metadata": {},
     "output_type": "display_data"
    }
   ],
   "source": [
    "create_confusion_metric(Y_test , y_pred_rf)"
   ]
  },
  {
   "cell_type": "code",
   "execution_count": 149,
   "id": "ed2a0359",
   "metadata": {},
   "outputs": [],
   "source": [
    "# rf.predict(['http://google.com'])"
   ]
  },
  {
   "cell_type": "code",
   "execution_count": null,
   "id": "e6642eeb",
   "metadata": {},
   "outputs": [],
   "source": []
  },
  {
   "cell_type": "markdown",
   "id": "6c85d43f",
   "metadata": {},
   "source": [
    "# Deep Learning Models"
   ]
  },
  {
   "cell_type": "code",
   "execution_count": 150,
   "id": "6e09ad4f",
   "metadata": {},
   "outputs": [],
   "source": [
    "from tensorflow.keras import layers, models\n",
    "from tensorflow.keras.layers import SimpleRNN, Dropout, Dense\n",
    "from tensorflow.keras.models import Sequential\n"
   ]
  },
  {
   "cell_type": "code",
   "execution_count": 151,
   "id": "b02b553a",
   "metadata": {},
   "outputs": [
    {
     "data": {
      "text/plain": [
       "(520952, 21)"
      ]
     },
     "execution_count": 151,
     "metadata": {},
     "output_type": "execute_result"
    }
   ],
   "source": [
    "X_train_df = X_train.to_numpy()\n",
    "X_test_df = X_test.to_numpy()\n",
    "Y_train_df = Y_train.to_numpy()\n",
    "Y_test_df = Y_test.to_numpy()\n",
    "\n",
    "X_train_df.shape"
   ]
  },
  {
   "cell_type": "markdown",
   "id": "966f6b04",
   "metadata": {},
   "source": [
    "## Bidirectional LSTM RNN"
   ]
  },
  {
   "cell_type": "code",
   "execution_count": 170,
   "id": "0a4aa864",
   "metadata": {},
   "outputs": [],
   "source": [
    "model_BiLSTM = Sequential([\n",
    "    \n",
    "    layers.InputLayer(input_shape=(21, 1)),\n",
    "    \n",
    "    layers.Bidirectional(layers.LSTM(128, activation = 'tanh' , return_sequences=True)),\n",
    "    \n",
    "    layers.Bidirectional(layers.LSTM(128, activation = 'tanh' , return_sequences=True)),\n",
    "    \n",
    "    layers.Bidirectional(layers.LSTM(256, activation = 'tanh' )),\n",
    "    \n",
    "    layers.Dropout(0.3),\n",
    "    \n",
    "    layers.Dense(128, activation= 'relu'),\n",
    "    \n",
    "    layers.Dropout(0.2),\n",
    "    \n",
    "    layers.Dense(4 , activation='softmax')\n",
    "    \n",
    "])"
   ]
  },
  {
   "cell_type": "code",
   "execution_count": 171,
   "id": "ab3cc132",
   "metadata": {},
   "outputs": [],
   "source": [
    "model_BiLSTM.compile(\n",
    "    optimizer=keras.optimizers.Adam(),\n",
    "    loss = keras.losses.sparse_categorical_crossentropy,\n",
    "    metrics=['accuracy']\n",
    ")"
   ]
  },
  {
   "cell_type": "code",
   "execution_count": 172,
   "id": "6d8c36d7",
   "metadata": {},
   "outputs": [
    {
     "name": "stdout",
     "output_type": "stream",
     "text": [
      "Model: \"sequential_2\"\n",
      "_________________________________________________________________\n",
      " Layer (type)                Output Shape              Param #   \n",
      "=================================================================\n",
      " bidirectional (Bidirectiona  (None, 21, 256)          133120    \n",
      " l)                                                              \n",
      "                                                                 \n",
      " bidirectional_1 (Bidirectio  (None, 21, 256)          394240    \n",
      " nal)                                                            \n",
      "                                                                 \n",
      " bidirectional_2 (Bidirectio  (None, 512)              1050624   \n",
      " nal)                                                            \n",
      "                                                                 \n",
      " dropout_1 (Dropout)         (None, 512)               0         \n",
      "                                                                 \n",
      " dense_4 (Dense)             (None, 128)               65664     \n",
      "                                                                 \n",
      " dropout_2 (Dropout)         (None, 128)               0         \n",
      "                                                                 \n",
      " dense_5 (Dense)             (None, 4)                 516       \n",
      "                                                                 \n",
      "=================================================================\n",
      "Total params: 1,644,164\n",
      "Trainable params: 1,644,164\n",
      "Non-trainable params: 0\n",
      "_________________________________________________________________\n"
     ]
    }
   ],
   "source": [
    "model_BiLSTM.summary()"
   ]
  },
  {
   "cell_type": "code",
   "execution_count": 173,
   "id": "27c9d489",
   "metadata": {
    "scrolled": true
   },
   "outputs": [
    {
     "name": "stdout",
     "output_type": "stream",
     "text": [
      "Epoch 1/25\n",
      "4070/4070 [==============================] - 1340s 328ms/step - loss: 0.2430 - accuracy: 0.9163 - val_loss: 0.1731 - val_accuracy: 0.9428\n",
      "Epoch 2/25\n",
      "4070/4070 [==============================] - 239s 59ms/step - loss: 0.1680 - accuracy: 0.9448 - val_loss: 0.1505 - val_accuracy: 0.9512\n",
      "Epoch 3/25\n",
      "4070/4070 [==============================] - 226s 56ms/step - loss: 0.1477 - accuracy: 0.9517 - val_loss: 0.1387 - val_accuracy: 0.9537\n",
      "Epoch 4/25\n",
      "4070/4070 [==============================] - 223s 55ms/step - loss: 0.1374 - accuracy: 0.9547 - val_loss: 0.1298 - val_accuracy: 0.9569\n",
      "Epoch 5/25\n",
      "4070/4070 [==============================] - 243s 60ms/step - loss: 0.1293 - accuracy: 0.9570 - val_loss: 0.1295 - val_accuracy: 0.9568\n",
      "Epoch 6/25\n",
      "4070/4070 [==============================] - 241s 59ms/step - loss: 0.1234 - accuracy: 0.9591 - val_loss: 0.1232 - val_accuracy: 0.9597\n",
      "Epoch 7/25\n",
      "4070/4070 [==============================] - 240s 59ms/step - loss: 0.1187 - accuracy: 0.9604 - val_loss: 0.1206 - val_accuracy: 0.9601\n",
      "Epoch 8/25\n",
      "4070/4070 [==============================] - 239s 59ms/step - loss: 0.1151 - accuracy: 0.9616 - val_loss: 0.1146 - val_accuracy: 0.9619\n",
      "Epoch 9/25\n",
      "4070/4070 [==============================] - 241s 59ms/step - loss: 0.1116 - accuracy: 0.9626 - val_loss: 0.1126 - val_accuracy: 0.9629\n",
      "Epoch 10/25\n",
      "4070/4070 [==============================] - 249s 61ms/step - loss: 0.1091 - accuracy: 0.9635 - val_loss: 0.1142 - val_accuracy: 0.9625\n",
      "Epoch 11/25\n",
      "4070/4070 [==============================] - 245s 60ms/step - loss: 0.1065 - accuracy: 0.9642 - val_loss: 0.1142 - val_accuracy: 0.9619\n",
      "Epoch 12/25\n",
      "4070/4070 [==============================] - 250s 61ms/step - loss: 0.1043 - accuracy: 0.9649 - val_loss: 0.1105 - val_accuracy: 0.9632\n",
      "Epoch 13/25\n",
      "4070/4070 [==============================] - 246s 60ms/step - loss: 0.1027 - accuracy: 0.9653 - val_loss: 0.1128 - val_accuracy: 0.9629\n",
      "Epoch 14/25\n",
      "4070/4070 [==============================] - 194s 48ms/step - loss: 0.1008 - accuracy: 0.9658 - val_loss: 0.1103 - val_accuracy: 0.9640\n",
      "Epoch 15/25\n",
      "4070/4070 [==============================] - 161s 40ms/step - loss: 0.0994 - accuracy: 0.9665 - val_loss: 0.1122 - val_accuracy: 0.9641\n",
      "Epoch 16/25\n",
      "4070/4070 [==============================] - 242s 59ms/step - loss: 0.0983 - accuracy: 0.9667 - val_loss: 0.1168 - val_accuracy: 0.9613\n",
      "Epoch 17/25\n",
      "4070/4070 [==============================] - 165s 40ms/step - loss: 0.0963 - accuracy: 0.9673 - val_loss: 0.1129 - val_accuracy: 0.9637\n",
      "Epoch 18/25\n",
      "4070/4070 [==============================] - 192s 47ms/step - loss: 0.0954 - accuracy: 0.9676 - val_loss: 0.1100 - val_accuracy: 0.9637\n",
      "Epoch 19/25\n",
      "4070/4070 [==============================] - 229s 56ms/step - loss: 0.0944 - accuracy: 0.9677 - val_loss: 0.1095 - val_accuracy: 0.9648\n",
      "Epoch 20/25\n",
      "4070/4070 [==============================] - 243s 60ms/step - loss: 0.0939 - accuracy: 0.9680 - val_loss: 0.1075 - val_accuracy: 0.9645\n",
      "Epoch 21/25\n",
      "4070/4070 [==============================] - 242s 59ms/step - loss: 0.0921 - accuracy: 0.9684 - val_loss: 0.1101 - val_accuracy: 0.9645\n",
      "Epoch 22/25\n",
      "4070/4070 [==============================] - 241s 59ms/step - loss: 0.0916 - accuracy: 0.9687 - val_loss: 0.1095 - val_accuracy: 0.9649\n",
      "Epoch 23/25\n",
      "4070/4070 [==============================] - 242s 60ms/step - loss: 0.0907 - accuracy: 0.9689 - val_loss: 0.1077 - val_accuracy: 0.9656\n",
      "Epoch 24/25\n",
      "4070/4070 [==============================] - 242s 59ms/step - loss: 0.0900 - accuracy: 0.9691 - val_loss: 0.1089 - val_accuracy: 0.9654\n",
      "Epoch 25/25\n",
      "4070/4070 [==============================] - 242s 59ms/step - loss: 0.0890 - accuracy: 0.9694 - val_loss: 0.1120 - val_accuracy: 0.9642\n"
     ]
    }
   ],
   "source": [
    "History_BiLSTM = model_BiLSTM.fit(\n",
    "    x = X_train_df,\n",
    "    y = Y_train_df,\n",
    "    batch_size= 128,\n",
    "    epochs= 25,\n",
    "    shuffle = True,\n",
    "    validation_data= (X_test_df, Y_test_df),\n",
    "    verbose = 1,\n",
    ")"
   ]
  },
  {
   "cell_type": "code",
   "execution_count": 175,
   "id": "5ca8adfc",
   "metadata": {},
   "outputs": [
    {
     "name": "stdout",
     "output_type": "stream",
     "text": [
      "4070/4070 [==============================] - 89s 21ms/step\n"
     ]
    }
   ],
   "source": [
    "y_pred_BiLSTM = model_BiLSTM.predict(X_test_df)"
   ]
  },
  {
   "cell_type": "code",
   "execution_count": 176,
   "id": "46eec30f",
   "metadata": {},
   "outputs": [
    {
     "data": {
      "text/plain": [
       "array([[1.11610854e-09, 1.67245051e-09, 9.94763613e-01, 5.23640541e-03],\n",
       "       [9.99717891e-01, 2.09262607e-13, 1.10236499e-06, 2.81025888e-04],\n",
       "       [6.65833196e-03, 4.39666309e-14, 2.15333529e-08, 9.93341625e-01],\n",
       "       ...,\n",
       "       [9.99960661e-01, 1.16987007e-24, 2.96377636e-12, 3.93248047e-05],\n",
       "       [9.03300166e-01, 6.16542764e-08, 9.13489566e-05, 9.66083482e-02],\n",
       "       [9.96214688e-01, 1.36255075e-14, 1.00644804e-07, 3.78521788e-03]],\n",
       "      dtype=float32)"
      ]
     },
     "execution_count": 176,
     "metadata": {},
     "output_type": "execute_result"
    }
   ],
   "source": [
    "y_pred_BiLSTM"
   ]
  },
  {
   "cell_type": "code",
   "execution_count": 177,
   "id": "7a5fb8d1",
   "metadata": {},
   "outputs": [
    {
     "data": {
      "text/plain": [
       "[2,\n",
       " 0,\n",
       " 3,\n",
       " 1,\n",
       " 0,\n",
       " 0,\n",
       " 1,\n",
       " 0,\n",
       " 1,\n",
       " 0,\n",
       " 0,\n",
       " 0,\n",
       " 1,\n",
       " 1,\n",
       " 0,\n",
       " 0,\n",
       " 0,\n",
       " 1,\n",
       " 0,\n",
       " 0,\n",
       " 1,\n",
       " 0,\n",
       " 0,\n",
       " 0,\n",
       " 3,\n",
       " 0,\n",
       " 0,\n",
       " 1,\n",
       " 0,\n",
       " 3,\n",
       " 3,\n",
       " 0,\n",
       " 1,\n",
       " 0,\n",
       " 0,\n",
       " 0,\n",
       " 0,\n",
       " 0,\n",
       " 1,\n",
       " 0,\n",
       " 0,\n",
       " 0,\n",
       " 0,\n",
       " 0,\n",
       " 1,\n",
       " 0,\n",
       " 1,\n",
       " 1,\n",
       " 0,\n",
       " 0,\n",
       " 3,\n",
       " 0,\n",
       " 0,\n",
       " 3,\n",
       " 0,\n",
       " 2,\n",
       " 0,\n",
       " 0,\n",
       " 1,\n",
       " 0,\n",
       " 0,\n",
       " 0,\n",
       " 0,\n",
       " 0,\n",
       " 1,\n",
       " 0,\n",
       " 0,\n",
       " 0,\n",
       " 0,\n",
       " 0,\n",
       " 0,\n",
       " 0,\n",
       " 0,\n",
       " 0,\n",
       " 2,\n",
       " 0,\n",
       " 0,\n",
       " 0,\n",
       " 3,\n",
       " 0,\n",
       " 1,\n",
       " 0,\n",
       " 0,\n",
       " 0,\n",
       " 0,\n",
       " 0,\n",
       " 0,\n",
       " 3,\n",
       " 0,\n",
       " 0,\n",
       " 0,\n",
       " 0,\n",
       " 0,\n",
       " 0,\n",
       " 1,\n",
       " 0,\n",
       " 0,\n",
       " 0,\n",
       " 0,\n",
       " 0,\n",
       " 3,\n",
       " 0,\n",
       " 1,\n",
       " 0,\n",
       " 1,\n",
       " 0,\n",
       " 1,\n",
       " 0,\n",
       " 0,\n",
       " 0,\n",
       " 0,\n",
       " 0,\n",
       " 3,\n",
       " 0,\n",
       " 0,\n",
       " 2,\n",
       " 3,\n",
       " 0,\n",
       " 0,\n",
       " 0,\n",
       " 3,\n",
       " 0,\n",
       " 2,\n",
       " 0,\n",
       " 1,\n",
       " 0,\n",
       " 0,\n",
       " 0,\n",
       " 0,\n",
       " 0,\n",
       " 0,\n",
       " 0,\n",
       " 0,\n",
       " 0,\n",
       " 0,\n",
       " 1,\n",
       " 0,\n",
       " 2,\n",
       " 3,\n",
       " 1,\n",
       " 0,\n",
       " 0,\n",
       " 0,\n",
       " 3,\n",
       " 0,\n",
       " 0,\n",
       " 0,\n",
       " 0,\n",
       " 3,\n",
       " 0,\n",
       " 0,\n",
       " 0,\n",
       " 1,\n",
       " 3,\n",
       " 0,\n",
       " 0,\n",
       " 1,\n",
       " 0,\n",
       " 0,\n",
       " 0,\n",
       " 0,\n",
       " 0,\n",
       " 0,\n",
       " 0,\n",
       " 3,\n",
       " 0,\n",
       " 0,\n",
       " 0,\n",
       " 0,\n",
       " 0,\n",
       " 0,\n",
       " 0,\n",
       " 0,\n",
       " 2,\n",
       " 0,\n",
       " 0,\n",
       " 0,\n",
       " 0,\n",
       " 0,\n",
       " 0,\n",
       " 0,\n",
       " 0,\n",
       " 1,\n",
       " 0,\n",
       " 0,\n",
       " 0,\n",
       " 3,\n",
       " 3,\n",
       " 3,\n",
       " 0,\n",
       " 0,\n",
       " 0,\n",
       " 3,\n",
       " 0,\n",
       " 3,\n",
       " 2,\n",
       " 0,\n",
       " 3,\n",
       " 1,\n",
       " 3,\n",
       " 0,\n",
       " 0,\n",
       " 0,\n",
       " 3,\n",
       " 0,\n",
       " 0,\n",
       " 1,\n",
       " 0,\n",
       " 3,\n",
       " 1,\n",
       " 0,\n",
       " 0,\n",
       " 0,\n",
       " 0,\n",
       " 0,\n",
       " 1,\n",
       " 0,\n",
       " 3,\n",
       " 0,\n",
       " 0,\n",
       " 1,\n",
       " 3,\n",
       " 0,\n",
       " 0,\n",
       " 3,\n",
       " 1,\n",
       " 0,\n",
       " 1,\n",
       " 0,\n",
       " 3,\n",
       " 0,\n",
       " 0,\n",
       " 0,\n",
       " 0,\n",
       " 0,\n",
       " 0,\n",
       " 3,\n",
       " 0,\n",
       " 3,\n",
       " 0,\n",
       " 3,\n",
       " 0,\n",
       " 0,\n",
       " 1,\n",
       " 0,\n",
       " 1,\n",
       " 2,\n",
       " 2,\n",
       " 0,\n",
       " 0,\n",
       " 1,\n",
       " 0,\n",
       " 3,\n",
       " 2,\n",
       " 3,\n",
       " 0,\n",
       " 1,\n",
       " 1,\n",
       " 0,\n",
       " 0,\n",
       " 0,\n",
       " 0,\n",
       " 3,\n",
       " 0,\n",
       " 0,\n",
       " 3,\n",
       " 3,\n",
       " 2,\n",
       " 0,\n",
       " 0,\n",
       " 0,\n",
       " 0,\n",
       " 1,\n",
       " 0,\n",
       " 0,\n",
       " 2,\n",
       " 1,\n",
       " 0,\n",
       " 0,\n",
       " 0,\n",
       " 0,\n",
       " 2,\n",
       " 1,\n",
       " 3,\n",
       " 3,\n",
       " 0,\n",
       " 3,\n",
       " 0,\n",
       " 0,\n",
       " 0,\n",
       " 0,\n",
       " 2,\n",
       " 0,\n",
       " 1,\n",
       " 0,\n",
       " 1,\n",
       " 0,\n",
       " 0,\n",
       " 0,\n",
       " 0,\n",
       " 3,\n",
       " 0,\n",
       " 0,\n",
       " 0,\n",
       " 3,\n",
       " 0,\n",
       " 0,\n",
       " 0,\n",
       " 3,\n",
       " 0,\n",
       " 0,\n",
       " 3,\n",
       " 0,\n",
       " 1,\n",
       " 1,\n",
       " 3,\n",
       " 1,\n",
       " 0,\n",
       " 1,\n",
       " 0,\n",
       " 2,\n",
       " 0,\n",
       " 0,\n",
       " 0,\n",
       " 0,\n",
       " 0,\n",
       " 0,\n",
       " 0,\n",
       " 3,\n",
       " 0,\n",
       " 3,\n",
       " 0,\n",
       " 0,\n",
       " 3,\n",
       " 0,\n",
       " 3,\n",
       " 0,\n",
       " 2,\n",
       " 1,\n",
       " 0,\n",
       " 0,\n",
       " 0,\n",
       " 0,\n",
       " 0,\n",
       " 0,\n",
       " 0,\n",
       " 0,\n",
       " 0,\n",
       " 2,\n",
       " 0,\n",
       " 3,\n",
       " 0,\n",
       " 0,\n",
       " 3,\n",
       " 0,\n",
       " 0,\n",
       " 0,\n",
       " 1,\n",
       " 0,\n",
       " 1,\n",
       " 1,\n",
       " 0,\n",
       " 0,\n",
       " 0,\n",
       " 0,\n",
       " 1,\n",
       " 3,\n",
       " 3,\n",
       " 1,\n",
       " 1,\n",
       " 0,\n",
       " 0,\n",
       " 3,\n",
       " 0,\n",
       " 0,\n",
       " 2,\n",
       " 0,\n",
       " 3,\n",
       " 0,\n",
       " 2,\n",
       " 0,\n",
       " 0,\n",
       " 1,\n",
       " 0,\n",
       " 3,\n",
       " 0,\n",
       " 3,\n",
       " 0,\n",
       " 3,\n",
       " 0,\n",
       " 1,\n",
       " 0,\n",
       " 0,\n",
       " 0,\n",
       " 1,\n",
       " 3,\n",
       " 0,\n",
       " 0,\n",
       " 0,\n",
       " 0,\n",
       " 3,\n",
       " 3,\n",
       " 0,\n",
       " 0,\n",
       " 0,\n",
       " 0,\n",
       " 0,\n",
       " 3,\n",
       " 0,\n",
       " 0,\n",
       " 0,\n",
       " 1,\n",
       " 0,\n",
       " 0,\n",
       " 0,\n",
       " 0,\n",
       " 2,\n",
       " 0,\n",
       " 0,\n",
       " 0,\n",
       " 3,\n",
       " 2,\n",
       " 3,\n",
       " 3,\n",
       " 0,\n",
       " 0,\n",
       " 3,\n",
       " 0,\n",
       " 0,\n",
       " 0,\n",
       " 0,\n",
       " 3,\n",
       " 1,\n",
       " 1,\n",
       " 0,\n",
       " 0,\n",
       " 0,\n",
       " 2,\n",
       " 1,\n",
       " 1,\n",
       " 0,\n",
       " 0,\n",
       " 0,\n",
       " 0,\n",
       " 0,\n",
       " 0,\n",
       " 3,\n",
       " 1,\n",
       " 0,\n",
       " 0,\n",
       " 0,\n",
       " 1,\n",
       " 0,\n",
       " 0,\n",
       " 0,\n",
       " 0,\n",
       " 0,\n",
       " 0,\n",
       " 1,\n",
       " 0,\n",
       " 0,\n",
       " 0,\n",
       " 0,\n",
       " 0,\n",
       " 0,\n",
       " 1,\n",
       " 3,\n",
       " 1,\n",
       " 3,\n",
       " 3,\n",
       " 0,\n",
       " 1,\n",
       " 1,\n",
       " 3,\n",
       " 0,\n",
       " 0,\n",
       " 0,\n",
       " 0,\n",
       " 0,\n",
       " 0,\n",
       " 0,\n",
       " 0,\n",
       " 3,\n",
       " 1,\n",
       " 0,\n",
       " 0,\n",
       " 0,\n",
       " 0,\n",
       " 0,\n",
       " 1,\n",
       " 1,\n",
       " 3,\n",
       " 3,\n",
       " 0,\n",
       " 0,\n",
       " 0,\n",
       " 3,\n",
       " 0,\n",
       " 0,\n",
       " 0,\n",
       " 0,\n",
       " 0,\n",
       " 0,\n",
       " 3,\n",
       " 3,\n",
       " 1,\n",
       " 0,\n",
       " 3,\n",
       " 0,\n",
       " 0,\n",
       " 0,\n",
       " 0,\n",
       " 0,\n",
       " 0,\n",
       " 0,\n",
       " 0,\n",
       " 2,\n",
       " 0,\n",
       " 3,\n",
       " 0,\n",
       " 3,\n",
       " 0,\n",
       " 1,\n",
       " 0,\n",
       " 0,\n",
       " 0,\n",
       " 0,\n",
       " 0,\n",
       " 1,\n",
       " 1,\n",
       " 0,\n",
       " 1,\n",
       " 0,\n",
       " 3,\n",
       " 2,\n",
       " 3,\n",
       " 0,\n",
       " 0,\n",
       " 0,\n",
       " 0,\n",
       " 0,\n",
       " 0,\n",
       " 3,\n",
       " 3,\n",
       " 0,\n",
       " 1,\n",
       " 1,\n",
       " 0,\n",
       " 0,\n",
       " 0,\n",
       " 0,\n",
       " 0,\n",
       " 1,\n",
       " 0,\n",
       " 3,\n",
       " 0,\n",
       " 1,\n",
       " 0,\n",
       " 2,\n",
       " 1,\n",
       " 1,\n",
       " 0,\n",
       " 0,\n",
       " 0,\n",
       " 2,\n",
       " 0,\n",
       " 0,\n",
       " 0,\n",
       " 0,\n",
       " 2,\n",
       " 1,\n",
       " 3,\n",
       " 0,\n",
       " 2,\n",
       " 0,\n",
       " 0,\n",
       " 0,\n",
       " 0,\n",
       " 0,\n",
       " 0,\n",
       " 0,\n",
       " 1,\n",
       " 0,\n",
       " 0,\n",
       " 2,\n",
       " 0,\n",
       " 3,\n",
       " 1,\n",
       " 1,\n",
       " 3,\n",
       " 3,\n",
       " 0,\n",
       " 0,\n",
       " 0,\n",
       " 0,\n",
       " 0,\n",
       " 0,\n",
       " 0,\n",
       " 2,\n",
       " 3,\n",
       " 0,\n",
       " 0,\n",
       " 0,\n",
       " 0,\n",
       " 0,\n",
       " 0,\n",
       " 3,\n",
       " 0,\n",
       " 0,\n",
       " 1,\n",
       " 0,\n",
       " 0,\n",
       " 1,\n",
       " 3,\n",
       " 0,\n",
       " 1,\n",
       " 3,\n",
       " 0,\n",
       " 0,\n",
       " 0,\n",
       " 3,\n",
       " 1,\n",
       " 1,\n",
       " 0,\n",
       " 0,\n",
       " 0,\n",
       " 0,\n",
       " 2,\n",
       " 1,\n",
       " 0,\n",
       " 0,\n",
       " 2,\n",
       " 0,\n",
       " 0,\n",
       " 0,\n",
       " 0,\n",
       " 1,\n",
       " 0,\n",
       " 0,\n",
       " 0,\n",
       " 3,\n",
       " 0,\n",
       " 0,\n",
       " 0,\n",
       " 3,\n",
       " 0,\n",
       " 0,\n",
       " 0,\n",
       " 0,\n",
       " 0,\n",
       " 0,\n",
       " 1,\n",
       " 0,\n",
       " 0,\n",
       " 0,\n",
       " 0,\n",
       " 0,\n",
       " 2,\n",
       " 0,\n",
       " 0,\n",
       " 0,\n",
       " 0,\n",
       " 0,\n",
       " 1,\n",
       " 3,\n",
       " 2,\n",
       " 2,\n",
       " 2,\n",
       " 0,\n",
       " 1,\n",
       " 0,\n",
       " 0,\n",
       " 0,\n",
       " 0,\n",
       " 3,\n",
       " 0,\n",
       " 0,\n",
       " 0,\n",
       " 0,\n",
       " 0,\n",
       " 0,\n",
       " 1,\n",
       " 0,\n",
       " 0,\n",
       " 3,\n",
       " 0,\n",
       " 1,\n",
       " 3,\n",
       " 3,\n",
       " 0,\n",
       " 0,\n",
       " 2,\n",
       " 0,\n",
       " 0,\n",
       " 0,\n",
       " 1,\n",
       " 0,\n",
       " 0,\n",
       " 0,\n",
       " 0,\n",
       " 1,\n",
       " 1,\n",
       " 0,\n",
       " 0,\n",
       " 3,\n",
       " 0,\n",
       " 0,\n",
       " 0,\n",
       " 0,\n",
       " 3,\n",
       " 0,\n",
       " 1,\n",
       " 3,\n",
       " 0,\n",
       " 0,\n",
       " 0,\n",
       " 3,\n",
       " 1,\n",
       " 0,\n",
       " 0,\n",
       " 1,\n",
       " 0,\n",
       " 3,\n",
       " 3,\n",
       " 0,\n",
       " 0,\n",
       " 0,\n",
       " 2,\n",
       " 1,\n",
       " 1,\n",
       " 0,\n",
       " 0,\n",
       " 0,\n",
       " 3,\n",
       " 0,\n",
       " 2,\n",
       " 3,\n",
       " 0,\n",
       " 1,\n",
       " 0,\n",
       " 0,\n",
       " 3,\n",
       " 1,\n",
       " 0,\n",
       " 1,\n",
       " 1,\n",
       " 0,\n",
       " 0,\n",
       " 0,\n",
       " 2,\n",
       " 2,\n",
       " 0,\n",
       " 3,\n",
       " 0,\n",
       " 0,\n",
       " 0,\n",
       " 3,\n",
       " 0,\n",
       " 2,\n",
       " 0,\n",
       " 3,\n",
       " 0,\n",
       " 0,\n",
       " 0,\n",
       " 0,\n",
       " 0,\n",
       " 1,\n",
       " 1,\n",
       " 3,\n",
       " 0,\n",
       " 0,\n",
       " 1,\n",
       " 0,\n",
       " 0,\n",
       " 0,\n",
       " 1,\n",
       " 0,\n",
       " 0,\n",
       " 3,\n",
       " 1,\n",
       " 1,\n",
       " 0,\n",
       " 3,\n",
       " 0,\n",
       " 0,\n",
       " 0,\n",
       " 3,\n",
       " 0,\n",
       " 0,\n",
       " 0,\n",
       " 1,\n",
       " 0,\n",
       " 2,\n",
       " 1,\n",
       " 3,\n",
       " 0,\n",
       " 0,\n",
       " 0,\n",
       " 0,\n",
       " 0,\n",
       " 1,\n",
       " 0,\n",
       " 0,\n",
       " 1,\n",
       " 0,\n",
       " 0,\n",
       " 3,\n",
       " 3,\n",
       " 0,\n",
       " 0,\n",
       " 0,\n",
       " 0,\n",
       " 3,\n",
       " 0,\n",
       " 0,\n",
       " 1,\n",
       " 0,\n",
       " 0,\n",
       " 2,\n",
       " 1,\n",
       " 0,\n",
       " 1,\n",
       " 3,\n",
       " 1,\n",
       " 0,\n",
       " 0,\n",
       " 1,\n",
       " 1,\n",
       " 0,\n",
       " 0,\n",
       " 0,\n",
       " 0,\n",
       " 0,\n",
       " 0,\n",
       " 1,\n",
       " 1,\n",
       " 0,\n",
       " 1,\n",
       " 0,\n",
       " 3,\n",
       " 3,\n",
       " 2,\n",
       " 0,\n",
       " 3,\n",
       " 3,\n",
       " 2,\n",
       " 0,\n",
       " 0,\n",
       " 0,\n",
       " 0,\n",
       " 2,\n",
       " 3,\n",
       " 0,\n",
       " 0,\n",
       " 0,\n",
       " 1,\n",
       " 0,\n",
       " 2,\n",
       " 0,\n",
       " 0,\n",
       " 0,\n",
       " 0,\n",
       " 2,\n",
       " 0,\n",
       " 0,\n",
       " 0,\n",
       " 0,\n",
       " 0,\n",
       " 0,\n",
       " 3,\n",
       " 0,\n",
       " 0,\n",
       " 0,\n",
       " 0,\n",
       " 0,\n",
       " 0,\n",
       " 0,\n",
       " 0,\n",
       " 1,\n",
       " 0,\n",
       " 0,\n",
       " 0,\n",
       " 0,\n",
       " 1,\n",
       " 0,\n",
       " 0,\n",
       " 3,\n",
       " 0,\n",
       " 0,\n",
       " 0,\n",
       " 0,\n",
       " 1,\n",
       " 0,\n",
       " 0,\n",
       " 0,\n",
       " 0,\n",
       " 0,\n",
       " 0,\n",
       " 0,\n",
       " 3,\n",
       " 0,\n",
       " 1,\n",
       " 2,\n",
       " 0,\n",
       " 0,\n",
       " 0,\n",
       " 1,\n",
       " 0,\n",
       " 0,\n",
       " 3,\n",
       " 3,\n",
       " 0,\n",
       " 0,\n",
       " 1,\n",
       " 0,\n",
       " 0,\n",
       " 2,\n",
       " 3,\n",
       " 1,\n",
       " 0,\n",
       " 0,\n",
       " 0,\n",
       " 0,\n",
       " 0,\n",
       " 1,\n",
       " 0,\n",
       " 0,\n",
       " 3,\n",
       " 0,\n",
       " 1,\n",
       " 3,\n",
       " 3,\n",
       " 0,\n",
       " 2,\n",
       " 0,\n",
       " 3,\n",
       " 0,\n",
       " 0,\n",
       " 0,\n",
       " 0,\n",
       " 3,\n",
       " 3,\n",
       " 1,\n",
       " 0,\n",
       " 0,\n",
       " 3,\n",
       " 0,\n",
       " 0,\n",
       " 0,\n",
       " 0,\n",
       " 0,\n",
       " 0,\n",
       " 0,\n",
       " 1,\n",
       " 1,\n",
       " 0,\n",
       " 0,\n",
       " 0,\n",
       " 0,\n",
       " 0,\n",
       " 2,\n",
       " 3,\n",
       " 0,\n",
       " 0,\n",
       " 0,\n",
       " 0,\n",
       " 1,\n",
       " 0,\n",
       " 0,\n",
       " 0,\n",
       " 0,\n",
       " 0,\n",
       " 1,\n",
       " 0,\n",
       " 1,\n",
       " 3,\n",
       " 0,\n",
       " 0,\n",
       " 1,\n",
       " 0,\n",
       " 1,\n",
       " 1,\n",
       " 0,\n",
       " 0,\n",
       " 0,\n",
       " 0,\n",
       " 0,\n",
       " 3,\n",
       " 0,\n",
       " 0,\n",
       " 0,\n",
       " 1,\n",
       " 3,\n",
       " 0,\n",
       " 1,\n",
       " 2,\n",
       " 0,\n",
       " 1,\n",
       " 0,\n",
       " 1,\n",
       " ...]"
      ]
     },
     "execution_count": 177,
     "metadata": {},
     "output_type": "execute_result"
    }
   ],
   "source": [
    "Y_pred_BiLSTM = []\n",
    "\n",
    "for i in y_pred_BiLSTM:\n",
    "    r = np.argmax(i)\n",
    "    Y_pred_BiLSTM.append(r)\n",
    "\n",
    "Y_pred_BiLSTM "
   ]
  },
  {
   "cell_type": "code",
   "execution_count": 178,
   "id": "9a0dd1e4",
   "metadata": {},
   "outputs": [
    {
     "name": "stdout",
     "output_type": "stream",
     "text": [
      "              precision    recall  f1-score   support\n",
      "\n",
      "      benign       0.98      0.97      0.98     86737\n",
      "  defacement       0.99      0.98      0.98     19208\n",
      "    phishing       0.93      0.97      0.95      6273\n",
      "     malware       0.86      0.90      0.88     18021\n",
      "\n",
      "    accuracy                           0.96    130239\n",
      "   macro avg       0.94      0.96      0.95    130239\n",
      "weighted avg       0.97      0.96      0.96    130239\n",
      "\n"
     ]
    },
    {
     "data": {
      "text/plain": [
       "{'Accuracy': 96.41889142269213,\n",
       " 'Precision': 0.9650656753152116,\n",
       " 'Recall': 0.9641889142269213,\n",
       " 'F1-Score': 0.9645293401506218,\n",
       " 'Support': None}"
      ]
     },
     "execution_count": 178,
     "metadata": {},
     "output_type": "execute_result"
    }
   ],
   "source": [
    "result(Y_test_df , Y_pred_BiLSTM)"
   ]
  },
  {
   "cell_type": "code",
   "execution_count": 179,
   "id": "b56da75d",
   "metadata": {},
   "outputs": [
    {
     "data": {
      "image/png": "[encoded data removed]",
      "text/plain": [
       "<Figure size 576x432 with 2 Axes>"
      ]
     },
     "metadata": {},
     "output_type": "display_data"
    }
   ],
   "source": [
    "create_confusion_metric(Y_test_df , Y_pred_BiLSTM)"
   ]
  },
  {
   "cell_type": "code",
   "execution_count": 180,
   "id": "a753b813",
   "metadata": {},
   "outputs": [
    {
     "data": {
      "text/plain": [
       "dict_keys(['loss', 'accuracy', 'val_loss', 'val_accuracy'])"
      ]
     },
     "execution_count": 180,
     "metadata": {},
     "output_type": "execute_result"
    }
   ],
   "source": [
    "History_BiLSTM.history.keys()"
   ]
  },
  {
   "cell_type": "code",
   "execution_count": 181,
   "id": "6f5dec70",
   "metadata": {},
   "outputs": [],
   "source": [
    "acc_BiLSTM = History_BiLSTM.history['accuracy']\n",
    "val_acc_BiLSTM = History_BiLSTM.history['val_accuracy']\n",
    "\n",
    "loss_BiLSTM = History_BiLSTM.history['loss']\n",
    "val_loss_BiLSTM = History_BiLSTM.history['val_loss']"
   ]
  },
  {
   "cell_type": "code",
   "execution_count": 182,
   "id": "192f50c8",
   "metadata": {},
   "outputs": [
    {
     "data": {
      "image/png": "[encoded data removed]",
      "text/plain": [
       "<Figure size 720x432 with 2 Axes>"
      ]
     },
     "metadata": {},
     "output_type": "display_data"
    }
   ],
   "source": [
    "EPOCHS = 25\n",
    "\n",
    "plt.figure(figsize=(10, 6))\n",
    "plt.subplot(1, 2, 1)\n",
    "plt.plot(range(EPOCHS), acc_BiLSTM, label='Training Accuracy')\n",
    "plt.plot(range(EPOCHS), val_acc_BiLSTM, label='Validation Accuracy')\n",
    "plt.legend(loc='lower right')\n",
    "plt.title('Training and Validation Accuracy')\n",
    "plt.axis(ymin=0.6,ymax=1) \n",
    "plt.subplot(1, 2, 2)\n",
    "plt.plot(range(EPOCHS), loss_BiLSTM, label='Training Loss')\n",
    "plt.plot(range(EPOCHS), val_loss_BiLSTM, label='Validation Loss')\n",
    "plt.legend(loc='upper right')\n",
    "plt.title('Training and Validation Loss')\n",
    "plt.show()"
   ]
  },
  {
   "cell_type": "code",
   "execution_count": 183,
   "id": "19a489ea",
   "metadata": {},
   "outputs": [
    {
     "name": "stdout",
     "output_type": "stream",
     "text": [
      "4070/4070 [==============================] - 96s 24ms/step - loss: 0.1120 - accuracy: 0.9642\n"
     ]
    },
    {
     "data": {
      "text/plain": [
       "[0.11195608228445053, 0.9641889333724976]"
      ]
     },
     "execution_count": 183,
     "metadata": {},
     "output_type": "execute_result"
    }
   ],
   "source": [
    "model_BiLSTM.evaluate(X_test_df, Y_test_df)"
   ]
  },
  {
   "cell_type": "code",
   "execution_count": 184,
   "id": "dba6c747",
   "metadata": {},
   "outputs": [
    {
     "name": "stdout",
     "output_type": "stream",
     "text": [
      "16280/16280 [==============================] - 379s 23ms/step - loss: 0.0836 - accuracy: 0.9709\n"
     ]
    },
    {
     "data": {
      "text/plain": [
       "[0.08355937898159027, 0.9709262847900391]"
      ]
     },
     "execution_count": 184,
     "metadata": {},
     "output_type": "execute_result"
    }
   ],
   "source": [
    "model_BiLSTM.evaluate(X_train_df, Y_train_df)"
   ]
  },
  {
   "cell_type": "code",
   "execution_count": 185,
   "id": "c6063b13",
   "metadata": {},
   "outputs": [],
   "source": [
    "model_BiLSTM.save('Models/Bidirectional_LSTM.h5')"
   ]
  },
  {
   "cell_type": "code",
   "execution_count": null,
   "id": "22107605",
   "metadata": {},
   "outputs": [],
   "source": [
    "load_BiLSTM = keras.models.load_model('Models/Bidirectional_LSTM.h5')"
   ]
  },
  {
   "cell_type": "code",
   "execution_count": null,
   "id": "c630f019",
   "metadata": {},
   "outputs": [],
   "source": [
    "load_BiLSTM.evaluate(X_test_df, Y_test_df)"
   ]
  },
  {
   "cell_type": "markdown",
   "id": "d8beb560",
   "metadata": {},
   "source": [
    "### Convolution 1D "
   ]
  },
  {
   "cell_type": "code",
   "execution_count": 156,
   "id": "7fb1e794",
   "metadata": {},
   "outputs": [],
   "source": [
    "model_CNN = Sequential([\n",
    "    \n",
    "    layers.InputLayer(input_shape = (21, 1)),\n",
    "    \n",
    "    layers.Conv1D(filters = 64, kernel_size=3, strides= 1, padding='same', activation='relu'),\n",
    "    \n",
    "    \n",
    "    \n",
    "    layers.LSTM(128, activation='tanh', return_sequences=True),\n",
    "    \n",
    "    layers.GlobalMaxPooling1D(),\n",
    "    \n",
    "    layers.Flatten(),\n",
    "    \n",
    "    layers.Dense(64, activation= 'relu'),\n",
    "    \n",
    "    layers.Dense(4 , activation='softmax'),\n",
    "    \n",
    "])"
   ]
  },
  {
   "cell_type": "code",
   "execution_count": 157,
   "id": "30e26136",
   "metadata": {},
   "outputs": [],
   "source": [
    "model_CNN.compile(\n",
    "    optimizer=keras.optimizers.Adam(),\n",
    "    loss = keras.losses.sparse_categorical_crossentropy,\n",
    "    metrics=['accuracy']\n",
    ")"
   ]
  },
  {
   "cell_type": "code",
   "execution_count": 158,
   "id": "de61116f",
   "metadata": {},
   "outputs": [
    {
     "name": "stdout",
     "output_type": "stream",
     "text": [
      "Model: \"sequential_1\"\n",
      "_________________________________________________________________\n",
      " Layer (type)                Output Shape              Param #   \n",
      "=================================================================\n",
      " conv1d (Conv1D)             (None, 21, 64)            256       \n",
      "                                                                 \n",
      " lstm (LSTM)                 (None, 21, 128)           98816     \n",
      "                                                                 \n",
      " global_max_pooling1d (Globa  (None, 128)              0         \n",
      " lMaxPooling1D)                                                  \n",
      "                                                                 \n",
      " flatten (Flatten)           (None, 128)               0         \n",
      "                                                                 \n",
      " dense_2 (Dense)             (None, 64)                8256      \n",
      "                                                                 \n",
      " dense_3 (Dense)             (None, 4)                 260       \n",
      "                                                                 \n",
      "=================================================================\n",
      "Total params: 107,588\n",
      "Trainable params: 107,588\n",
      "Non-trainable params: 0\n",
      "_________________________________________________________________\n"
     ]
    }
   ],
   "source": [
    "model_CNN.summary()"
   ]
  },
  {
   "cell_type": "code",
   "execution_count": 159,
   "id": "e31e73e2",
   "metadata": {},
   "outputs": [
    {
     "name": "stdout",
     "output_type": "stream",
     "text": [
      "Epoch 1/25\n",
      "4070/4070 [==============================] - 31s 6ms/step - loss: 0.2341 - accuracy: 0.9197 - val_loss: 0.1734 - val_accuracy: 0.9424\n",
      "Epoch 2/25\n",
      "4070/4070 [==============================] - 25s 6ms/step - loss: 0.1678 - accuracy: 0.9445 - val_loss: 0.1567 - val_accuracy: 0.9493\n",
      "Epoch 3/25\n",
      "4070/4070 [==============================] - 24s 6ms/step - loss: 0.1531 - accuracy: 0.9492 - val_loss: 0.1450 - val_accuracy: 0.9518\n",
      "Epoch 4/25\n",
      "4070/4070 [==============================] - 23s 6ms/step - loss: 0.1444 - accuracy: 0.9522 - val_loss: 0.1390 - val_accuracy: 0.9540\n",
      "Epoch 5/25\n",
      "4070/4070 [==============================] - 27s 7ms/step - loss: 0.1374 - accuracy: 0.9544 - val_loss: 0.1349 - val_accuracy: 0.9560\n",
      "Epoch 6/25\n",
      "4070/4070 [==============================] - 24s 6ms/step - loss: 0.1329 - accuracy: 0.9558 - val_loss: 0.1352 - val_accuracy: 0.9546\n",
      "Epoch 7/25\n",
      "4070/4070 [==============================] - 23s 6ms/step - loss: 0.1286 - accuracy: 0.9573 - val_loss: 0.1332 - val_accuracy: 0.9558\n",
      "Epoch 8/25\n",
      "4070/4070 [==============================] - 23s 6ms/step - loss: 0.1254 - accuracy: 0.9582 - val_loss: 0.1262 - val_accuracy: 0.9585\n",
      "Epoch 9/25\n",
      "4070/4070 [==============================] - 23s 6ms/step - loss: 0.1228 - accuracy: 0.9590 - val_loss: 0.1290 - val_accuracy: 0.9576\n",
      "Epoch 10/25\n",
      "4070/4070 [==============================] - 23s 6ms/step - loss: 0.1202 - accuracy: 0.9600 - val_loss: 0.1264 - val_accuracy: 0.9578\n",
      "Epoch 11/25\n",
      "4070/4070 [==============================] - 23s 6ms/step - loss: 0.1182 - accuracy: 0.9603 - val_loss: 0.1252 - val_accuracy: 0.9584\n",
      "Epoch 12/25\n",
      "4070/4070 [==============================] - 23s 6ms/step - loss: 0.1161 - accuracy: 0.9610 - val_loss: 0.1184 - val_accuracy: 0.9611\n",
      "Epoch 13/25\n",
      "4070/4070 [==============================] - 23s 6ms/step - loss: 0.1143 - accuracy: 0.9616 - val_loss: 0.1178 - val_accuracy: 0.9610\n",
      "Epoch 14/25\n",
      "4070/4070 [==============================] - 23s 6ms/step - loss: 0.1130 - accuracy: 0.9620 - val_loss: 0.1188 - val_accuracy: 0.9601\n",
      "Epoch 15/25\n",
      "4070/4070 [==============================] - 23s 6ms/step - loss: 0.1112 - accuracy: 0.9627 - val_loss: 0.1162 - val_accuracy: 0.9612\n",
      "Epoch 16/25\n",
      "4070/4070 [==============================] - 27s 7ms/step - loss: 0.1100 - accuracy: 0.9632 - val_loss: 0.1172 - val_accuracy: 0.9616\n",
      "Epoch 17/25\n",
      "4070/4070 [==============================] - 23s 6ms/step - loss: 0.1092 - accuracy: 0.9633 - val_loss: 0.1149 - val_accuracy: 0.9619\n",
      "Epoch 18/25\n",
      "4070/4070 [==============================] - 24s 6ms/step - loss: 0.1079 - accuracy: 0.9636 - val_loss: 0.1147 - val_accuracy: 0.9623\n",
      "Epoch 19/25\n",
      "4070/4070 [==============================] - 24s 6ms/step - loss: 0.1070 - accuracy: 0.9641 - val_loss: 0.1142 - val_accuracy: 0.9618\n",
      "Epoch 20/25\n",
      "4070/4070 [==============================] - 23s 6ms/step - loss: 0.1063 - accuracy: 0.9642 - val_loss: 0.1161 - val_accuracy: 0.9620\n",
      "Epoch 21/25\n",
      "4070/4070 [==============================] - 23s 6ms/step - loss: 0.1047 - accuracy: 0.9647 - val_loss: 0.1125 - val_accuracy: 0.9631\n",
      "Epoch 22/25\n",
      "4070/4070 [==============================] - 22s 6ms/step - loss: 0.1041 - accuracy: 0.9649 - val_loss: 0.1178 - val_accuracy: 0.9610\n",
      "Epoch 23/25\n",
      "4070/4070 [==============================] - 24s 6ms/step - loss: 0.1036 - accuracy: 0.9649 - val_loss: 0.1140 - val_accuracy: 0.9618\n",
      "Epoch 24/25\n",
      "4070/4070 [==============================] - 23s 6ms/step - loss: 0.1025 - accuracy: 0.9655 - val_loss: 0.1124 - val_accuracy: 0.9632\n",
      "Epoch 25/25\n",
      "4070/4070 [==============================] - 23s 6ms/step - loss: 0.1019 - accuracy: 0.9655 - val_loss: 0.1118 - val_accuracy: 0.9635\n"
     ]
    }
   ],
   "source": [
    "History_CNN = model_CNN.fit(\n",
    "    x = X_train_df,\n",
    "    y = Y_train_df,\n",
    "    batch_size= 128,\n",
    "    epochs= 25,\n",
    "    shuffle = True,\n",
    "    validation_data= (X_test_df, Y_test_df),\n",
    "    verbose = 1,\n",
    ")"
   ]
  },
  {
   "cell_type": "code",
   "execution_count": 160,
   "id": "62106221",
   "metadata": {},
   "outputs": [
    {
     "name": "stdout",
     "output_type": "stream",
     "text": [
      "4070/4070 [==============================] - 7s 2ms/step\n"
     ]
    },
    {
     "data": {
      "text/plain": [
       "array([[1.2043114e-09, 1.2415568e-06, 9.5089227e-01, 4.9106475e-02],\n",
       "       [9.9464357e-01, 7.1420764e-06, 6.5733611e-06, 5.3427210e-03],\n",
       "       [1.5864264e-02, 9.8603869e-07, 1.4554181e-04, 9.8398918e-01],\n",
       "       ...,\n",
       "       [9.9999726e-01, 1.2095878e-12, 9.8648087e-08, 2.6050820e-06],\n",
       "       [9.5362318e-01, 2.1944480e-07, 3.9438240e-04, 4.5982271e-02],\n",
       "       [9.9766964e-01, 5.2505617e-10, 2.1131169e-07, 2.3301630e-03]],\n",
       "      dtype=float32)"
      ]
     },
     "execution_count": 160,
     "metadata": {},
     "output_type": "execute_result"
    }
   ],
   "source": [
    "y_pred_CNN = model_CNN.predict(X_test_df)\n",
    "y_pred_CNN"
   ]
  },
  {
   "cell_type": "code",
   "execution_count": 161,
   "id": "61d38468",
   "metadata": {},
   "outputs": [
    {
     "data": {
      "text/plain": [
       "[2,\n",
       " 0,\n",
       " 3,\n",
       " 1,\n",
       " 0,\n",
       " 0,\n",
       " 1,\n",
       " 3,\n",
       " 1,\n",
       " 0,\n",
       " 0,\n",
       " 0,\n",
       " 1,\n",
       " 1,\n",
       " 0,\n",
       " 0,\n",
       " 0,\n",
       " 1,\n",
       " 0,\n",
       " 0,\n",
       " 1,\n",
       " 0,\n",
       " 0,\n",
       " 0,\n",
       " 3,\n",
       " 0,\n",
       " 0,\n",
       " 1,\n",
       " 0,\n",
       " 3,\n",
       " 3,\n",
       " 0,\n",
       " 1,\n",
       " 0,\n",
       " 0,\n",
       " 0,\n",
       " 0,\n",
       " 0,\n",
       " 1,\n",
       " 0,\n",
       " 0,\n",
       " 0,\n",
       " 0,\n",
       " 0,\n",
       " 1,\n",
       " 0,\n",
       " 1,\n",
       " 1,\n",
       " 0,\n",
       " 0,\n",
       " 3,\n",
       " 0,\n",
       " 0,\n",
       " 3,\n",
       " 0,\n",
       " 2,\n",
       " 0,\n",
       " 0,\n",
       " 1,\n",
       " 0,\n",
       " 0,\n",
       " 0,\n",
       " 0,\n",
       " 0,\n",
       " 1,\n",
       " 0,\n",
       " 0,\n",
       " 0,\n",
       " 0,\n",
       " 0,\n",
       " 0,\n",
       " 0,\n",
       " 0,\n",
       " 0,\n",
       " 2,\n",
       " 0,\n",
       " 0,\n",
       " 0,\n",
       " 3,\n",
       " 0,\n",
       " 1,\n",
       " 0,\n",
       " 0,\n",
       " 0,\n",
       " 0,\n",
       " 0,\n",
       " 0,\n",
       " 3,\n",
       " 0,\n",
       " 0,\n",
       " 0,\n",
       " 0,\n",
       " 0,\n",
       " 0,\n",
       " 1,\n",
       " 0,\n",
       " 0,\n",
       " 0,\n",
       " 0,\n",
       " 0,\n",
       " 3,\n",
       " 0,\n",
       " 1,\n",
       " 0,\n",
       " 1,\n",
       " 0,\n",
       " 1,\n",
       " 0,\n",
       " 0,\n",
       " 0,\n",
       " 0,\n",
       " 0,\n",
       " 3,\n",
       " 0,\n",
       " 0,\n",
       " 2,\n",
       " 1,\n",
       " 0,\n",
       " 0,\n",
       " 0,\n",
       " 3,\n",
       " 0,\n",
       " 2,\n",
       " 0,\n",
       " 1,\n",
       " 3,\n",
       " 0,\n",
       " 0,\n",
       " 0,\n",
       " 0,\n",
       " 0,\n",
       " 0,\n",
       " 0,\n",
       " 0,\n",
       " 0,\n",
       " 1,\n",
       " 0,\n",
       " 2,\n",
       " 3,\n",
       " 1,\n",
       " 0,\n",
       " 0,\n",
       " 0,\n",
       " 3,\n",
       " 0,\n",
       " 0,\n",
       " 0,\n",
       " 0,\n",
       " 3,\n",
       " 0,\n",
       " 0,\n",
       " 0,\n",
       " 1,\n",
       " 0,\n",
       " 0,\n",
       " 0,\n",
       " 1,\n",
       " 0,\n",
       " 0,\n",
       " 0,\n",
       " 0,\n",
       " 0,\n",
       " 0,\n",
       " 0,\n",
       " 3,\n",
       " 0,\n",
       " 0,\n",
       " 0,\n",
       " 0,\n",
       " 0,\n",
       " 0,\n",
       " 0,\n",
       " 0,\n",
       " 2,\n",
       " 0,\n",
       " 0,\n",
       " 0,\n",
       " 0,\n",
       " 0,\n",
       " 0,\n",
       " 0,\n",
       " 0,\n",
       " 1,\n",
       " 0,\n",
       " 0,\n",
       " 0,\n",
       " 3,\n",
       " 3,\n",
       " 3,\n",
       " 0,\n",
       " 0,\n",
       " 0,\n",
       " 3,\n",
       " 0,\n",
       " 3,\n",
       " 2,\n",
       " 0,\n",
       " 3,\n",
       " 1,\n",
       " 3,\n",
       " 0,\n",
       " 0,\n",
       " 0,\n",
       " 3,\n",
       " 0,\n",
       " 0,\n",
       " 1,\n",
       " 0,\n",
       " 3,\n",
       " 1,\n",
       " 0,\n",
       " 0,\n",
       " 0,\n",
       " 0,\n",
       " 0,\n",
       " 1,\n",
       " 0,\n",
       " 3,\n",
       " 0,\n",
       " 0,\n",
       " 1,\n",
       " 3,\n",
       " 0,\n",
       " 0,\n",
       " 3,\n",
       " 1,\n",
       " 0,\n",
       " 1,\n",
       " 0,\n",
       " 3,\n",
       " 0,\n",
       " 0,\n",
       " 0,\n",
       " 0,\n",
       " 0,\n",
       " 0,\n",
       " 3,\n",
       " 0,\n",
       " 3,\n",
       " 0,\n",
       " 0,\n",
       " 0,\n",
       " 0,\n",
       " 1,\n",
       " 0,\n",
       " 1,\n",
       " 2,\n",
       " 2,\n",
       " 0,\n",
       " 0,\n",
       " 1,\n",
       " 0,\n",
       " 3,\n",
       " 2,\n",
       " 3,\n",
       " 0,\n",
       " 1,\n",
       " 1,\n",
       " 0,\n",
       " 0,\n",
       " 0,\n",
       " 0,\n",
       " 3,\n",
       " 0,\n",
       " 0,\n",
       " 3,\n",
       " 3,\n",
       " 2,\n",
       " 0,\n",
       " 0,\n",
       " 0,\n",
       " 0,\n",
       " 1,\n",
       " 0,\n",
       " 0,\n",
       " 2,\n",
       " 1,\n",
       " 0,\n",
       " 0,\n",
       " 0,\n",
       " 0,\n",
       " 2,\n",
       " 1,\n",
       " 3,\n",
       " 3,\n",
       " 0,\n",
       " 0,\n",
       " 0,\n",
       " 0,\n",
       " 0,\n",
       " 0,\n",
       " 2,\n",
       " 0,\n",
       " 1,\n",
       " 0,\n",
       " 1,\n",
       " 0,\n",
       " 0,\n",
       " 0,\n",
       " 0,\n",
       " 3,\n",
       " 0,\n",
       " 0,\n",
       " 0,\n",
       " 3,\n",
       " 0,\n",
       " 0,\n",
       " 0,\n",
       " 0,\n",
       " 0,\n",
       " 0,\n",
       " 3,\n",
       " 0,\n",
       " 1,\n",
       " 1,\n",
       " 3,\n",
       " 1,\n",
       " 0,\n",
       " 1,\n",
       " 0,\n",
       " 2,\n",
       " 0,\n",
       " 0,\n",
       " 0,\n",
       " 0,\n",
       " 0,\n",
       " 0,\n",
       " 0,\n",
       " 3,\n",
       " 0,\n",
       " 3,\n",
       " 0,\n",
       " 0,\n",
       " 3,\n",
       " 0,\n",
       " 3,\n",
       " 0,\n",
       " 2,\n",
       " 1,\n",
       " 0,\n",
       " 0,\n",
       " 0,\n",
       " 0,\n",
       " 0,\n",
       " 0,\n",
       " 0,\n",
       " 0,\n",
       " 0,\n",
       " 2,\n",
       " 0,\n",
       " 3,\n",
       " 0,\n",
       " 0,\n",
       " 3,\n",
       " 0,\n",
       " 0,\n",
       " 0,\n",
       " 1,\n",
       " 0,\n",
       " 1,\n",
       " 1,\n",
       " 0,\n",
       " 0,\n",
       " 0,\n",
       " 0,\n",
       " 1,\n",
       " 3,\n",
       " 3,\n",
       " 1,\n",
       " 1,\n",
       " 0,\n",
       " 0,\n",
       " 3,\n",
       " 0,\n",
       " 0,\n",
       " 2,\n",
       " 0,\n",
       " 3,\n",
       " 0,\n",
       " 2,\n",
       " 0,\n",
       " 0,\n",
       " 1,\n",
       " 0,\n",
       " 3,\n",
       " 0,\n",
       " 0,\n",
       " 0,\n",
       " 0,\n",
       " 0,\n",
       " 1,\n",
       " 0,\n",
       " 0,\n",
       " 0,\n",
       " 1,\n",
       " 3,\n",
       " 0,\n",
       " 0,\n",
       " 0,\n",
       " 0,\n",
       " 3,\n",
       " 3,\n",
       " 0,\n",
       " 0,\n",
       " 0,\n",
       " 0,\n",
       " 0,\n",
       " 3,\n",
       " 0,\n",
       " 0,\n",
       " 0,\n",
       " 1,\n",
       " 0,\n",
       " 0,\n",
       " 0,\n",
       " 0,\n",
       " 2,\n",
       " 0,\n",
       " 0,\n",
       " 0,\n",
       " 3,\n",
       " 2,\n",
       " 3,\n",
       " 3,\n",
       " 0,\n",
       " 0,\n",
       " 3,\n",
       " 0,\n",
       " 0,\n",
       " 0,\n",
       " 0,\n",
       " 3,\n",
       " 1,\n",
       " 1,\n",
       " 0,\n",
       " 0,\n",
       " 0,\n",
       " 2,\n",
       " 1,\n",
       " 1,\n",
       " 0,\n",
       " 0,\n",
       " 0,\n",
       " 0,\n",
       " 0,\n",
       " 0,\n",
       " 3,\n",
       " 1,\n",
       " 0,\n",
       " 0,\n",
       " 0,\n",
       " 1,\n",
       " 0,\n",
       " 0,\n",
       " 0,\n",
       " 0,\n",
       " 0,\n",
       " 0,\n",
       " 1,\n",
       " 0,\n",
       " 0,\n",
       " 0,\n",
       " 0,\n",
       " 0,\n",
       " 0,\n",
       " 1,\n",
       " 3,\n",
       " 1,\n",
       " 3,\n",
       " 3,\n",
       " 0,\n",
       " 2,\n",
       " 1,\n",
       " 3,\n",
       " 0,\n",
       " 0,\n",
       " 0,\n",
       " 0,\n",
       " 0,\n",
       " 0,\n",
       " 0,\n",
       " 0,\n",
       " 3,\n",
       " 1,\n",
       " 0,\n",
       " 0,\n",
       " 0,\n",
       " 0,\n",
       " 0,\n",
       " 1,\n",
       " 1,\n",
       " 3,\n",
       " 3,\n",
       " 0,\n",
       " 0,\n",
       " 0,\n",
       " 3,\n",
       " 0,\n",
       " 0,\n",
       " 0,\n",
       " 0,\n",
       " 0,\n",
       " 0,\n",
       " 3,\n",
       " 3,\n",
       " 1,\n",
       " 0,\n",
       " 3,\n",
       " 0,\n",
       " 0,\n",
       " 0,\n",
       " 0,\n",
       " 0,\n",
       " 0,\n",
       " 0,\n",
       " 0,\n",
       " 2,\n",
       " 0,\n",
       " 0,\n",
       " 0,\n",
       " 3,\n",
       " 0,\n",
       " 1,\n",
       " 0,\n",
       " 0,\n",
       " 0,\n",
       " 0,\n",
       " 0,\n",
       " 1,\n",
       " 1,\n",
       " 0,\n",
       " 1,\n",
       " 0,\n",
       " 3,\n",
       " 2,\n",
       " 3,\n",
       " 0,\n",
       " 0,\n",
       " 0,\n",
       " 0,\n",
       " 0,\n",
       " 0,\n",
       " 0,\n",
       " 3,\n",
       " 0,\n",
       " 1,\n",
       " 1,\n",
       " 0,\n",
       " 0,\n",
       " 0,\n",
       " 0,\n",
       " 0,\n",
       " 1,\n",
       " 0,\n",
       " 3,\n",
       " 0,\n",
       " 1,\n",
       " 0,\n",
       " 2,\n",
       " 1,\n",
       " 1,\n",
       " 0,\n",
       " 0,\n",
       " 0,\n",
       " 2,\n",
       " 0,\n",
       " 0,\n",
       " 0,\n",
       " 0,\n",
       " 2,\n",
       " 1,\n",
       " 3,\n",
       " 0,\n",
       " 2,\n",
       " 0,\n",
       " 0,\n",
       " 0,\n",
       " 0,\n",
       " 0,\n",
       " 0,\n",
       " 0,\n",
       " 1,\n",
       " 0,\n",
       " 0,\n",
       " 3,\n",
       " 0,\n",
       " 3,\n",
       " 1,\n",
       " 1,\n",
       " 3,\n",
       " 3,\n",
       " 0,\n",
       " 0,\n",
       " 0,\n",
       " 0,\n",
       " 0,\n",
       " 0,\n",
       " 0,\n",
       " 2,\n",
       " 3,\n",
       " 0,\n",
       " 0,\n",
       " 0,\n",
       " 0,\n",
       " 0,\n",
       " 0,\n",
       " 3,\n",
       " 0,\n",
       " 0,\n",
       " 1,\n",
       " 0,\n",
       " 0,\n",
       " 1,\n",
       " 3,\n",
       " 0,\n",
       " 1,\n",
       " 3,\n",
       " 0,\n",
       " 0,\n",
       " 0,\n",
       " 3,\n",
       " 1,\n",
       " 1,\n",
       " 0,\n",
       " 0,\n",
       " 0,\n",
       " 0,\n",
       " 2,\n",
       " 1,\n",
       " 0,\n",
       " 0,\n",
       " 2,\n",
       " 0,\n",
       " 0,\n",
       " 0,\n",
       " 0,\n",
       " 1,\n",
       " 0,\n",
       " 0,\n",
       " 0,\n",
       " 3,\n",
       " 0,\n",
       " 0,\n",
       " 0,\n",
       " 3,\n",
       " 0,\n",
       " 0,\n",
       " 0,\n",
       " 0,\n",
       " 0,\n",
       " 0,\n",
       " 1,\n",
       " 0,\n",
       " 0,\n",
       " 0,\n",
       " 0,\n",
       " 0,\n",
       " 2,\n",
       " 0,\n",
       " 0,\n",
       " 0,\n",
       " 0,\n",
       " 0,\n",
       " 1,\n",
       " 3,\n",
       " 2,\n",
       " 2,\n",
       " 2,\n",
       " 0,\n",
       " 1,\n",
       " 0,\n",
       " 0,\n",
       " 0,\n",
       " 0,\n",
       " 3,\n",
       " 0,\n",
       " 0,\n",
       " 0,\n",
       " 0,\n",
       " 0,\n",
       " 0,\n",
       " 1,\n",
       " 0,\n",
       " 0,\n",
       " 0,\n",
       " 0,\n",
       " 1,\n",
       " 3,\n",
       " 3,\n",
       " 0,\n",
       " 0,\n",
       " 2,\n",
       " 0,\n",
       " 0,\n",
       " 0,\n",
       " 1,\n",
       " 0,\n",
       " 0,\n",
       " 0,\n",
       " 0,\n",
       " 1,\n",
       " 1,\n",
       " 0,\n",
       " 0,\n",
       " 3,\n",
       " 0,\n",
       " 0,\n",
       " 0,\n",
       " 0,\n",
       " 3,\n",
       " 0,\n",
       " 1,\n",
       " 3,\n",
       " 0,\n",
       " 0,\n",
       " 0,\n",
       " 1,\n",
       " 1,\n",
       " 0,\n",
       " 0,\n",
       " 1,\n",
       " 0,\n",
       " 3,\n",
       " 3,\n",
       " 0,\n",
       " 0,\n",
       " 0,\n",
       " 2,\n",
       " 1,\n",
       " 1,\n",
       " 0,\n",
       " 0,\n",
       " 0,\n",
       " 3,\n",
       " 0,\n",
       " 2,\n",
       " 3,\n",
       " 0,\n",
       " 1,\n",
       " 0,\n",
       " 0,\n",
       " 1,\n",
       " 1,\n",
       " 0,\n",
       " 1,\n",
       " 1,\n",
       " 0,\n",
       " 0,\n",
       " 0,\n",
       " 2,\n",
       " 2,\n",
       " 0,\n",
       " 3,\n",
       " 0,\n",
       " 0,\n",
       " 0,\n",
       " 3,\n",
       " 0,\n",
       " 2,\n",
       " 0,\n",
       " 3,\n",
       " 0,\n",
       " 0,\n",
       " 0,\n",
       " 0,\n",
       " 0,\n",
       " 1,\n",
       " 1,\n",
       " 3,\n",
       " 0,\n",
       " 0,\n",
       " 1,\n",
       " 0,\n",
       " 0,\n",
       " 0,\n",
       " 1,\n",
       " 0,\n",
       " 0,\n",
       " 3,\n",
       " 1,\n",
       " 1,\n",
       " 0,\n",
       " 3,\n",
       " 0,\n",
       " 0,\n",
       " 0,\n",
       " 3,\n",
       " 0,\n",
       " 0,\n",
       " 0,\n",
       " 1,\n",
       " 0,\n",
       " 2,\n",
       " 1,\n",
       " 3,\n",
       " 0,\n",
       " 0,\n",
       " 0,\n",
       " 0,\n",
       " 0,\n",
       " 1,\n",
       " 0,\n",
       " 0,\n",
       " 1,\n",
       " 0,\n",
       " 0,\n",
       " 3,\n",
       " 3,\n",
       " 0,\n",
       " 0,\n",
       " 0,\n",
       " 0,\n",
       " 1,\n",
       " 0,\n",
       " 0,\n",
       " 1,\n",
       " 0,\n",
       " 0,\n",
       " 3,\n",
       " 1,\n",
       " 0,\n",
       " 1,\n",
       " 3,\n",
       " 1,\n",
       " 0,\n",
       " 0,\n",
       " 1,\n",
       " 1,\n",
       " 0,\n",
       " 0,\n",
       " 0,\n",
       " 0,\n",
       " 0,\n",
       " 0,\n",
       " 1,\n",
       " 1,\n",
       " 0,\n",
       " 1,\n",
       " 0,\n",
       " 3,\n",
       " 3,\n",
       " 2,\n",
       " 0,\n",
       " 3,\n",
       " 3,\n",
       " 2,\n",
       " 0,\n",
       " 0,\n",
       " 0,\n",
       " 0,\n",
       " 2,\n",
       " 3,\n",
       " 0,\n",
       " 0,\n",
       " 0,\n",
       " 1,\n",
       " 0,\n",
       " 2,\n",
       " 0,\n",
       " 0,\n",
       " 0,\n",
       " 0,\n",
       " 2,\n",
       " 0,\n",
       " 0,\n",
       " 0,\n",
       " 0,\n",
       " 0,\n",
       " 0,\n",
       " 3,\n",
       " 0,\n",
       " 0,\n",
       " 0,\n",
       " 0,\n",
       " 0,\n",
       " 0,\n",
       " 0,\n",
       " 0,\n",
       " 1,\n",
       " 3,\n",
       " 0,\n",
       " 0,\n",
       " 0,\n",
       " 1,\n",
       " 0,\n",
       " 0,\n",
       " 3,\n",
       " 0,\n",
       " 0,\n",
       " 0,\n",
       " 0,\n",
       " 1,\n",
       " 0,\n",
       " 0,\n",
       " 0,\n",
       " 0,\n",
       " 0,\n",
       " 0,\n",
       " 0,\n",
       " 3,\n",
       " 0,\n",
       " 1,\n",
       " 2,\n",
       " 0,\n",
       " 0,\n",
       " 0,\n",
       " 1,\n",
       " 0,\n",
       " 0,\n",
       " 3,\n",
       " 3,\n",
       " 0,\n",
       " 0,\n",
       " 1,\n",
       " 0,\n",
       " 0,\n",
       " 2,\n",
       " 3,\n",
       " 1,\n",
       " 0,\n",
       " 0,\n",
       " 0,\n",
       " 0,\n",
       " 0,\n",
       " 1,\n",
       " 0,\n",
       " 0,\n",
       " 3,\n",
       " 0,\n",
       " 1,\n",
       " 3,\n",
       " 3,\n",
       " 0,\n",
       " 2,\n",
       " 0,\n",
       " 3,\n",
       " 0,\n",
       " 0,\n",
       " 0,\n",
       " 0,\n",
       " 3,\n",
       " 3,\n",
       " 1,\n",
       " 0,\n",
       " 0,\n",
       " 3,\n",
       " 0,\n",
       " 0,\n",
       " 0,\n",
       " 0,\n",
       " 0,\n",
       " 0,\n",
       " 0,\n",
       " 1,\n",
       " 1,\n",
       " 0,\n",
       " 0,\n",
       " 0,\n",
       " 0,\n",
       " 0,\n",
       " 2,\n",
       " 3,\n",
       " 0,\n",
       " 0,\n",
       " 0,\n",
       " 0,\n",
       " 1,\n",
       " 0,\n",
       " 0,\n",
       " 0,\n",
       " 0,\n",
       " 0,\n",
       " 1,\n",
       " 0,\n",
       " 1,\n",
       " 3,\n",
       " 0,\n",
       " 0,\n",
       " 1,\n",
       " 0,\n",
       " 1,\n",
       " 1,\n",
       " 0,\n",
       " 0,\n",
       " 0,\n",
       " 0,\n",
       " 0,\n",
       " 3,\n",
       " 0,\n",
       " 0,\n",
       " 0,\n",
       " 1,\n",
       " 3,\n",
       " 0,\n",
       " 1,\n",
       " 2,\n",
       " 0,\n",
       " 1,\n",
       " 0,\n",
       " 1,\n",
       " ...]"
      ]
     },
     "execution_count": 161,
     "metadata": {},
     "output_type": "execute_result"
    }
   ],
   "source": [
    "Y_pred_CNN = []\n",
    "\n",
    "for i in y_pred_CNN:\n",
    "    r = np.argmax(i)\n",
    "    Y_pred_CNN.append(r)\n",
    "\n",
    "Y_pred_CNN"
   ]
  },
  {
   "cell_type": "code",
   "execution_count": 162,
   "id": "a29d083e",
   "metadata": {},
   "outputs": [
    {
     "name": "stdout",
     "output_type": "stream",
     "text": [
      "              precision    recall  f1-score   support\n",
      "\n",
      "      benign       0.99      0.97      0.98     86998\n",
      "  defacement       0.99      0.97      0.98     19402\n",
      "    phishing       0.92      0.98      0.95      6106\n",
      "     malware       0.85      0.90      0.88     17733\n",
      "\n",
      "    accuracy                           0.96    130239\n",
      "   macro avg       0.94      0.96      0.95    130239\n",
      "weighted avg       0.96      0.96      0.96    130239\n",
      "\n"
     ]
    },
    {
     "data": {
      "text/plain": [
       "{'Accuracy': 96.34978769800136,\n",
       " 'Precision': 0.9648659897391417,\n",
       " 'Recall': 0.9634978769800137,\n",
       " 'F1-Score': 0.9639838365907117,\n",
       " 'Support': None}"
      ]
     },
     "execution_count": 162,
     "metadata": {},
     "output_type": "execute_result"
    }
   ],
   "source": [
    "result(Y_test_df , Y_pred_CNN)"
   ]
  },
  {
   "cell_type": "code",
   "execution_count": 163,
   "id": "1dba08a2",
   "metadata": {},
   "outputs": [
    {
     "data": {
      "image/png": "[encoded data removed]",
      "text/plain": [
       "<Figure size 576x432 with 2 Axes>"
      ]
     },
     "metadata": {},
     "output_type": "display_data"
    }
   ],
   "source": [
    "create_confusion_metric(Y_test_df , Y_pred_CNN)"
   ]
  },
  {
   "cell_type": "code",
   "execution_count": 165,
   "id": "1bc06c0f",
   "metadata": {},
   "outputs": [
    {
     "data": {
      "text/plain": [
       "dict_keys(['loss', 'accuracy', 'val_loss', 'val_accuracy'])"
      ]
     },
     "execution_count": 165,
     "metadata": {},
     "output_type": "execute_result"
    }
   ],
   "source": [
    "History_CNN.history.keys()"
   ]
  },
  {
   "cell_type": "code",
   "execution_count": 164,
   "id": "234dd95c",
   "metadata": {},
   "outputs": [],
   "source": [
    "acc_CNN = History_CNN.history['accuracy']\n",
    "val_acc_CNN = History_CNN.history['val_accuracy']\n",
    "\n",
    "loss_CNN = History_CNN.history['loss']\n",
    "val_loss_CNN = History_CNN.history['val_loss']"
   ]
  },
  {
   "cell_type": "code",
   "execution_count": 166,
   "id": "19894b23",
   "metadata": {},
   "outputs": [
    {
     "data": {
      "image/png": "[encoded data removed]",
      "text/plain": [
       "<Figure size 720x432 with 2 Axes>"
      ]
     },
     "metadata": {},
     "output_type": "display_data"
    }
   ],
   "source": [
    "EPOCHS = 25\n",
    "\n",
    "plt.figure(figsize=(10, 6))\n",
    "plt.subplot(1, 2, 1)\n",
    "plt.plot(range(EPOCHS), acc_CNN, label='Training Accuracy')\n",
    "plt.plot(range(EPOCHS), val_acc_CNN, label='Validation Accuracy')\n",
    "plt.legend(loc='lower right')\n",
    "plt.title('Training and Validation Accuracy')\n",
    "plt.axis(ymin=0.6,ymax=1) \n",
    "plt.subplot(1, 2, 2)\n",
    "plt.plot(range(EPOCHS), loss_CNN, label='Training Loss')\n",
    "plt.plot(range(EPOCHS), val_loss_CNN, label='Validation Loss')\n",
    "plt.legend(loc='upper right')\n",
    "plt.title('Training and Validation Loss')\n",
    "plt.show()"
   ]
  },
  {
   "cell_type": "code",
   "execution_count": 167,
   "id": "3bece1ec",
   "metadata": {},
   "outputs": [
    {
     "name": "stdout",
     "output_type": "stream",
     "text": [
      "4070/4070 [==============================] - 11s 3ms/step - loss: 0.1118 - accuracy: 0.9635\n"
     ]
    },
    {
     "data": {
      "text/plain": [
       "[0.11183349788188934, 0.9634978771209717]"
      ]
     },
     "execution_count": 167,
     "metadata": {},
     "output_type": "execute_result"
    }
   ],
   "source": [
    "model_CNN.evaluate(X_test_df, Y_test_df)"
   ]
  },
  {
   "cell_type": "code",
   "execution_count": 168,
   "id": "8df2cad9",
   "metadata": {},
   "outputs": [
    {
     "name": "stdout",
     "output_type": "stream",
     "text": [
      "16280/16280 [==============================] - 42s 3ms/step - loss: 0.0989 - accuracy: 0.9666\n"
     ]
    },
    {
     "data": {
      "text/plain": [
       "[0.09890121221542358, 0.9665727615356445]"
      ]
     },
     "execution_count": 168,
     "metadata": {},
     "output_type": "execute_result"
    }
   ],
   "source": [
    "model_CNN.evaluate(X_train_df, Y_train_df)"
   ]
  },
  {
   "cell_type": "code",
   "execution_count": 169,
   "id": "455031b0",
   "metadata": {},
   "outputs": [],
   "source": [
    "model_CNN.save('Models/CNN1D.h5')"
   ]
  }
 ],
 "metadata": {
  "kernelspec": {
   "display_name": "Python 3 (ipykernel)",
   "language": "python",
   "name": "python3"
  },
  "language_info": {
   "codemirror_mode": {
    "name": "ipython",
    "version": 3
   },
   "file_extension": ".py",
   "mimetype": "text/x-python",
   "name": "python",
   "nbconvert_exporter": "python",
   "pygments_lexer": "ipython3",
   "version": "3.9.12"
  }
 },
 "nbformat": 4,
 "nbformat_minor": 5
}
